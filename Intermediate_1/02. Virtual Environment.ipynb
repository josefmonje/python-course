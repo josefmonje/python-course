{
 "cells": [
  {
   "cell_type": "markdown",
   "metadata": {},
   "source": [
    "# 2. Virtual Environment\n",
    "\n",
    "A Virtual Environment is a tool to keep the dependencies required by different projects in separate places, by creating virtual Python environments for them.\n",
    "\n",
    "This has many uses. One of them, for example, is if you want to develop an app using Python 3.5 while also maintaining an app that which requires Python 2.7. It will be possible if you will use a virtual environment without messing up the settings or configuration of each project. Basically, it keeps your global site-packages directory clean and manageable. \n"
   ]
  },
  {
   "cell_type": "markdown",
   "metadata": {},
   "source": [
    "### [__`virtualenv`__](https://virtualenv.pypa.io/en/latest/index.html) \n",
    "It is a tool to create isolated Python environments. It has its own Python binary, dependencies, variables, etc."
   ]
  },
  {
   "cell_type": "markdown",
   "metadata": {},
   "source": [
    "## 2.1 Installation\n",
    "\n"
   ]
  },
  {
   "cell_type": "markdown",
   "metadata": {},
   "source": [
    "### 2.1.1 For Python ver. < 3.3\n",
    "Documentation: https://virtualenv.pypa.io/en/latest/index.html"
   ]
  },
  {
   "cell_type": "markdown",
   "metadata": {},
   "source": [
    "__To install:__\n",
    "   - `pip install virtualenv`\n",
    "\n",
    "__To create a virtual environment:__\n",
    " - `virtualenv -p python virtualenv_name`\n",
    "\n",
    "__To activate your virtual environment: __\n",
    "   - `source virtualenv_name/bin/activate`\n",
    "\n",
    "__To deactivate your virtual environment:__\n",
    "\n",
    "- `deactivate`"
   ]
  },
  {
   "cell_type": "markdown",
   "metadata": {},
   "source": [
    "### 2.1.2 For Python ver. >= 3.3\n",
    "Documentation: https://docs.python.org/3/tutorial/venv.html"
   ]
  },
  {
   "cell_type": "markdown",
   "metadata": {},
   "source": [
    "__To create a virtual environment:__\n",
    " - `python3 -m venv /path/to/new/virtual/environment`\n",
    "\n",
    "__A pyvenv installed script is also provided to make this more convenient:__\n",
    "- `pyvenv /path/to/new/virtual/environment`\n",
    "\n",
    "__To activate your virtual environment: __\n",
    "   - `source virtualenv_name/bin/activate`\n",
    "\n",
    "__To deactivate your virtual environment:__\n",
    "\n",
    "- `deactivate`"
   ]
  },
  {
   "cell_type": "markdown",
   "metadata": {},
   "source": [
    "### 2.1.3 For Anaconda Users (Mac)\n",
    "\n",
    "__To create a virtualenvironment:__ \n",
    " \n",
    "- `conda create -n virtualenv_name python=x.x anaconda`\n",
    "\n",
    "__To activate your virtual environment:__\n",
    "\n",
    "- `source activate your_env_name`\n",
    "\n",
    "__To deactivate your virtual environment:__\n",
    "\n",
    "- `deactivate`"
   ]
  },
  {
   "cell_type": "markdown",
   "metadata": {},
   "source": [
    "## 2.2 `virtualenvwrapper`\n",
    "\n",
    "A [__`virtualenvwrapper`__](http://docs.python-guide.org/en/latest/dev/virtualenvs/#virtualenvwrapper) provides a set of commands which makes working with virtual environments much more pleasant. It also places all your virtual environments in one place.\n",
    "\n",
    "__Features:__\n",
    "> 1. Organizes all of your virtual environments in one place.\n",
    "> 2. Wrappers for managing your virtual environments (create, delete, copy).\n",
    "> 3. Use a single command to switch between environments.\n",
    "> 4. Tab completion for commands that take a virtual environment as argument.\n",
    "> 5. User-configurable hooks for all operations ( see [Per-User Customization](https://virtualenvwrapper.readthedocs.org/en/latest/scripts.html#scripts) )\n",
    ">6. Plugin system for more creating sharable extensions ( see [Extending Virtualenvwrapper](https://virtualenvwrapper.readthedocs.org/en/latest/plugins.html#plugins) ).\n",
    "\n",
    "__NOTE:__ [__`virtualenv`__](https://virtualenv.pypa.io/en/latest/index.html) is a prerequisite. \n"
   ]
  },
  {
   "cell_type": "markdown",
   "metadata": {},
   "source": [
    "__To install (Linux):__\n",
    "   \n",
    "`$ pip install virtualenvwrapper`"
   ]
  },
  {
   "cell_type": "markdown",
   "metadata": {},
   "source": [
    "__Shell Startup:__\n",
    "> Add three lines to your shell startup file (`.bashrc`, `.profile`, etc.) to set the location where the virtual environments should live, the location of your development project directories, and the location of the script installed with this package:\n",
    "\n",
    "`export WORKON_HOME=$HOME/.virtualenvs`\n",
    "\n",
    "`export PROJECT_HOME=$HOME/Devel`\n",
    "\n",
    "`source /usr/local/bin/virtualenvwrapper.sh`\n",
    "\n",
    ">After editing it, reload the startup file (_e.g.,_ `run source ~/.bashrc`)."
   ]
  },
  {
   "cell_type": "markdown",
   "metadata": {},
   "source": [
    "__QuickStart__\n",
    "> 1. Run: `workon`\n",
    "> 2. A list of environments, empty, is printed.\n",
    "> 3. Run: `mkvirtualenv temp`\n",
    "> 4. A new environment, `temp` is created and activated.\n",
    "> 5. Run: `workon`\n",
    "> 6. This time, the temp environment is included."
   ]
  }
 ],
 "metadata": {
  "kernelspec": {
   "display_name": "Python 3",
   "language": "python",
   "name": "python3"
  },
  "language_info": {
   "codemirror_mode": {
    "name": "ipython",
    "version": 3
   },
   "file_extension": ".py",
   "mimetype": "text/x-python",
   "name": "python",
   "nbconvert_exporter": "python",
   "pygments_lexer": "ipython3",
   "version": "3.5.1"
  }
 },
 "nbformat": 4,
 "nbformat_minor": 0
}
