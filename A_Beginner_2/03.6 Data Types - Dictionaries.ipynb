{
 "cells": [
  {
   "cell_type": "markdown",
   "metadata": {},
   "source": [
    "# 3.6 Dictionaries\n",
    "\n",
    "> Dictionaries are Python's built-in associative data type. A dictionary is made of __key-value pairs__ where each key corresponds to a value. Like sets, __dictionaries are unordered__. \n",
    "\n",
    "> A few notes about keys and values: * The key must be immutable and hashable while the value can be of any type. Common examples of keys are tuples, strings and numbers. * A single dictionary can contain keys of varying types and values of varying types.\n",
    "\n",
    "Each key is separated from its value by a colon (`:`), the items are separated by commas, and the whole thing is enclosed in curly braces:"
   ]
  },
  {
   "cell_type": "code",
   "execution_count": null,
   "metadata": {
    "collapsed": true
   },
   "outputs": [],
   "source": [
    "my_dictionary =  {'key1' : 1, 'key2' : 2, 'key3' : 3}"
   ]
  },
  {
   "cell_type": "markdown",
   "metadata": {},
   "source": [
    "The example above is a dictionary called __`my_dictionary`__ with three key-value pairs:\n",
    "\n",
    "- __`'key1'`__ points to the value __`1`__, \n",
    "- __`'key2'`__ points to the value __`2`__, and\n",
    "- __`'key3'`__ points to the value __`3`__\n",
    "\n"
   ]
  },
  {
   "cell_type": "markdown",
   "metadata": {},
   "source": [
    "## Try it yourself: Creating your own dictionary!\n",
    "\n",
    "(1) Create a dictionary and name it __`drink`__\n",
    "\n",
    "(2) Enter the following key-value pairs: \n",
    "- __Key:__ `'Juice'`, __Value:__ `'Orange'`\n",
    "- __Key:__ `'Smoothie'`, __Value:__ `'Chocolate'`\n",
    "- __Key:__ `'Wine'`, __Value:__ `'Red Wine'`\n"
   ]
  },
  {
   "cell_type": "code",
   "execution_count": null,
   "metadata": {
    "collapsed": true
   },
   "outputs": [],
   "source": [
    "# Write your code below\n",
    "\n",
    "\n",
    "\n",
    "\n",
    "\n"
   ]
  },
  {
   "cell_type": "markdown",
   "metadata": {},
   "source": [
    "#### Facts about Dictionaries:\n",
    "\n",
    "- (a) __Keys__ are __unique__ within a dictionary while __values may not be__. \n",
    "- (b) The __values__ of a dictionary __can be of any type__;\n",
    "- (c) The __keys__ must be of an __immutable data type__ such as strings, numbers, or tuples. \n",
    "\n",
    "For example:"
   ]
  },
  {
   "cell_type": "code",
   "execution_count": null,
   "metadata": {
    "collapsed": false
   },
   "outputs": [],
   "source": [
    "my_dictionary = {\n",
    "    'key1': 'value1',\n",
    "     123: 456,\n",
    "    ('key3', 'key4'): 'value3'\n",
    "}"
   ]
  },
  {
   "cell_type": "markdown",
   "metadata": {},
   "source": [
    "- (d) No duplicate key is allowed. When duplicate keys encountered during assignment, the last assignment wins.\n",
    "\n",
    "For example:"
   ]
  },
  {
   "cell_type": "code",
   "execution_count": null,
   "metadata": {
    "collapsed": false
   },
   "outputs": [],
   "source": [
    "# Run the code to see the result\n",
    "my_dictionary = {\n",
    "    'Name':'John',\n",
    "    'Age':35,\n",
    "    'Name': 'Bob'\n",
    "}\n",
    "\n",
    "my_dictionary['Name']"
   ]
  },
  {
   "cell_type": "markdown",
   "metadata": {},
   "source": [
    "An empty dictionary without any items is written either with just two curly braces or we may also use the __`dict()`__ class, like this:"
   ]
  },
  {
   "cell_type": "code",
   "execution_count": null,
   "metadata": {
    "collapsed": true
   },
   "outputs": [],
   "source": [
    "dictionary1 = {}\n",
    "dictionary2 = dict()"
   ]
  },
  {
   "cell_type": "markdown",
   "metadata": {},
   "source": [
    "Dictionaries are useful for things like phone books (pairing a name with a phone number), login pages like pairing a username with a password, and lots more.\n",
    "\n",
    "## 3.6.1 Accessing Values in a Dictionary\n",
    "\n",
    "To access dictionary elements, you can use the familiar square brackets along with the key to obtain its value. "
   ]
  },
  {
   "cell_type": "code",
   "execution_count": null,
   "metadata": {
    "collapsed": true
   },
   "outputs": [],
   "source": [
    "my_dictionary = {'Name': 'Eric', 'Age': 22}\n",
    "\n",
    "my_dictionary['Name']"
   ]
  },
  {
   "cell_type": "markdown",
   "metadata": {},
   "source": [
    "In Python 3.x, when checking whether a key exists in a dictionary, the membership operator `in` can be used:"
   ]
  },
  {
   "cell_type": "code",
   "execution_count": null,
   "metadata": {
    "collapsed": false
   },
   "outputs": [],
   "source": [
    "if 'Name' in my_dictionary:\n",
    "    print(my_dictionary['Name'])\n",
    "else:\n",
    "    print(\"No such key\")"
   ]
  },
  {
   "cell_type": "markdown",
   "metadata": {},
   "source": [
    "In Python 2.x, to check for dictionary keys, a dictionary method `has_key()` is available:"
   ]
  },
  {
   "cell_type": "code",
   "execution_count": null,
   "metadata": {
    "collapsed": false
   },
   "outputs": [],
   "source": [
    "if my_dictionary.has_key('Name'):  # only works in Python 2.x\n",
    "    print(my_dictionary['Name'])\n",
    "else:\n",
    "    print(\"No such key\")"
   ]
  },
  {
   "cell_type": "markdown",
   "metadata": {},
   "source": [
    "## Try it yourself: Accessing values in a dictionary\n",
    "\n",
    "In the __`employee_info`__ dictionary, access the address of the employee.\n"
   ]
  },
  {
   "cell_type": "code",
   "execution_count": null,
   "metadata": {
    "collapsed": true
   },
   "outputs": [],
   "source": [
    "employee_info = {'Name': 'Taro Noguchi',\n",
    "               'Designation': 'CEO',\n",
    "               'Employee Number': 12345678,\n",
    "               'Address': 'C2 Building, 7th Ave. Corner 28th St., BGC Taguig'}\n",
    "\n",
    "# Write your code below:\n",
    "\n",
    "\n",
    "\n"
   ]
  },
  {
   "cell_type": "markdown",
   "metadata": {},
   "source": [
    "## 3.6.2 Adding New Entries\n",
    "\n",
    "Dictionaries are \"mutable\" which means they can be changed after they are created. We can add new key/value pairs to the dictionary. \n",
    "\n",
    "Here's the syntax:"
   ]
  },
  {
   "cell_type": "code",
   "execution_count": null,
   "metadata": {
    "collapsed": true
   },
   "outputs": [],
   "source": [
    "dict_name[new_key] = new_value"
   ]
  },
  {
   "cell_type": "markdown",
   "metadata": {},
   "source": [
    "Now, see the example below on how to add a new key-value pair in our existing dictionary:"
   ]
  },
  {
   "cell_type": "code",
   "execution_count": null,
   "metadata": {
    "collapsed": false
   },
   "outputs": [],
   "source": [
    "# Our existing dictionary:\n",
    "my_dictionary = {'Name': 'Eric', 'Age':22}\n",
    "\n",
    "# We added a new key-value pair:\n",
    "my_dictionary['Gender']='Male'\n",
    "\n",
    "# Let's see our updated dictionary. Run the code\n",
    "my_dictionary"
   ]
  },
  {
   "cell_type": "markdown",
   "metadata": {},
   "source": [
    "Here's another example:"
   ]
  },
  {
   "cell_type": "code",
   "execution_count": null,
   "metadata": {
    "collapsed": true
   },
   "outputs": [],
   "source": [
    "# A dictionary of food and its prices\n",
    "food = { \n",
    "    'Pizza': 50,\n",
    "    'Spaghetti': 150,\n",
    "    'Ramen': 180,\n",
    "    'Garlic Bread': 40,\n",
    "    'Carbonara': 150\n",
    "}\n",
    "\n",
    "# Add more food\n",
    "food['Burger'] = 120\n",
    "food['Ham and Cheese sandwich'] = 80\n",
    "\n",
    "# Run the code to see our updated dictionary\n",
    "food"
   ]
  },
  {
   "cell_type": "markdown",
   "metadata": {},
   "source": [
    "## Try it yourself! \n",
    "\n",
    "(1) Add a new key value pair in the `Pokemon` dictionary.\n",
    "- Key: `Squirtle`; Value: `Water`\n",
    "- Key: `Onix`; Value: `Rock`\n",
    "- Key: `Spearow`; Value: `Flying`\n",
    "- Key: `Horsey`; Value: `Water`\n",
    "\n",
    "(2) Display the updated dictionary\n"
   ]
  },
  {
   "cell_type": "code",
   "execution_count": null,
   "metadata": {
    "collapsed": true
   },
   "outputs": [],
   "source": [
    "Pokemon = {'Pikachu': 'Electric',\n",
    "           'Bulbasaur': 'Grass',\n",
    "           'Togepi': 'Fairy',\n",
    "           'Charmander': 'Fire'\n",
    "          }\n",
    "\n",
    "# Write your code below\n",
    "\n",
    "\n",
    "\n",
    "\n",
    "    "
   ]
  },
  {
   "cell_type": "markdown",
   "metadata": {},
   "source": [
    "## 3.6.3 Changing the Entries\n",
    "\n",
    "A new value can be associated with a key by assigning a value to the key."
   ]
  },
  {
   "cell_type": "code",
   "execution_count": null,
   "metadata": {
    "collapsed": false
   },
   "outputs": [],
   "source": [
    "# Syntax\n",
    "dict_name[key] = new_value"
   ]
  },
  {
   "cell_type": "code",
   "execution_count": null,
   "metadata": {
    "collapsed": false
   },
   "outputs": [],
   "source": [
    "# A dictionary of countries and its abbreviation\n",
    "country = {\n",
    "    'Philippines': 'PH',\n",
    "    'Japan': 'JP',\n",
    "    'Korea': 'KR',\n",
    "    'United States of America': 'USA',\n",
    "    'France': 'IT'\n",
    "}\n",
    "\n",
    "# Change the value of 'France'\n",
    "country['France'] = 'FR'\n",
    "\n",
    "country['France']"
   ]
  },
  {
   "cell_type": "markdown",
   "metadata": {},
   "source": [
    "## Try it yourself: Changing dictionary entries\n",
    "\n",
    "(1) Change the value of the key __`mobile`__ from __`1234`__ to __`9157222768`__ in the dictionary __`phone_numbers`__. \n",
    "\n",
    "(2) Display the new value of the key `mobile`"
   ]
  },
  {
   "cell_type": "code",
   "execution_count": null,
   "metadata": {
    "collapsed": true
   },
   "outputs": [],
   "source": [
    "phone_numbers = {'work': 9178837261,\n",
    "                 'home': 4557677,\n",
    "                 'mobile': 1234,\n",
    "                 'fax': 4556388\n",
    "                 }\n",
    "                 \n",
    "# Write your code below\n",
    "\n",
    "\n",
    "    \n",
    "    "
   ]
  },
  {
   "cell_type": "markdown",
   "metadata": {},
   "source": [
    "## 3.6.4 Deleting Entries\n",
    "\n",
    "Items can be removed from a dictionary with the __`del`__ statement.\n",
    "\n",
    "Here's the syntax:"
   ]
  },
  {
   "cell_type": "code",
   "execution_count": null,
   "metadata": {
    "collapsed": false
   },
   "outputs": [],
   "source": [
    "del dict_name[key_name]"
   ]
  },
  {
   "cell_type": "markdown",
   "metadata": {},
   "source": [
    "The example above will remove the key __`key_name`__ AND it's associated value from the dictionary."
   ]
  },
  {
   "cell_type": "code",
   "execution_count": null,
   "metadata": {
    "collapsed": true
   },
   "outputs": [],
   "source": [
    "food = { \n",
    "    'Pizza': 50,\n",
    "    'Spaghetti': 150,\n",
    "    'Ramen': 180,\n",
    "    'Garlic Bread': 40,\n",
    "    'Carbonara': 150\n",
    "}\n",
    "\n",
    "# Delete the key 'Garlic Bread' along with its value\n",
    "del food['Garlic Bread']\n",
    "\n",
    "food"
   ]
  },
  {
   "cell_type": "markdown",
   "metadata": {},
   "source": [
    "## Try it yourself: Deleting entries\n",
    "\n",
    "(1) In the dictionary __`books`__, delete the key __`John Green`__ along with its value.\n",
    "\n",
    "(2) Display the updated dictionary"
   ]
  },
  {
   "cell_type": "code",
   "execution_count": null,
   "metadata": {
    "collapsed": true
   },
   "outputs": [],
   "source": [
    "books = {'Jojo Moyes': 'Me Before You',\n",
    "        'J.K. Rowling': 'Harry Potter and the Cursed Child',\n",
    "        'John Green': 'Looking for Alaska',\n",
    "        'Junot Diaz': 'This is How You Lose Her'}\n",
    "\n",
    "# Write your code below:\n",
    "\n",
    "\n",
    "\n"
   ]
  },
  {
   "cell_type": "markdown",
   "metadata": {},
   "source": [
    "## 3.6.5 Other methods\n",
    "\n",
    "### `len()`\n",
    "\n",
    "The length of a dictionary is the number of key-value pairs it has. Each pair counts only __once__, even if the value is a list."
   ]
  },
  {
   "cell_type": "code",
   "execution_count": null,
   "metadata": {
    "collapsed": false
   },
   "outputs": [],
   "source": [
    "# Run the code to see how len() works\n",
    "\n",
    "my_dictionary = {'Name': 'Eric', 'Age': 22}\n",
    "\n",
    "len(my_dictionary)"
   ]
  },
  {
   "cell_type": "markdown",
   "metadata": {},
   "source": [
    "## Try it yourself: `len()`\n",
    "\n",
    "Display the length of the dictionary __`random_numbers`__"
   ]
  },
  {
   "cell_type": "code",
   "execution_count": null,
   "metadata": {
    "collapsed": true
   },
   "outputs": [],
   "source": [
    "random_numbers = {'a': 44, 'b': 42, 'd': 56, 'm': 13, 'c': 23,'e': 17, 'o': 39, 't': 98, 'y': 12, 'x': 67}, \n",
    "\n",
    "# Write your code below:\n",
    "\n",
    "\n",
    "\n"
   ]
  },
  {
   "cell_type": "markdown",
   "metadata": {},
   "source": [
    "### `str()`\n",
    "\n",
    "Produces a printable string representation of a dictionary."
   ]
  },
  {
   "cell_type": "code",
   "execution_count": null,
   "metadata": {
    "collapsed": false
   },
   "outputs": [],
   "source": [
    "# Run the code to see how str() works\n",
    "\n",
    "my_dictionary = {'Name': 'Eric', 'Age': 22}\n",
    "\n",
    "str(my_dictionary) # prints the equivalent string"
   ]
  },
  {
   "cell_type": "markdown",
   "metadata": {},
   "source": [
    "## Try it yourself: `str()`\n",
    "\n",
    "Display a printable string representation of dictionary __`random_numbers`__"
   ]
  },
  {
   "cell_type": "code",
   "execution_count": null,
   "metadata": {
    "collapsed": true
   },
   "outputs": [],
   "source": [
    "random_numbers = {'a': 44, 'b': 42, 'd': 56, 'm': 13, 'c': 23,'e': 17, 'o': 39, 't': 98, 'y': 12, 'x': 67}, \n",
    "\n",
    "# Write your code below:\n",
    "\n",
    "\n",
    "\n"
   ]
  },
  {
   "cell_type": "markdown",
   "metadata": {},
   "source": [
    "### `dict.items()`\n",
    "\n",
    "Returns list of the dictonary's key-value pairs.\n",
    "\n",
    "- `dict.iteritems()` in Python 2.x"
   ]
  },
  {
   "cell_type": "code",
   "execution_count": null,
   "metadata": {
    "collapsed": false
   },
   "outputs": [],
   "source": [
    "my_dictionary = {'Name': 'Eric', 'Age': 22}\n",
    "\n",
    "dict.items(my_dictionary) or my_dictionary.items()  # my_dictionary.iteritems() in Python 2.x"
   ]
  },
  {
   "cell_type": "markdown",
   "metadata": {},
   "source": [
    "### `dict.keys()`\n",
    "\n",
    "Returns list of the dictonary's keys.\n",
    "\n",
    "- `dict.iterkeys()` in Python 2.x"
   ]
  },
  {
   "cell_type": "code",
   "execution_count": null,
   "metadata": {
    "collapsed": false
   },
   "outputs": [],
   "source": [
    "my_dictionary = {'Name': 'Eric', 'Age': 22}\n",
    "\n",
    "dict.keys(my_dictionary) or my_dictionary.keys()  # my_dictionary.iterkeys() in Python 2.x"
   ]
  },
  {
   "cell_type": "markdown",
   "metadata": {},
   "source": [
    "### `dict.values()`\n",
    "\n",
    "Returns a list of the dictionary's values.\n",
    "\n",
    "- `dict.itervalues()` in Python 2.x"
   ]
  },
  {
   "cell_type": "code",
   "execution_count": null,
   "metadata": {
    "collapsed": false
   },
   "outputs": [],
   "source": [
    "my_dictionary = {'Name': 'Eric', 'Age': 22}\n",
    "\n",
    "dict.values(my_dictionary) or my_dictionary.values()  # my_dictionary.itervalues() in Python 2.x"
   ]
  },
  {
   "cell_type": "markdown",
   "metadata": {},
   "source": [
    "## Notes\n",
    "\n",
    "A dictionary is also known as \"Key-value pair\", \"Associate Array\", \"Map\", \"Hash Map\",  or \"Unordered Map\".\n",
    "\n",
    "> The conceptual implementation of a dictionary is that of a hash table, meaning, checks for existence are quite fast. We can determine if a specific key is present in the dictionary without needing to examine every element (which gets slower as the dictionary gets bigger). The Python interpreter can just go to the location key \"should be\" at (if it's in the dictionary) and see if key is actually there.\n",
    "\n",
    "## Exercise\n",
    "\n",
    "(1) Create an empty dictionary. Name it `my_dict`.\n",
    "\n",
    "(2) Add a new key: __`Red`__, and its value should be __`Apple`__.\n",
    "\n",
    "(3) Add another key: __`Yellow`__, with a value __`Banana`__.\n",
    "\n",
    "(4) Add the last key: __`Purple`__, with a value __`Grapes`__.\n",
    "\n",
    "(5) Print how many fruits are there in the dictionary. Output should be like this: __`There are 3 items on the menu.`__"
   ]
  },
  {
   "cell_type": "code",
   "execution_count": null,
   "metadata": {
    "collapsed": true
   },
   "outputs": [],
   "source": [
    "# Write your code below:\n",
    "\n",
    "\n",
    "\n",
    "\n",
    "\n",
    "\n",
    "\n",
    "\n",
    "\n"
   ]
  }
 ],
 "metadata": {
  "kernelspec": {
   "display_name": "Python 3",
   "language": "python",
   "name": "python3"
  },
  "language_info": {
   "codemirror_mode": {
    "name": "ipython",
    "version": 3
   },
   "file_extension": ".py",
   "mimetype": "text/x-python",
   "name": "python",
   "nbconvert_exporter": "python",
   "pygments_lexer": "ipython3",
   "version": "3.5.1"
  }
 },
 "nbformat": 4,
 "nbformat_minor": 0
}
