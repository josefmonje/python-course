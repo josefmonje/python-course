{
 "cells": [
  {
   "cell_type": "markdown",
   "metadata": {},
   "source": [
    "# 02. Variables\n",
    "\n",
    "Variables are reserved memory locations to store values. Every variable in Python is an object."
   ]
  },
  {
   "cell_type": "code",
   "execution_count": null,
   "metadata": {
    "collapsed": false
   },
   "outputs": [],
   "source": [
    "# The equal sign (=) is used to assign values to variables.\n",
    "# Run the code\n",
    "\n",
    "a = 'Apple'\n",
    "b = 'Orange'\n",
    "\n",
    "print(a)\n",
    "print(b)"
   ]
  },
  {
   "cell_type": "markdown",
   "metadata": {},
   "source": [
    "#### Exercise: \n",
    "\n",
    "(1) Create a variable named \"__`c`__\" and assign the value 'Grapes'\n",
    "\n",
    "(2) Print __`c`__"
   ]
  },
  {
   "cell_type": "code",
   "execution_count": null,
   "metadata": {
    "collapsed": true
   },
   "outputs": [],
   "source": [
    "# Write your code below\n",
    "\n",
    "\n",
    "\n",
    "    "
   ]
  },
  {
   "cell_type": "markdown",
   "metadata": {},
   "source": [
    "## 2.1 Identifier Naming Rules\n",
    "\n",
    "- (a) Variables names must start with a letter or an underscore, such as:\n",
    "    - variable\n",
    "    - _variable\n",
    "\n",
    "\n",
    "- (b) The remainder of your variable name may consist of letters, numbers, and underscores.\n",
    "    - password\n",
    "    - variable1\n",
    "    - first_name\n",
    "\n",
    "\n",
    "- (c) Names are case sensitive. The examples below are each, a different variable:\n",
    "    - case_sensitive\n",
    "    - CASE_SENSITIVE\n",
    "    - case_Sensitive \n",
    "\n",
    "__NOTE__: Avoid abbreviating variable names.\n",
    "\n",
    "> When you see a variable called __`balance_sheet_decrease`__, it’s much easier to interpret in your mind than an abbreviated variable like __`bsd`__ or __`bal_s_d`__.\n",
    "\n",
    ">These types of shortcuts may save a few seconds of typing, but that savings comes at the expense of hours or days of technical debt. It’s not worth it.\n",
    "\n",
    "## 2.2 Reserved Words\n",
    "\n",
    "The following identifiers are used as reserved words, or keywords of the language, and __cannot__ be used as ordinary identifiers. They must be spelled exactly as written here:"
   ]
  },
  {
   "cell_type": "code",
   "execution_count": null,
   "metadata": {
    "collapsed": false
   },
   "outputs": [],
   "source": [
    "False      class      finally    is         return\n",
    "None       continue   for        lambda     try\n",
    "True       def        from       nonlocal   while\n",
    "and        del        global     not        with\n",
    "as         elif       if         or         yield\n",
    "assert     else       import     pass\n",
    "break      except     in         raise"
   ]
  },
  {
   "cell_type": "markdown",
   "metadata": {},
   "source": [
    "## 2.3 Naming Conventions\n",
    "\n",
    "> Understandable code frees mental bandwidth from having to puzzle out inconsistencies, making it easier to maintain and enhance projects of all sizes.\n",
    "\n",
    "\n",
    "1. Readability is very important.\n",
    "2. Descriptive names are very useful\n",
    "3. Avoid using the lowercase letter ‘l’, uppercase ‘O’, and uppercase ‘I’. Why? Because the l and the I look a lot like each other and the number 1. And O looks a lot like 0.\n",
    "\n",
    "## 2.4 Multiple Assignment\n",
    "\n",
    "Python allows you to assign a single value to several variables simultaneously."
   ]
  },
  {
   "cell_type": "code",
   "execution_count": null,
   "metadata": {
    "collapsed": false
   },
   "outputs": [],
   "source": [
    "# In this example, all 3 objects are assigned to the same memory location.\n",
    "# Run the code\n",
    "\n",
    "a = b = c = 1\n",
    "\n",
    "print(a)\n",
    "print(b)\n",
    "print(c)"
   ]
  },
  {
   "cell_type": "markdown",
   "metadata": {},
   "source": [
    "### 2.4.1 Re-assigning of Variables\n",
    "\n",
    "Python also allows assignment of multiple variables simultaneously."
   ]
  },
  {
   "cell_type": "code",
   "execution_count": null,
   "metadata": {
    "collapsed": false
   },
   "outputs": [],
   "source": [
    "# In this example, multiple variables are assigned then switched\n",
    "# Run the code\n",
    "\n",
    "a, b = 1, \"2\"\n",
    "a, b = b, a\n",
    "\n",
    "print(a)\n",
    "print(b)"
   ]
  },
  {
   "cell_type": "markdown",
   "metadata": {},
   "source": [
    "## Try it yourself! \n",
    "\n",
    "- (1) Create a variable `x` and assign the value `'red'`\n",
    "- (2) Create another variable `y`, and assign the value `'yellow'`\n",
    "- (3) Switch the value of `y` to `'red'` and print the result.\n"
   ]
  },
  {
   "cell_type": "code",
   "execution_count": null,
   "metadata": {
    "collapsed": false
   },
   "outputs": [],
   "source": [
    "# Write your code below\n",
    "\n",
    "\n",
    "\n"
   ]
  },
  {
   "cell_type": "markdown",
   "metadata": {},
   "source": [
    "## 2.5 [Comparison Chaining](https://docs.python.org/3.5/reference/expressions.html#comparisons) \n",
    "\n",
    "\n",
    "All comparison operations in Python have the same priority, which is lower than that of any arithmetic, shifting or bitwise operation. \n",
    "\n",
    "Comparisons yield boolean values: True or False.\n",
    "\n",
    "Comparisons can be chained arbitrarily, e.g., __`x < y <= z`__ is equivalent to __`x < y`__ and __`y <= z`__, except that __`y`__ is evaluated only once (but in both cases __`z`__ is not evaluated at all when __`x < y`__ is found to be false).\n",
    "\n",
    "![Beginner_2](./images/img_comparison_chaining.png)\n"
   ]
  },
  {
   "cell_type": "code",
   "execution_count": null,
   "metadata": {
    "collapsed": false
   },
   "outputs": [],
   "source": [
    "# For example\n",
    "# Run the code below\n",
    "\n",
    "x = 10\n",
    "y = 9\n",
    "z = 9\n",
    "\n",
    "print(x < y <= z)\n",
    "\n"
   ]
  },
  {
   "cell_type": "markdown",
   "metadata": {},
   "source": [
    "## Summary\n",
    "\n",
    "Today, you have learned about Python variables.\n",
    "Remember:\n",
    "\n",
    "> Python variables are nothing but reserved memory locations to store values. This means that when you create a variable you reserve some space in memory.\n",
    "\n",
    "> Based on the data type of a variable, the interpreter allocates memory and decides what can be stored in the reserved memory. Therefore, by assigning different data types to variables, you can store integers, decimals or characters in these variables."
   ]
  }
 ],
 "metadata": {
  "kernelspec": {
   "display_name": "Python 3",
   "language": "python",
   "name": "python3"
  },
  "language_info": {
   "codemirror_mode": {
    "name": "ipython",
    "version": 3
   },
   "file_extension": ".py",
   "mimetype": "text/x-python",
   "name": "python",
   "nbconvert_exporter": "python",
   "pygments_lexer": "ipython3",
   "version": "3.5.1"
  }
 },
 "nbformat": 4,
 "nbformat_minor": 0
}
