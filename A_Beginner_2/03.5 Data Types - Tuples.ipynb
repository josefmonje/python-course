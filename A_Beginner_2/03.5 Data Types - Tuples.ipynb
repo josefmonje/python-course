{
 "cells": [
  {
   "cell_type": "markdown",
   "metadata": {},
   "source": [
    "# 3.5 Tuples\n",
    "\n",
    "A tuple is a sequence of __immutable__ Python objects. By __immutable__, it means that tuples __CANNOT__ be changed once created. They hold an __ordered__ collection of values which can be of any type.\n",
    "\n",
    "- Tuples are sequences, just like lists. The difference between tuples and lists is, as mentioned above, tuples cannot be changed unlike lists. Also, tuples use parentheses whereas lists use square brackets.\n",
    "\n",
    "- Tuples can be expanded into variables easily. In assigning values, you may also ommit the paretheses. \n",
    "\n",
    "See examples below:"
   ]
  },
  {
   "cell_type": "code",
   "execution_count": null,
   "metadata": {
    "collapsed": false
   },
   "outputs": [],
   "source": [
    "tuple1 = ('apple', 'banana', 2012, 1993)\n",
    "tuple2 = (1, 2, 3, 4, 5 )\n",
    "tuple3 = \"a\", \"b\", \"c\", \"d\""
   ]
  },
  {
   "cell_type": "markdown",
   "metadata": {},
   "source": [
    "You may create an empty tuple like this:"
   ]
  },
  {
   "cell_type": "code",
   "execution_count": null,
   "metadata": {
    "collapsed": true
   },
   "outputs": [],
   "source": [
    "tuple1 = ()"
   ]
  },
  {
   "cell_type": "markdown",
   "metadata": {},
   "source": [
    "To write a tuple containing a single value you have to include a comma, even though there is only one value:"
   ]
  },
  {
   "cell_type": "code",
   "execution_count": null,
   "metadata": {
    "collapsed": true
   },
   "outputs": [],
   "source": [
    "tuple1 = (50,)"
   ]
  },
  {
   "cell_type": "markdown",
   "metadata": {},
   "source": [
    "Like string indices, tuple indices start at 0, and they can be sliced, concatenated, and so on.\n",
    "\n",
    "## Try it yourself! \n",
    "\n",
    "Create a tuple named __`sample_tuple`__ and assign the values: `Pikachu, Jigglypuff, Psyduck,` and `Ratata`"
   ]
  },
  {
   "cell_type": "code",
   "execution_count": null,
   "metadata": {
    "collapsed": true
   },
   "outputs": [],
   "source": [
    "# Write your code below\n",
    "\n",
    "\n",
    "\n"
   ]
  },
  {
   "cell_type": "markdown",
   "metadata": {},
   "source": [
    "\n",
    "## 3.5.1 Accessing Values in a Tuple\n",
    "\n",
    "In accessing values in a tuple, it is also similar to other data types such as lists. Use the square brackets for slicing along with the index or indices to obtain value available at that index.\n",
    "\n",
    "Run the examples below:"
   ]
  },
  {
   "cell_type": "code",
   "execution_count": null,
   "metadata": {
    "collapsed": false
   },
   "outputs": [],
   "source": [
    "tuple1 = ('P','y','t','h','o','n')\n",
    "\n",
    "tuple1[0]"
   ]
  },
  {
   "cell_type": "code",
   "execution_count": null,
   "metadata": {
    "collapsed": false
   },
   "outputs": [],
   "source": [
    "tuple1 = ('P','y','t','h','o','n')\n",
    "\n",
    "tuple1[0:3]"
   ]
  },
  {
   "cell_type": "markdown",
   "metadata": {},
   "source": [
    "## Try it yourself: Accessing values in a Tuple\n",
    "\n",
    "Access and `print` the value 'Pokemon' in the tuple below."
   ]
  },
  {
   "cell_type": "code",
   "execution_count": null,
   "metadata": {
    "collapsed": true
   },
   "outputs": [],
   "source": [
    "anime = (\"Bleach\", \"Dragon Ball Z\", \"Naruto\", \"Pokemon\", \"Doraemon\")\n",
    "\n",
    "# Write your code below:\n",
    "\n",
    "\n"
   ]
  },
  {
   "cell_type": "markdown",
   "metadata": {},
   "source": [
    "## 3.5.2 Methods\n",
    "\n",
    "Since tuples are immutable (cannot be changed), there are fewer methods available.\n",
    "\n",
    "### `len()`\n",
    "\n",
    "> The method `len()` returns the number of elements in the tuple.\n",
    "\n",
    "For example:"
   ]
  },
  {
   "cell_type": "code",
   "execution_count": null,
   "metadata": {
    "collapsed": true
   },
   "outputs": [],
   "source": [
    "# Run the Code\n",
    "my_tuple = (1, 2, 3, 4, 5)\n",
    "\n",
    "len(my_tuple)"
   ]
  },
  {
   "cell_type": "markdown",
   "metadata": {},
   "source": [
    "## Try it yourself: `len()`\n",
    "\n",
    "Display the number of elements in tuple `random_integers`:"
   ]
  },
  {
   "cell_type": "code",
   "execution_count": null,
   "metadata": {
    "collapsed": true
   },
   "outputs": [],
   "source": [
    "random_integers = (89, 41, 22, 12, 67, 96, 53, 36, 17, 19, 44,\\\n",
    "                   69, 33, 82, 5, 35, 72, 25, 68, 56, 8, 40, 43,\\\n",
    "                   83, 59, 51, 20, 47, 77, 99, 90, 91, 2, 37, 95,\\\n",
    "                   78, 87, 100, 30, 27)\n",
    "\n",
    "# Write your code below\n",
    "\n",
    "\n"
   ]
  },
  {
   "cell_type": "markdown",
   "metadata": {
    "collapsed": true
   },
   "source": [
    "### `count()`\n",
    "\n",
    "> The method `count()` returns count of how many times the `obj` occurs in tuple.\n",
    "\n",
    "For example:"
   ]
  },
  {
   "cell_type": "code",
   "execution_count": null,
   "metadata": {
    "collapsed": true
   },
   "outputs": [],
   "source": [
    "# Run the code\n",
    "my_tuple = ('apple', 'banana', 'apple', 'orange','banana');\n",
    "\n",
    "my_tuple.count('apple')"
   ]
  },
  {
   "cell_type": "markdown",
   "metadata": {},
   "source": [
    "## Try it yourself: `count()`\n",
    "\n",
    "Display how many times `23` occured in the tuple."
   ]
  },
  {
   "cell_type": "code",
   "execution_count": null,
   "metadata": {
    "collapsed": true
   },
   "outputs": [],
   "source": [
    "random_integers2 = (34, 60, 80, 69, 83, 6, 87, 51, 27,\n",
    "                     11, 26, 30, 93, 18, 76, 74, 66, 33,\n",
    "                     55, 14, 23, 10, 61, 63, 73, 72, 52,\n",
    "                     47, 15, 28, 78, 67, 71, 46, 1, 89, 13,\n",
    "                     3, 35, 5, 54, 84, 25, 95, 94, 42, 96,\n",
    "                     49, 31, 59)\n",
    "\n",
    "# Write your code below:\n",
    "\n",
    "\n",
    "\n",
    "\n"
   ]
  },
  {
   "cell_type": "markdown",
   "metadata": {},
   "source": [
    "Print how many lowercase 'a' are there in the tuple named `letter_a`."
   ]
  },
  {
   "cell_type": "code",
   "execution_count": null,
   "metadata": {
    "collapsed": false
   },
   "outputs": [],
   "source": [
    "letter_a = ('a','a','d','c','a','o','q','a','d','a','q','d','q','a')\n",
    "\n",
    "# Write your code below:\n",
    "\n",
    "\n",
    "\n"
   ]
  },
  {
   "cell_type": "markdown",
   "metadata": {},
   "source": [
    "### `index()`\n",
    "\n",
    "> The method `index()` returns the __lowest index__ in a tuple that the `obj` appears.\n",
    "\n",
    "For example:"
   ]
  },
  {
   "cell_type": "code",
   "execution_count": null,
   "metadata": {
    "collapsed": true
   },
   "outputs": [],
   "source": [
    "# Run the code\n",
    "my_tuple = ('apple', 'banana', 'apple', 'orange','banana');\n",
    "\n",
    "my_tuple.index('banana')"
   ]
  },
  {
   "cell_type": "markdown",
   "metadata": {},
   "source": [
    "## Try it yourself: `index()`\n",
    "\n",
    "Display on which index did `88` appeared."
   ]
  },
  {
   "cell_type": "code",
   "execution_count": null,
   "metadata": {
    "collapsed": true
   },
   "outputs": [],
   "source": [
    "random_integers3 = (28, 85, 63, 49, 97, 54, 52, 70,\n",
    "                    15, 71, 53, 100, 34, 32, 7, 44,\n",
    "                    78, 17, 57, 55, 91, 47, 31, 22,\n",
    "                    11, 67, 2, 4, 88, 64, 27, 75, 79,\n",
    "                    87, 99, 26, 39, 20, 3, 45, 93, 19,\n",
    "                    84, 82, 35, 6, 62, 14, 58, 36)\n",
    "\n",
    "# Write your code below\n",
    "\n",
    "\n",
    "\n"
   ]
  }
 ],
 "metadata": {
  "kernelspec": {
   "display_name": "Python 3",
   "language": "python",
   "name": "python3"
  },
  "language_info": {
   "codemirror_mode": {
    "name": "ipython",
    "version": 3
   },
   "file_extension": ".py",
   "mimetype": "text/x-python",
   "name": "python",
   "nbconvert_exporter": "python",
   "pygments_lexer": "ipython3",
   "version": "3.5.1"
  }
 },
 "nbformat": 4,
 "nbformat_minor": 0
}
