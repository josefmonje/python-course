{
 "cells": [
  {
   "cell_type": "markdown",
   "metadata": {},
   "source": [
    "# 3.2 Numbers\n",
    "\n",
    "Number data types store numeric values. They are immutable data types, means that changing the value of a number data type results in a newly allocated object.\n",
    "\n",
    "Number objects are created when you assign a value to them:"
   ]
  },
  {
   "cell_type": "code",
   "execution_count": null,
   "metadata": {
    "collapsed": true
   },
   "outputs": [],
   "source": [
    "var1 = 1\n",
    "var2 = 10"
   ]
  },
  {
   "cell_type": "markdown",
   "metadata": {},
   "source": [
    "## 3.2.1 Numeric Types\n",
    "\n",
    "#### a. int (signed integers)\n",
    "\n",
    "They are often called just integers or ints, are positive or negative whole numbers with __NO__ decimal point.\n",
    "\n",
    "#### b. long (long integers)\n",
    "\n",
    "Also called longs, they are integers of unlimited size, written like integers and followed by an uppercase or lowercase L.\n",
    "\n",
    "#### c. float (floating point real values) \n",
    "\n",
    "Also called floats, they represent real numbers and are written with a decimal point dividing the integer and fractional parts. Floats may also be in scientific notation, with E or e indicating the power of 10 (2.5e2 = 2.5 x 102 = 250).\n",
    "\n",
    "#### d. complex (complex numbers) \n",
    "\n",
    "Complex numbers are of the form a + bJ, where a and b are floats and J (or j) represents the square root of -1 (which is an imaginary number). The real part of the number is a, and the imaginary part is b. Complex numbers are not used much in Python programming.\n",
    "\n",
    "![Beginner_2](./images/img_numeric_types.png)\n",
    "\n",
    "## 3.2.2 min( )\n",
    "\n",
    "- The smallest of its arguments: the value closest to negative infinity. \n",
    "\n",
    "- This method returns smallest of its arguments.\n",
    "\n",
    "For example:"
   ]
  },
  {
   "cell_type": "code",
   "execution_count": null,
   "metadata": {
    "collapsed": false
   },
   "outputs": [],
   "source": [
    "# Run the code to see the result\n",
    "\n",
    "print(min(89,34,13,2,78,96,-9, 8.19))"
   ]
  },
  {
   "cell_type": "code",
   "execution_count": null,
   "metadata": {
    "collapsed": false
   },
   "outputs": [],
   "source": [
    "# It's not only applicable to numbers. Run the code to see the result\n",
    "\n",
    "print(min('salad','tomato', 'pizza', 'abc'))"
   ]
  },
  {
   "cell_type": "markdown",
   "metadata": {},
   "source": [
    "## Try it yourself! \n",
    "\n",
    "Get the smallest value from this sequence using __`min()`__: \n",
    "\n",
    "(92, -52, 40, -79, -71, -33, -36, 20, 0, 13, 69, -18, 65, -7, -16, 88, -70, -90, 4, 68, -51, -63, -14, 77, 23, -9, 73, 41, 57, -21, -4, 47, -77, 53, -72, 32, 27, -11, -19, 76, 15, 16, -46, -64, 38, 9, 19, 39, 25, -43, -85, -57, -76, 85, 48, 12, 35, 1, 63, -80, 86, -83, -2, -96, -75, -44, 90, 5, 28, 58, 93, -74, -26, -60, -28, 67, 66, 3, -68, 82, -17, 34  -92, -1, 10, 24, -78, 7, -5, -66, -42, -23, -93, -56, 22, -40, 50, -49, -47, 33, 8, -3, -48, -99, -91, 11, -35, -30, -67, -84, 80, -15)"
   ]
  },
  {
   "cell_type": "code",
   "execution_count": null,
   "metadata": {
    "collapsed": true
   },
   "outputs": [],
   "source": [
    "# Write your code below\n",
    "\n",
    "\n",
    "\n"
   ]
  },
  {
   "cell_type": "markdown",
   "metadata": {},
   "source": [
    "## 3.2.3 max( )\n",
    "\n",
    "- The method max returns the elements from the list with maximum value.\n",
    "- __`max`__ will return elements from the list with maximum value."
   ]
  },
  {
   "cell_type": "code",
   "execution_count": null,
   "metadata": {
    "collapsed": false
   },
   "outputs": [],
   "source": [
    "# Run the code to see the result\n",
    "\n",
    "print(max(89,34,13,2,78,96,-9, 8.19))"
   ]
  },
  {
   "cell_type": "code",
   "execution_count": null,
   "metadata": {
    "collapsed": false
   },
   "outputs": [],
   "source": [
    "# Run the code to see the result\n",
    "\n",
    "print(max('salad','tomato', 'pizza', 'abc'))"
   ]
  },
  {
   "cell_type": "markdown",
   "metadata": {},
   "source": [
    "## Try it yourself! \n",
    "\n",
    "Get the largest value from this sequence using __`max()`__: \n",
    "\n",
    "(92, -52, 40, -79, -71, -33, -36, 20, 0, 13, 69, -18, 65, -7, -16, 88, -70, -90, 4, 68, -51, -63, -14, 77, 23, -9, 73, 41, 57, -21, -4, 47, -77, 53, -72, 32, 27, -11, -19, 76, 15, 16, -46, -64, 38, 9, 19, 39, 25, -43, -85, -57, -76, 85, 48, 12, 35, 1, 63, -80, 86, -83, -2, -96, -75, -44, 90, 5, 28, 58, 93, -74, -26, -60, -28, 67, 66, 3, -68, 82, -17, 34  -92, -1, 10, 24, -78, 7, -5, -66, -42, -23, -93, -56, 22, -40, 50, -49, -47, 33, 8, -3, -48, -99, -91, 11, -35, -30, -67, -84, 80, -15)"
   ]
  },
  {
   "cell_type": "code",
   "execution_count": null,
   "metadata": {
    "collapsed": true
   },
   "outputs": [],
   "source": [
    "# Write your code below\n",
    "\n",
    "\n",
    "\n"
   ]
  },
  {
   "cell_type": "markdown",
   "metadata": {},
   "source": [
    "## 3.2.4 abs( )\n",
    "\n",
    "- The function `abs()` returns absolute value of `x` - the (positive) distance between x and zero.\n",
    "- This method returns absolute value."
   ]
  },
  {
   "cell_type": "code",
   "execution_count": null,
   "metadata": {
    "collapsed": false
   },
   "outputs": [],
   "source": [
    "# Run the code to see the result\n",
    "\n",
    "print(abs(45))\n",
    "print(abs(-7))\n",
    "print(abs(1.75))\n",
    "print(abs(-1.34))"
   ]
  },
  {
   "cell_type": "markdown",
   "metadata": {},
   "source": [
    "## Try it yourself!\n",
    "\n",
    "Get the absolute value of __-1.088__"
   ]
  },
  {
   "cell_type": "code",
   "execution_count": null,
   "metadata": {
    "collapsed": true
   },
   "outputs": [],
   "source": [
    "# Write your code below\n",
    "\n",
    "\n",
    "\n"
   ]
  },
  {
   "cell_type": "markdown",
   "metadata": {},
   "source": [
    "## 3.2.5 sqrt( )\n",
    "\n",
    "- The function __`sqrt()`__ returns the square root of __`x`__ for __`x > 0`__.\n",
    "- Note: This function is not accessible directly, so we need to import __`math`__ module and then we need to call this function using __`math`__ static object. ___Will emphasize more on modules later on. ___"
   ]
  },
  {
   "cell_type": "code",
   "execution_count": null,
   "metadata": {
    "collapsed": false
   },
   "outputs": [],
   "source": [
    "import math   # This will import math module\n",
    "    \n",
    "print(math.sqrt(100))"
   ]
  },
  {
   "cell_type": "markdown",
   "metadata": {},
   "source": [
    "See more Mathematical Functions in the [Official Python Documentation](https://docs.python.org/3/library/math.html)."
   ]
  }
 ],
 "metadata": {
  "kernelspec": {
   "display_name": "Python 3",
   "language": "python",
   "name": "python3"
  },
  "language_info": {
   "codemirror_mode": {
    "name": "ipython",
    "version": 3
   },
   "file_extension": ".py",
   "mimetype": "text/x-python",
   "name": "python",
   "nbconvert_exporter": "python",
   "pygments_lexer": "ipython3",
   "version": "3.5.1"
  }
 },
 "nbformat": 4,
 "nbformat_minor": 0
}
