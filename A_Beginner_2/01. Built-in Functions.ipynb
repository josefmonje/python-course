{
 "cells": [
  {
   "cell_type": "markdown",
   "metadata": {},
   "source": [
    "# 01. Built-in Functions in Python 3\n",
    "\n",
    "Functions that come built into the Python language itself are called built-in functions and are readily available to us.\n",
    "\n",
    "Listed below are some of the most common built-in functions in Python 3:\n",
    "\n",
    "## 1.1 [input( )](https://docs.python.org/3.5/library/functions.html#input)\n",
    "\n",
    "This is designed for accepting data directly from the user.\n",
    "\n",
    "The parameter inside the parentheses after input is important. It is a prompt indicating what is being requested. Without the prompt, the user would not know what was happening.\n",
    "\n",
    "Go ahead and run the code below."
   ]
  },
  {
   "cell_type": "code",
   "execution_count": null,
   "metadata": {
    "collapsed": false
   },
   "outputs": [],
   "source": [
    "name = input(\"What is your name? \")\n",
    "print(\"You are \" + name)"
   ]
  },
  {
   "cell_type": "markdown",
   "metadata": {},
   "source": [
    "All inputs in Python 3.x are stored as __`str`__ objects.\n",
    "\n",
    "In Python 2.x, there were two input functions, `input()` and `raw_input()`. It was Python 2.x's `raw_input()` that functioned similarly to Python 3.x's `input()`.\n",
    "\n",
    "See this example from Python 2:\n",
    "\n",
    "![Beginner_2](./images/img_raw_input1.png)\n",
    "![Beginner_2](./images/img_raw_input2.png)\n",
    "\n",
    "The Python 2.x `input()` behavior of reading inputs in types other than strings was considered dangerous and was fixed in Python 3.x.\n",
    "\n",
    "## 1.2 [print()](https://docs.python.org/3.5/library/functions.html#print)\n",
    "\n",
    "If you want your program to display something, you can give explicit instructions with the __`print()`__ function. \n",
    "\n",
    "The print function will print as strings everything in a comma-separated sequence of expressions, and it will separate the results with single blanks by default. \n",
    "\n",
    "In the following example we can see a print call. We are printing two values, i.e. a string and a float number:"
   ]
  },
  {
   "cell_type": "code",
   "execution_count": null,
   "metadata": {
    "collapsed": false
   },
   "outputs": [],
   "source": [
    "# Run the code to see the results:\n",
    "a = 'Hello'\n",
    "print(a, \"42\")"
   ]
  },
  {
   "cell_type": "markdown",
   "metadata": {},
   "source": [
    "It's possible to redefine the separator between values by assigning an arbitrary string to the keyword parameter \"__`sep`__\":"
   ]
  },
  {
   "cell_type": "code",
   "execution_count": null,
   "metadata": {
    "collapsed": false
   },
   "outputs": [],
   "source": [
    "a = \"Hello\"\n",
    "b = \"World\"\n",
    "\n",
    "print(a, b)\n",
    "\n",
    "print(a, b, sep=\"_\")\n",
    "\n",
    "print(a, b, sep=\"...\")\n",
    "print(192, 168, 178, 42, sep=\".\")"
   ]
  },
  {
   "cell_type": "markdown",
   "metadata": {},
   "source": [
    "A __`print`__ call is ended by a new line:"
   ]
  },
  {
   "cell_type": "code",
   "execution_count": null,
   "metadata": {
    "collapsed": false
   },
   "outputs": [],
   "source": [
    "for i in range(4):\n",
    "    print(i)"
   ]
  },
  {
   "cell_type": "markdown",
   "metadata": {},
   "source": [
    "To change this behaviour, we can assign an arbitrary string to the keyword parameter '__`end`__'. This string will be used for ending the output of the values of a __`print`__ call:"
   ]
  },
  {
   "cell_type": "code",
   "execution_count": null,
   "metadata": {
    "collapsed": false
   },
   "outputs": [],
   "source": [
    "for i in range(4):\n",
    "    print(i, end=\" \")"
   ]
  },
  {
   "cell_type": "code",
   "execution_count": null,
   "metadata": {
    "collapsed": false
   },
   "outputs": [],
   "source": [
    "for i in range(4):\n",
    "    print(i, end=\" :-) \")"
   ]
  },
  {
   "cell_type": "markdown",
   "metadata": {},
   "source": [
    "In Python 2.x, the old __`print`__ also worked as a statement. Both old and new `print` work in Python 2.x but only the `print()` function works in Python 3.x."
   ]
  },
  {
   "cell_type": "code",
   "execution_count": null,
   "metadata": {
    "collapsed": true
   },
   "outputs": [],
   "source": [
    "# These both work in Python 2.x\n",
    "print \"Hello World\"\n",
    "print(\"Hello World\")"
   ]
  },
  {
   "cell_type": "markdown",
   "metadata": {},
   "source": [
    "### Try it Yourself!\n",
    "\n",
    "Create a create a print statement that will output the following:\n",
    "\n",
    "`Hello!World!Hi!World!Hey!World!Yo!World!`\n",
    "\n",
    "__Note:__ Use an exclamation point (`!`) as a separator, and assign each word in a variable."
   ]
  },
  {
   "cell_type": "code",
   "execution_count": null,
   "metadata": {
    "collapsed": false
   },
   "outputs": [],
   "source": [
    "# Write your code below\n",
    "\n",
    "\n",
    "\n",
    "\n"
   ]
  },
  {
   "cell_type": "markdown",
   "metadata": {},
   "source": [
    "## 1.3 [type()](https://docs.python.org/3.5/library/functions.html#type)\n",
    "\n",
    "This returns the type of an object. For example:"
   ]
  },
  {
   "cell_type": "code",
   "execution_count": null,
   "metadata": {
    "collapsed": false
   },
   "outputs": [],
   "source": [
    "var1 = \"Hello\"\n",
    "var2 = 13\n",
    "\n",
    "print(type(var1))\n",
    "print(type(var2))"
   ]
  },
  {
   "cell_type": "markdown",
   "metadata": {},
   "source": [
    "## 1.4 Type Casting\n",
    "\n",
    "Sometimes, you may need to perform conversions between the built-in types. To convert between types, you simply use the type name as a function. __Casting__ is when you convert a variable value from one type to another. \n",
    "\n",
    "There are several built-in functions to perform conversion from one data type to another. These functions return a new object representing the converted value.\n",
    "\n",
    "### 1.4.1 Converting String into a Proper Number"
   ]
  },
  {
   "cell_type": "code",
   "execution_count": null,
   "metadata": {
    "collapsed": false
   },
   "outputs": [],
   "source": [
    "#Run the code\n",
    "x = \"100\"\n",
    "\n",
    "print(type(x)) "
   ]
  },
  {
   "cell_type": "markdown",
   "metadata": {},
   "source": [
    "On the example above, we just printed the type of variable __`x`__ which resulted to a string. To convert a string into an integer:"
   ]
  },
  {
   "cell_type": "code",
   "execution_count": null,
   "metadata": {
    "collapsed": false
   },
   "outputs": [],
   "source": [
    "x = \"100\"\n",
    "\n",
    "y = int(x) # We used the int() function to convert the string \"100\" into an integer.\n",
    "\n",
    "print(type(y))"
   ]
  },
  {
   "cell_type": "markdown",
   "metadata": {},
   "source": [
    "There's also another very common one which is __`float()`__:"
   ]
  },
  {
   "cell_type": "code",
   "execution_count": null,
   "metadata": {
    "collapsed": false
   },
   "outputs": [],
   "source": [
    "x = \"100\"\n",
    "\n",
    "y = float(x) # We used the int() function to convert \"100\" which is a string into a float.\n",
    "\n",
    "print(type(y))"
   ]
  },
  {
   "cell_type": "markdown",
   "metadata": {},
   "source": [
    "See more examples here:\n",
    "\n",
    "![Beginner_2](./images/img_datatype_conversion_1.png)\n",
    "![Beginner_2](./images/img_datatype_conversion_2.png)\n",
    "\n",
    "Today you gave learned some of the common built-in functions in Python. Please refer to the [Official Documantation](https://docs.python.org/3/library/functions.html) for the full list."
   ]
  }
 ],
 "metadata": {
  "kernelspec": {
   "display_name": "Python 3",
   "language": "python",
   "name": "python3"
  },
  "language_info": {
   "codemirror_mode": {
    "name": "ipython",
    "version": 3
   },
   "file_extension": ".py",
   "mimetype": "text/x-python",
   "name": "python",
   "nbconvert_exporter": "python",
   "pygments_lexer": "ipython3",
   "version": "3.5.1"
  }
 },
 "nbformat": 4,
 "nbformat_minor": 0
}
