{
 "cells": [
  {
   "cell_type": "markdown",
   "metadata": {},
   "source": [
    "# 3.1 Booleans \n",
    "\n",
    "A boolean is like a light switch. It can only have two values. Just like a light switch can only be on or off, a boolean can only be `True` or `False`.\n",
    "\n",
    "In numeric contexts (for example, when used as the argument to an\n",
    "arithmetic operator), `False` can also be written as `0` and `True` as `1`.\n",
    "\n",
    "You can use variables to store booleans like this:"
   ]
  },
  {
   "cell_type": "code",
   "execution_count": null,
   "metadata": {
    "collapsed": true
   },
   "outputs": [],
   "source": [
    "a = True\n",
    "b = False"
   ]
  },
  {
   "cell_type": "markdown",
   "metadata": {},
   "source": [
    "More Examples:"
   ]
  },
  {
   "cell_type": "code",
   "execution_count": null,
   "metadata": {
    "collapsed": false
   },
   "outputs": [],
   "source": [
    "a = 1\n",
    "b = 2\n",
    "c = 3\n",
    "\n",
    "print(a == 1)\n",
    "print(b == 3)"
   ]
  },
  {
   "cell_type": "markdown",
   "metadata": {},
   "source": [
    "Integers were assigned to variables `a`, `b`, and `c`.  Each `print` statement on the examples above prints an expression. \n",
    "\n",
    "If the expression satisfies the condition, `True` will be printed, and `False` otherwise."
   ]
  },
  {
   "cell_type": "markdown",
   "metadata": {},
   "source": [
    "## 3.1.1 Booleans and Logical Operators\n",
    "\n",
    "Boolean values respond to logical operators __`and`__ / __`or`__. For example:\n",
    "\n",
    "|     __Expression__    | __Result__ |\n",
    "|:---------------------:|------------|\n",
    "| True __`and`__ True   |    True    |\n",
    "| True __`and`__ False  |    False   |\n",
    "| False __`and`__ True  |    False   |\n",
    "| False __`and`__ False |    False   |\n",
    "\n",
    "\n",
    "|    __Expression__    | __Result__ |\n",
    "|:--------------------:|------------|\n",
    "| True __`or`__ True   |    True    |\n",
    "| True __`or`__ False  |    True    |\n",
    "| False __`or`__ True  |    True    |\n",
    "| False __`or`__ False |    False   |\n"
   ]
  },
  {
   "cell_type": "markdown",
   "metadata": {},
   "source": [
    "Similar on the first example, `True` will be printed if the expression satisfies the condition, and `False` otherwise. Go ahead and run the code below."
   ]
  },
  {
   "cell_type": "code",
   "execution_count": null,
   "metadata": {
    "collapsed": false
   },
   "outputs": [],
   "source": [
    "a = 6\n",
    "b = 7\n",
    "\n",
    "print(1, a == 6 and b == 7)\n",
    "print(2, a == 7 and b == 7)\n",
    "print(3, a == 6 or b == 7)\n",
    "print(4, a == 7 or b == 7)"
   ]
  },
  {
   "cell_type": "markdown",
   "metadata": {},
   "source": [
    "## Exercise\n",
    "\n",
    "Complete the `print` statements below by assigning some values to make the output all `True`."
   ]
  },
  {
   "cell_type": "code",
   "execution_count": null,
   "metadata": {
    "collapsed": false
   },
   "outputs": [],
   "source": [
    "a = 13\n",
    "b = 17\n",
    "c = 14\n",
    "d = 18\n",
    "e = 16\n",
    "f = 15\n",
    "g = 18\n",
    "\n",
    "# Assign values below\n",
    "print(d == )\n",
    "print(a == )\n",
    "print(g ==  and d == )\n",
    "print(e == or b == )\n",
    "print(g != )\n"
   ]
  }
 ],
 "metadata": {
  "kernelspec": {
   "display_name": "Python 3",
   "language": "python",
   "name": "python3"
  },
  "language_info": {
   "codemirror_mode": {
    "name": "ipython",
    "version": 3
   },
   "file_extension": ".py",
   "mimetype": "text/x-python",
   "name": "python",
   "nbconvert_exporter": "python",
   "pygments_lexer": "ipython3",
   "version": "3.5.1"
  }
 },
 "nbformat": 4,
 "nbformat_minor": 0
}
