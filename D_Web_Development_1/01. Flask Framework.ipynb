{
 "cells": [
  {
   "cell_type": "markdown",
   "metadata": {},
   "source": [
    "# 1. Web Development with Flask\n",
    "\n",
    "As much as I want us to dive into web development right away, we need some background information about what's happening behind the scenes.\n",
    "\n",
    "The web is basically people's computers talking to other computers at global scale. When you _surf online or the 'net/web_, you're actually instructing your computer to talk to another computer, usually using your browser. This is possible because there's already agreement on how these computers find each other, how to know if a computer can talk about something, if it will talk to them, and how to talk to each other if and when they reach this point. At each step, there are technologies and protocols that allow this to happen.\n",
    "\n",
    "## [HTTP](https://en.wikipedia.org/wiki/Hypertext_Transfer_Protocol)\n",
    "\n",
    "We will use Python to teach our computer to respond to other computers that request your website. Right now, it's enough to know that we'll be communicating over Hypertext Transfer Protocol or HTTP. We'll teach our computer how to respond when another computer makes a requests our site.\n",
    "\n",
    "\n",
    "## [WSGI](https://www.python.org/dev/peps/pep-0333/)\n",
    "\n",
    "In Python, there is a standard called Web Server Gateway Interface or WSGI that describes way for web servers, applications or frameworks to communicate. Flask will handle this for us. It's good to know about this because most frameworks implement WSGI but we won't go deep about it. You can look it up on your own.\n",
    "\n",
    "## [Flask](http://flask.pocoo.org/docs/)\n",
    "\n",
    "Flask is a micro webdevelopment framework for Python.\n",
    "\n",
    "Now that you have a better grasp of what you can do with Python, we'll start doing more exciting things like building a website. There are other frameworks but we'll be using the micro framework called Flask.\n",
    "\n",
    "Flask depends on two libraries:\n",
    "\n",
    "* [Werkzeug](http://werkzeug.pocoo.org/documentation/) - an HTTP and WSGI utility library for Python.\n",
    "* [Jinja2](http://jinja.pocoo.org/2/documentation/) - a templating engine.\n",
    "\n",
    "I mentioned WSGI earlier. Under the hood, the Werkzeug library handles it for us so we don't do it manually. I also mentioned HTTP. We'll send documents written in Hypertext Markup Language or HTML over HTTP. We are using the Jinja2 library to make things easier."
   ]
  },
  {
   "cell_type": "markdown",
   "metadata": {},
   "source": [
    "## Let's do it!\n",
    "\n",
    "A lot of things were mentioned earlier so let's see what the actual code looks like.\n",
    "\n",
    "When you're done with that, let's run the server and then browse to the result."
   ]
  },
  {
   "cell_type": "code",
   "execution_count": null,
   "metadata": {
    "collapsed": false
   },
   "outputs": [],
   "source": [
    "# %load hello.py\n",
    "import json\n",
    "from flask import Flask, render_template, url_for, redirect\n",
    "from flask.views import MethodView\n",
    "\n",
    "app = Flask(__name__)\n",
    "\n",
    "\n",
    "@app.route('/')\n",
    "def hello_world():\n",
    "    \"\"\"Respond with a Hello World string.\"\"\"\n",
    "    return 'Hello World!'\n",
    "\n",
    "\n",
    "@app.route('/<name>')\n",
    "def hello_name(name):\n",
    "    \"\"\"Respond with a Hello name variable in a string with a link.\"\"\"\n",
    "    return 'Hello <a href=\"{}\">{}! '.format(url_for('hello_marquee', name=name), name.capitalize())\n",
    "\n",
    "\n",
    "@app.route('/<name>/')\n",
    "def hello_marquee(name):\n",
    "    \"\"\"\n",
    "    Respond with a Hello name in HTML (with a <marquee>!).\n",
    "\n",
    "    Add all variables into context.\n",
    "    Get template from /templates.\n",
    "    Interpolate variables into the HTML.\n",
    "    Return the result.\n",
    "    \"\"\"\n",
    "    context = {\n",
    "        'name': name\n",
    "    }\n",
    "    return render_template('hello.html', **context)\n",
    "\n",
    "\n",
    "@app.route('/error')\n",
    "def error():\n",
    "    \"\"\"Return nothing. Responds with the debugger screen.\"\"\"\n",
    "    return\n",
    "    # return redirect(url_for('hello_world'))\n",
    "\n",
    "\n",
    "class API(MethodView):\n",
    "    \"\"\"Class-based view demo.\"\"\"\n",
    "\n",
    "    def get(self, arg):\n",
    "        \"\"\"Return arg data.\"\"\"\n",
    "        data = {'arg': arg}\n",
    "        return json.dumps(data)\n",
    "\n",
    "    def post(self):\n",
    "        \"\"\"Return 'OK'.\"\"\"\n",
    "        return 'OK'\n",
    "\n",
    "app.add_url_rule('/api/<arg>', view_func=API.as_view('api'))\n",
    "\n",
    "\n",
    "if __name__ == '__main__':\n",
    "    app.run(\n",
    "        debug=True,\n",
    "        host=\"localhost\",\n",
    "        port=8000,\n",
    "    )\n"
   ]
  },
  {
   "cell_type": "markdown",
   "metadata": {},
   "source": [
    "That doesn't look complicated, does it?\n",
    "\n",
    "We imported some things from flask, created four functions and put decorators on them, then a conditional statement.\n",
    "\n",
    "Let's run the server."
   ]
  },
  {
   "cell_type": "code",
   "execution_count": null,
   "metadata": {
    "collapsed": false
   },
   "outputs": [],
   "source": [
    "!python hello.py"
   ]
  },
  {
   "cell_type": "markdown",
   "metadata": {},
   "source": [
    "Browse to these links:\n",
    "\n",
    "### [Hello World!](http://127.0.0.1:8000/)\n",
    "\n",
    "Our first function returns a \"Hello World!\" string. We see that in the browser at the root of localhost:8000.\n",
    "\n",
    "### [Hello friend!](http://127.0.0.1:8000/friend)\n",
    "\n",
    "Our second function returns a \"Hello {{ name }}!\" string with a variable {{ name }}. This name is whatever you put in the URL and we see that in the browser at localhost:8000/name. You can replace name with any word except \"error\" because we're using that on our next url.\n",
    "\n",
    "### [Error page (Debugger)](http://127.0.0.1:8000/error)\n",
    "\n",
    "![Werkzeug Debugger](Images/debugger.png)\n",
    "\n",
    "Our third function does not return a response so it shows the debugger. Whenever you have bugs in your code, it's likely that you'll see this screen.\n",
    "\n",
    "### [Hello friend (pt 2)!](http://127.0.0.1:8000/friend/)\n",
    "\n",
    "Our fourth function returns an HTML page (finally!). HTML is just a string. You can return HTML as strings\\* and it's the same\\*\\* as the output of render_template()\\*\\*\\*.\n",
    "\n",
    "    * You have to \"escape\" the HTML to make it secure\n",
    "    ** It may look the same, but it is not secure\n",
    "    *** Flask does the \"escaping\" automatically for you\n",
    "\n",
    "Did you notice the trailing slash? A note about trailing slashes:\n",
    "\n",
    "> Though they look rather similar, they differ in their use of the trailing slash in the URL definition. In the first case, the canonical URL for the projects endpoint has a trailing slash. In that sense, it is similar to a folder on a file system. Accessing it without a trailing slash will cause Flask to redirect to the canonical URL with the trailing slash.\n",
    "\n",
    "> In the second case, however, the URL is defined without a trailing slash, rather like the pathname of a file on UNIX-like systems. Accessing the URL with a trailing slash will produce a 404 “Not Found” error.\n",
    "\n",
    "> This behavior allows relative URLs to continue working even if the trailing slash is ommited, consistent with how Apache and other servers work. Also, the URLs will stay unique, which helps search engines avoid indexing the same page twice."
   ]
  },
  {
   "cell_type": "markdown",
   "metadata": {},
   "source": [
    "## 1.1 Function-Based Views\n",
    "\n",
    "With a few lines of code, Flask lets us create a server that maps URLs to functions that process webpages and data. When other computers (with the help of a human) talk to our server and give us a URL, this is usually to request data that usually comes in the form of a page. They can also send data and data can come in the form of a JSON object. \n",
    "\n",
    "Aside from that, computers talk about other things that they promise to always tell each other. Computers are sweet like that. Things like their status, what type of content they accept, and other stuff. We don't need to think about that right now since Flask takes care of this for us.\n",
    "\n",
    "We have seen some simple functions, let's keep it that way for now. We have seen some simple Flask code and we can serve pages. We'll focus on basic Flask functions to get you going before working with templates. Let's look at the code."
   ]
  },
  {
   "cell_type": "code",
   "execution_count": null,
   "metadata": {
    "collapsed": false
   },
   "outputs": [],
   "source": [
    "from flask import Flask, render_template, url_for, redirect\n",
    "app = Flask(__name__)"
   ]
  },
  {
   "cell_type": "markdown",
   "metadata": {},
   "source": [
    "## [flask.Flask](http://flask.pocoo.org/docs/0.10/api/#flask.Flask)\n",
    "\n",
    "\n",
    "The Flask class is imported from the flask module.\n",
    "\n",
    "An instance of Flask is assigned to the variable app.\n",
    "\n",
    "This is typical Flask code. If you're curious, the [documentation](http://flask.pocoo.org/docs/0.10/api/#flask.Flask) can provide more details. It can give details about why `__name__` is used."
   ]
  },
  {
   "cell_type": "code",
   "execution_count": null,
   "metadata": {
    "collapsed": true
   },
   "outputs": [],
   "source": [
    "@app.route('/<name>')\n",
    "def hello_name(name):\n",
    "    \"\"\"Respond with a Hello name variable in a string with a link.\"\"\"\n",
    "    return 'Hello <a href=\"{}\">{}! '.format(url_for('hello_marquee', name=name), name.capitalize())"
   ]
  },
  {
   "cell_type": "markdown",
   "metadata": {},
   "source": [
    "## [Flask.route()](http://flask.pocoo.org/docs/0.10/api/#flask.Flask.route)\n",
    "\n",
    "The `app` variable (Flask instance) and its `route()` method was used to decorate a function. The `route()` method accepts a string that becomes a URLin our server. When this URL is accessed, the function is executed and data is returned by our server.\n",
    "\n",
    "Our argument `'/<name>/'`, passed to `route()`, is a string that contains a variable marked with the less than and greater than symbols - `<name>`. This variable is passed to the function."
   ]
  },
  {
   "cell_type": "markdown",
   "metadata": {},
   "source": [
    "## [flask.url_for()](http://flask.pocoo.org/docs/0.10/api/#flask.url_for)\n",
    "\n",
    "To generate a bound function's URL, the function `url_for()` can be used. This accepts a function name together with any parameters it may require. This lets you avoid hardcoding URLs, scattering URL values all over your code. It makes the code look more descriptive and editing the URL will be done in only one place instead of in all our links."
   ]
  },
  {
   "cell_type": "code",
   "execution_count": null,
   "metadata": {
    "collapsed": true
   },
   "outputs": [],
   "source": [
    "@app.route('/<name>/')\n",
    "def hello_marquee(name):\n",
    "    \"\"\"\n",
    "    Respond with a Hello name in HTML (with a <marquee>!).\n",
    "    Don't use <marquee> in production.\n",
    "\n",
    "    Add all variables into context.\n",
    "    Get template from /templates.\n",
    "    Interpolate variables into the HTML.\n",
    "    Return the result.\n",
    "    \"\"\"\n",
    "    context = {\n",
    "        'name': name.capitalize()\n",
    "    }\n",
    "    return render_template('hello.html', **context)"
   ]
  },
  {
   "cell_type": "markdown",
   "metadata": {},
   "source": [
    "## [flask.render_template()](http://flask.pocoo.org/docs/0.10/api/#template-rendering)\n",
    "\n",
    "The function bound to a URL must return data. It can be as simple as a string. In our code, we use `render_template()`. This function descriptively says what it does, it renders a template. It also accepts keyword arguments that become part of the template's context, which refers to variables used in the template. The context can be keyword arguments passed after the template name or a packed argument. If you're not sure about how this works, review the notebook \"Defining and Calling Functions\"."
   ]
  },
  {
   "cell_type": "code",
   "execution_count": null,
   "metadata": {
    "collapsed": true
   },
   "outputs": [],
   "source": [
    "@app.route('/error')\n",
    "def error():\n",
    "    \"\"\"Return nothing. Responds with the debugger screen.\"\"\"\n",
    "    return\n",
    "    return redirect(url_for('hello_world'))"
   ]
  },
  {
   "cell_type": "markdown",
   "metadata": {},
   "source": [
    "## [Debug Mode](http://flask.pocoo.org/docs/0.10/quickstart/#debug-mode)\n",
    "\n",
    "One of the parameters we passed to `Flask.run()` was `debug=True`. This lets the debugger take over when unhandled exceptions occur. When this setting is `True`, the server automatically reloads when changes are made to the application.\n",
    "\n",
    "The debugger screen lets you see the traceback for the error and also gives you access the console per line of code for debugging."
   ]
  },
  {
   "cell_type": "markdown",
   "metadata": {},
   "source": [
    "## [flask.redirect()](http://flask.pocoo.org/docs/0.10/api/#flask.redirect)\n",
    "\n",
    "Comment out the first return statement. The server should restart. When you visit the error page again, it will redirect to `/hello_world`."
   ]
  },
  {
   "cell_type": "code",
   "execution_count": null,
   "metadata": {
    "collapsed": false
   },
   "outputs": [],
   "source": [
    "if __name__ == '__main__':\n",
    "    app.run(\n",
    "        debug=True,\n",
    "        host=\"localhost\",\n",
    "        port=8000,\n",
    "    )"
   ]
  },
  {
   "cell_type": "markdown",
   "metadata": {},
   "source": [
    "## [Flask.run()](http://flask.pocoo.org/docs/0.10/api/#flask.Flask.run)\n",
    "\n",
    "\n",
    "### [`__main__`](https://docs.python.org/3.5/library/__main__.html)\n",
    "\n",
    "From the Python documentation:\n",
    "\n",
    "> `__main__` is the name of the scope in which top-level code executes. A module’s `__name__` is set equal to `__main__` when read from standard input, a script, or from an interactive prompt.\n",
    "\n",
    "This means that our Flask code is ran when the script is directly executed, but not when it is imported. Such is the case with WSGI containers that run the code in a server environment.\n",
    "\n",
    "`Flask.run()` accepts several parameters. Our code used some of them. The documentation contains details about it."
   ]
  },
  {
   "cell_type": "markdown",
   "metadata": {},
   "source": [
    "## 1.2 [Class-Based Views](http://flask.pocoo.org/docs/0.10/api/#class-based-views)\n",
    "\n",
    "Function-based views or FBV are the traditional way of writing your logic in Flask. However, when building larger apps, FBVs are prone to repetition. Another way is to use Class-based views or CBV, which takes advantage of classes instead of functions. One of the benefits of writing CBV is inheritance, which allows for better code reuse."
   ]
  },
  {
   "cell_type": "code",
   "execution_count": null,
   "metadata": {
    "collapsed": false
   },
   "outputs": [],
   "source": [
    "from flask import Flask\n",
    "from flask.views import MethodView\n",
    "\n",
    "import json\n",
    "\n",
    "app = Flask(__name__)\n",
    "\n",
    "\n",
    "class API(MethodView):\n",
    "    \"\"\"Class-based view demo.\"\"\"\n",
    "\n",
    "    def get(self, arg):\n",
    "        \"\"\"Return arg data.\"\"\"\n",
    "        data = {'arg': arg}\n",
    "        return json.dumps(data)\n",
    "\n",
    "    def post(self):\n",
    "        \"\"\"Return 'OK'.\"\"\"\n",
    "        return 'OK'\n",
    "\n",
    "app.add_url_rule('/api/<arg>', view_func=API.as_view('api'))\n",
    "\n",
    "\n",
    "if __name__ == '__main__':\n",
    "    app.run(\n",
    "        debug=True,\n",
    "        host=\"localhost\",\n",
    "        port=8080,\n",
    "    )"
   ]
  },
  {
   "cell_type": "markdown",
   "metadata": {},
   "source": [
    "## 1.3 Request object\n",
    "\n",
    "There are other methods and objects available to import from Flask. One worth noting is the [request](http://flask.pocoo.org/docs/0.10/quickstart/#the-request-object) object.\n",
    "\n",
    "In the beginning of this notebook, HTTP was mentioned. There are several methods in HTTP and communication over the internet is made in any one of those methods. Requesting for a resource, be it a webpage or data, uses a `GET` method. With this method, data is only read, no changes are made. When submitting changes, whether via a form submission or behavior in javascript, usually a `POST` method is used. There are other methods available but for now we'll focus on `GET` and `POST`. This can be checked with `request.method` when the request object is imported from flask.\n",
    "\n",
    "```\n",
    "from flask import request\n",
    "\n",
    "@app.route('/login', methods=['GET', 'POST'])\n",
    "def login():\n",
    "    if request.method == 'POST':\n",
    "        do_the_login()\n",
    "    else:\n",
    "        show_the_login_form()\n",
    "```\n",
    "\n",
    "#### Exercise:\n",
    "\n",
    "Create a simple Flask app.\n",
    "\n",
    "Experiment on the various flask methods you just learned.\n",
    "\n",
    "Practice using both kinds of writing views:\n",
    "- Function-Based View\n",
    "- Class-Based View\n",
    "\n",
    "Write views that accept variables via:\n",
    "- URL\n",
    "- query string (?key=value&other=stuff)\n",
    "- form"
   ]
  }
 ],
 "metadata": {
  "kernelspec": {
   "display_name": "Python 3",
   "language": "python",
   "name": "python3"
  },
  "language_info": {
   "codemirror_mode": {
    "name": "ipython",
    "version": 3
   },
   "file_extension": ".py",
   "mimetype": "text/x-python",
   "name": "python",
   "nbconvert_exporter": "python",
   "pygments_lexer": "ipython3",
   "version": "3.5.1"
  }
 },
 "nbformat": 4,
 "nbformat_minor": 0
}
