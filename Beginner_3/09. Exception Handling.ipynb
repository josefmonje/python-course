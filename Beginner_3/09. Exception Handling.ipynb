{
 "cells": [
  {
   "cell_type": "markdown",
   "metadata": {},
   "source": [
    "## 9.1 [Try](https://docs.python.org/3.5/reference/compound_stmts.html#try)\n",
    "\n",
    "Even if the syntax is correct, a line of code may still produce an error. It doesn't mean the code wouldn't work. Python's `try` statement is used to handle [Exceptions](https://docs.python.org/3.5/reference/executionmodel.html#exceptions) detected during execution."
   ]
  },
  {
   "cell_type": "code",
   "execution_count": null,
   "metadata": {
    "collapsed": false
   },
   "outputs": [],
   "source": [
    "while True:\n",
    "    try:\n",
    "        x = int(input(\"Please enter a number: \"))\n",
    "    except ValueError:\n",
    "        print(\"Oops! Not a valid number. Try again...\")"
   ]
  },
  {
   "cell_type": "markdown",
   "metadata": {},
   "source": [
    "## 9.2 Except\n",
    "\n",
    "The `except` clause allows you to specify exception handlers. Followed by an Exception class, it allows you to catch specific exceptions and control how each is handled.\n",
    "\n",
    "- In Python 3.x, the exception class is aliased using the `as` keyword followed by a variable for storage and use in the next block of statements\n",
    "\n",
    "- In Python 2.x, the exception class is separated from the variable by a comma\n",
    "\n",
    "### 9.2.1 [Exception Classes](https://docs.python.org/3.5/library/exceptions.html#bltin-exceptions)\n",
    "\n",
    "Python has built-in Exception classes that you can catch with `except`. Multiple `except` clauses can be used in a `try` statement.\n",
    "\n",
    "Once you learn about `classes`, you'll learn that new exceptions can be created easily since these `Exceptions` are just classes:"
   ]
  },
  {
   "cell_type": "code",
   "execution_count": null,
   "metadata": {
    "collapsed": true
   },
   "outputs": [],
   "source": [
    "class NotANumberException(Exception):\n",
    "    pass"
   ]
  },
  {
   "cell_type": "markdown",
   "metadata": {},
   "source": [
    "### 9.2.2 Raising Exceptions\n",
    "\n",
    "When errors occur, a `raise` statement can be used to halt the execution of the script. `raise` statements are followed by Exception classes. Exceptions can accept an argument that is displayed when the exception occurs. This is the new-style of raising an error. The old-style was writing the exception followed by the argument, separated by a comma.\n",
    "\n",
    "- In Python 3.x, only accepts the new-style of writing exceptions\n",
    "\n",
    "- In Python 2.x, it is possible to write exceptions using old and new styles"
   ]
  },
  {
   "cell_type": "code",
   "execution_count": null,
   "metadata": {
    "collapsed": false
   },
   "outputs": [],
   "source": [
    "while True:\n",
    "    try:\n",
    "        x = int(input(\"Please enter a number: \"))\n",
    "    except ValueError as e:  # exceptions in Python 3.x are aliased\n",
    "        raise NotANumberException(e)  # only new-style works\n",
    "        # raise NotANumberException(\"A number was not entered.\")\n",
    "    else:\n",
    "        break\n",
    "    finally:\n",
    "        print(\"Done...\")"
   ]
  },
  {
   "cell_type": "markdown",
   "metadata": {},
   "source": [
    "In Python 2.x, it was also possible to `raise` an exception like below:"
   ]
  },
  {
   "cell_type": "code",
   "execution_count": null,
   "metadata": {
    "collapsed": true
   },
   "outputs": [],
   "source": [
    "while True:\n",
    "    try:\n",
    "        x = int(input(\"Please enter a number: \"))\n",
    "    except ValueError, e:  # exceptions in Python 2.x separated by comma\n",
    "        raise NotANumberException, e  # both old and new styles work in Python 2.x\n",
    "    else:\n",
    "        break\n",
    "    finally:\n",
    "        print(\"Done...\")"
   ]
  },
  {
   "cell_type": "markdown",
   "metadata": {},
   "source": [
    "## 9.3 Else\n",
    "\n",
    "The optional `else` clause executes if all the lines within the `try` clause execute without errors. Therefore, no exceptions occured. Being after the scope of the `try` statement, exceptions within the `else` clause are no longer handled by any `except` clause above it."
   ]
  },
  {
   "cell_type": "markdown",
   "metadata": {},
   "source": [
    "## 9.4 Finally\n",
    "\n",
    "There is an optional `finally` statement that executes after handling `except` and `else` clauses. Exceptions not handled within any clauses are temporarily saved. The `finally` clause is executed before re-raising unhandled exceptions unless it executes a `return` or `break` statement."
   ]
  },
  {
   "cell_type": "code",
   "execution_count": null,
   "metadata": {
    "collapsed": false
   },
   "outputs": [],
   "source": [
    "def f():\n",
    "    try:\n",
    "        1/0\n",
    "    finally:\n",
    "        return 42\n",
    "\n",
    "f()\n",
    "# executes a return statement therefore error is not raised"
   ]
  },
  {
   "cell_type": "code",
   "execution_count": null,
   "metadata": {
    "collapsed": false
   },
   "outputs": [],
   "source": [
    "def f():\n",
    "    try:\n",
    "        1/0\n",
    "    finally:\n",
    "        print(42)\n",
    "        # return 42\n",
    "\n",
    "f()\n",
    "# 42 still gets printed before the error is raised"
   ]
  },
  {
   "cell_type": "markdown",
   "metadata": {
    "collapsed": true
   },
   "source": [
    "Exception handling will mostly be used on things outside of the scope or control of your code. Things like accessing a file or database in the system. You can't always ensure access to the target. A lot of things can go wrong like permissions, the location changed or is different, the target is locked by another process, the system itself may have changed, you lost connection in case it was through a network, etc."
   ]
  }
 ],
 "metadata": {
  "kernelspec": {
   "display_name": "Python 3",
   "language": "python",
   "name": "python3"
  },
  "language_info": {
   "codemirror_mode": {
    "name": "ipython",
    "version": 3
   },
   "file_extension": ".py",
   "mimetype": "text/x-python",
   "name": "python",
   "nbconvert_exporter": "python",
   "pygments_lexer": "ipython3",
   "version": "3.5.1"
  }
 },
 "nbformat": 4,
 "nbformat_minor": 0
}
