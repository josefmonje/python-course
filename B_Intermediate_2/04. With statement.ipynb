{
 "cells": [
  {
   "cell_type": "markdown",
   "metadata": {},
   "source": [
    "# 04. [The `with` Statement](https://docs.python.org/3.5/reference/compound_stmts.html#the-with-statement)\n",
    "\n",
    "> The with statement is used to wrap the execution of a block with methods defined by a context manager. This allows common try...except...finally usage patterns to be encapsulated for convenient reuse.\n",
    "\n",
    "The `with` statement is a way of isolating the context of a code block's execution. It's commonly seen being used when working with files:"
   ]
  },
  {
   "cell_type": "code",
   "execution_count": null,
   "metadata": {
    "collapsed": false
   },
   "outputs": [],
   "source": [
    "path_to_file = '__file__'\n",
    "params = 'w'\n",
    "with open(path_to_file, params) as f:\n",
    "    help(f)  # file is open in this block\n",
    "dir(f)  # file is already closed in this block"
   ]
  },
  {
   "cell_type": "markdown",
   "metadata": {
    "collapsed": true
   },
   "source": [
    "The `with` statement automatically closes the file when the indented block finishes. It has the advantage of being shorter and readable than using a `try` statement.\n",
    "\n",
    "## 4.1 [Context Expressions and Managers](https://docs.python.org/3.5/reference/datamodel.html#with-statement-context-managers)\n",
    "\n",
    "A context expression comes after the `with` statement. It handles the _entry into_ and _exit from_ the block of code being executed. The `__exit__` method is called at the end of execution no matter how the execution ends, even when an `Exception` is encountered.\n",
    "\n",
    "A Context Manager can be made to handle the execution context of the encapsulated block and be implemented as a class or a generator.\n",
    "\n",
    "* It should implement the `__enter__` and `__exit__` methods of a Context Manager class."
   ]
  },
  {
   "cell_type": "code",
   "execution_count": null,
   "metadata": {
    "collapsed": true
   },
   "outputs": [],
   "source": [
    "class ContextManager():\n",
    "    def __init__(self, cr):\n",
    "        pass\n",
    "\n",
    "    def __enter__(self):\n",
    "        pass\n",
    "\n",
    "    def __exit__(self, type, value, traceback):\n",
    "        pass"
   ]
  },
  {
   "cell_type": "markdown",
   "metadata": {},
   "source": [
    "* As a generator, a decorator is imported from contextlib and a `yield` statement in the middle of the block"
   ]
  },
  {
   "cell_type": "code",
   "execution_count": null,
   "metadata": {
    "collapsed": true
   },
   "outputs": [],
   "source": [
    "from contextlib import contextmanager\n",
    "\n",
    "@contextmanager\n",
    "def context_manager(c):\n",
    "    pass # enter statements\n",
    "    yield c  # block of code is executed here\n",
    "    pass # exit statements"
   ]
  },
  {
   "cell_type": "markdown",
   "metadata": {},
   "source": [
    "Usage:"
   ]
  },
  {
   "cell_type": "code",
   "execution_count": null,
   "metadata": {
    "collapsed": true
   },
   "outputs": [],
   "source": [
    "with ContextManager(arg) as a, context_manager(arg) as b:\n",
    "    do something with a and b"
   ]
  },
  {
   "cell_type": "markdown",
   "metadata": {},
   "source": [
    "The `with` statement can get advanced really fast. We won't get deep into it right now. It's good to know that you won't encounter a lot of this in your code. When the time comes that you do, you have some idea about it.\n",
    "\n",
    "Here's another example:"
   ]
  },
  {
   "cell_type": "code",
   "execution_count": null,
   "metadata": {
    "collapsed": false
   },
   "outputs": [],
   "source": [
    "import time\n",
    "from http import client\n",
    "\n",
    "class Timer(object):\n",
    "    \"\"\" \"\"\"\n",
    "    def __enter__(self):\n",
    "        self.start = time.clock()\n",
    "        return self\n",
    "\n",
    "    def __exit__(self, *args):\n",
    "        self.end = time.clock()\n",
    "        self.interval = self.end - self.start\n",
    "\n",
    "\n",
    "with Timer() as t:\n",
    "    conn = client.HTTPConnection('google.com')\n",
    "    conn.request('GET', '/')\n",
    "\n",
    "print('The request took {:0.4f} seconds.'.format(t.interval))"
   ]
  }
 ],
 "metadata": {
  "kernelspec": {
   "display_name": "Python 3",
   "language": "python",
   "name": "python3"
  },
  "language_info": {
   "codemirror_mode": {
    "name": "ipython",
    "version": 3
   },
   "file_extension": ".py",
   "mimetype": "text/x-python",
   "name": "python",
   "nbconvert_exporter": "python",
   "pygments_lexer": "ipython3",
   "version": "3.5.1"
  }
 },
 "nbformat": 4,
 "nbformat_minor": 0
}
