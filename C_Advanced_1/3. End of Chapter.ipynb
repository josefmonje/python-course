{
 "cells": [
  {
   "cell_type": "markdown",
   "metadata": {},
   "source": [
    "## Hey there!\n",
    "The advanced topics were a bit short, it only tackles about ORMs. \n",
    "\n",
    "How was your experience? Let us know! Here's a link to our survey form: https://goo.gl/ppIQP1\n",
    "\n",
    "Thank you very much, and see you on the next chapter. (Web Development)\n",
    "\n",
    "> ##### \"A person who never made a mistake never tried anything new.\"\n",
    "—Albert Einstein,  "
   ]
  }
 ],
 "metadata": {
  "kernelspec": {
   "display_name": "Python 3",
   "language": "python",
   "name": "python3"
  },
  "language_info": {
   "codemirror_mode": {
    "name": "ipython",
    "version": 3
   },
   "file_extension": ".py",
   "mimetype": "text/x-python",
   "name": "python",
   "nbconvert_exporter": "python",
   "pygments_lexer": "ipython3",
   "version": "3.5.1"
  }
 },
 "nbformat": 4,
 "nbformat_minor": 0
}
