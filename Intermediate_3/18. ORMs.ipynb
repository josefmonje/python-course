{
 "cells": [
  {
   "cell_type": "markdown",
   "metadata": {},
   "source": [
    "# ORMs\n",
    "\n",
    "#### What is an ORM?\n",
    "> [Object Relational Mapping](https://en.wikipedia.org/wiki/Object-relational_mapping)(ORM) is a technique that lets you query and manipulate data from a database using an object-oriented paradigm. When talking about ORM, most people are referring to a library that implements the Object-Relational Mapping technique, hence the phrase \"an ORM\".\n",
    "\n",
    "> An ORM library a completely ordinary library written in your language of choice that encapsulates the code needed to manipulate the data, so you don't use SQL anymore; you interact directly with an object in the same language you're using."
   ]
  },
  {
   "cell_type": "markdown",
   "metadata": {},
   "source": [
    "### Pros\n",
    "##### Pro # 1: It saves a lot of time\n",
    "> - [DRY](https://en.wikipedia.org/wiki/Don%27t_repeat_yourself): You write your data model in only one place, and it's easier to update, maintain, and reuse the code.\n",
    "\n",
    "> - A lot of stuff is done automatically, from database handling to I18N.\n",
    "- It forces you to write MVC code, which, in the end, makes your code a little cleaner.\n",
    "- You don't have to write poorly-formed SQL (most Web programmers really suck at it, because SQL is treated like a \"sub\" language, when in reality it's a very powerful and complex one)\n",
    "- Sanitizing; using prepared statements or transactions are as easy as calling a method."
   ]
  },
  {
   "cell_type": "markdown",
   "metadata": {},
   "source": [
    "##### Pro # 2: It is more flexible\n",
    "> - It fits in your natural way of coding (it's your language!)\n",
    "- It abstracts the DB system, so you can change it whenever you want.\n",
    "- The model is weakly bound to the rest of the application, so you can change it or use it anywhere else.\n",
    "- It lets you use OOP goodness like data inheritance without a headache.\n"
   ]
  },
  {
   "cell_type": "markdown",
   "metadata": {},
   "source": [
    "### Con\n",
    "##### It can be a pain\n",
    "> - You have to learn it, and ORM libraries are not lightweight tools;\n",
    "- You have to set it up. Same problem.\n",
    "- Performance is OK for usual queries, but a SQL master will always do better with his own SQL for big projects.\n",
    "- It abstracts the DB. While it's OK if you know what's happening behind the scene, it's a trap for new programmers that can write very greedy statements, like a heavy hit in a <b>`for`</b> loop."
   ]
  },
  {
   "cell_type": "markdown",
   "metadata": {},
   "source": [
    "## 18.1 PeeWee"
   ]
  },
  {
   "cell_type": "markdown",
   "metadata": {},
   "source": [
    "## 18.2 SQLAlchemy\n",
    "\n",
    "> SQLAlchemy is the Python SQL toolkit and Object Relational Mapper that gives application developers the full power and flexibility of SQL.\n",
    "\n",
    "> SQL databases behave less like object collections the more size and performance start to matter; object collections behave less like tables and rows the more abstraction starts to matter. SQLAlchemy aims to accommodate both of these principles.\n",
    "\n",
    ">SQLAlchemy considers the database to be a relational algebra engine, not just a collection of tables. Rows can be selected from not only tables but also joins and other select statements; any of these units can be composed into a larger structure. SQLAlchemy's expression language builds on this concept from its core.\n",
    "\n",
    "> The main goal of SQLAlchemy is to change the way you think about databases and SQL!"
   ]
  },
  {
   "cell_type": "markdown",
   "metadata": {
    "collapsed": true
   },
   "source": [
    "##### Version Check\n",
    "We should be on at least <b>version 1.1</b> of SQLAlchemy:"
   ]
  },
  {
   "cell_type": "code",
   "execution_count": null,
   "metadata": {
    "collapsed": true
   },
   "outputs": [],
   "source": [
    ">>> import sqlalchemy\n",
    ">>> sqlalchemy.__version__ "
   ]
  },
  {
   "cell_type": "markdown",
   "metadata": {},
   "source": [
    "##### Connecting\n",
    "For this tutorial we will use an in-memory-only SQLite database. To connect we use <b>`create_engine()`</b>:"
   ]
  },
  {
   "cell_type": "code",
   "execution_count": null,
   "metadata": {
    "collapsed": true
   },
   "outputs": [],
   "source": [
    ">>> from sqlalchemy import create_engine\n",
    ">>> engine = create_engine('sqlite:///:memory:', echo=True)"
   ]
  },
  {
   "cell_type": "markdown",
   "metadata": {},
   "source": [
    "##### Declare a Mapping\n",
    "For this tutorial we will use an in-memory-only SQLite database. To connect we use <b>`create_engine()`</b>:"
   ]
  },
  {
   "cell_type": "code",
   "execution_count": null,
   "metadata": {
    "collapsed": true
   },
   "outputs": [],
   "source": [
    ">>> from sqlalchemy.ext.declarative import declarative_base\n",
    "\n",
    ">>> Base = declarative_base()"
   ]
  },
  {
   "cell_type": "markdown",
   "metadata": {},
   "source": []
  }
 ],
 "metadata": {
  "kernelspec": {
   "display_name": "Python 3",
   "language": "python",
   "name": "python3"
  },
  "language_info": {
   "codemirror_mode": {
    "name": "ipython",
    "version": 3
   },
   "file_extension": ".py",
   "mimetype": "text/x-python",
   "name": "python",
   "nbconvert_exporter": "python",
   "pygments_lexer": "ipython3",
   "version": "3.5.1"
  }
 },
 "nbformat": 4,
 "nbformat_minor": 0
}
