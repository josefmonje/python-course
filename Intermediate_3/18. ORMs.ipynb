{
 "cells": [
  {
   "cell_type": "markdown",
   "metadata": {},
   "source": [
    "# ORMs\n",
    "\n",
    "#### What is an ORM?\n",
    "> [Object Relational Mapping](https://en.wikipedia.org/wiki/Object-relational_mapping)(ORM) is a technique that lets you query and manipulate data from a database using an object-oriented paradigm. When talking about ORM, most people are referring to a library that implements the Object-Relational Mapping technique, hence the phrase \"an ORM\".\n",
    "\n",
    "> An ORM library a completely ordinary library written in your language of choice that encapsulates the code needed to manipulate the data, so you don't use SQL anymore; you interact directly with an object in the same language you're using."
   ]
  },
  {
   "cell_type": "markdown",
   "metadata": {},
   "source": [
    "### Pros\n",
    "##### Pro # 1: It saves a lot of time\n",
    "> - [DRY](https://en.wikipedia.org/wiki/Don%27t_repeat_yourself): You write your data model in only one place, and it's easier to update, maintain, and reuse the code.\n",
    "\n",
    "> - A lot of stuff is done automatically, from database handling to I18N.\n",
    "- It forces you to write MVC code, which, in the end, makes your code a little cleaner.\n",
    "- You don't have to write poorly-formed SQL (most Web programmers really suck at it, because SQL is treated like a \"sub\" language, when in reality it's a very powerful and complex one)\n",
    "- Sanitizing; using prepared statements or transactions are as easy as calling a method."
   ]
  },
  {
   "cell_type": "markdown",
   "metadata": {},
   "source": [
    "##### Pro # 2: It is more flexible\n",
    "> - It fits in your natural way of coding (it's your language!)\n",
    "- It abstracts the DB system, so you can change it whenever you want.\n",
    "- The model is weakly bound to the rest of the application, so you can change it or use it anywhere else.\n",
    "- It lets you use OOP goodness like data inheritance without a headache.\n"
   ]
  },
  {
   "cell_type": "markdown",
   "metadata": {},
   "source": [
    "### Con\n",
    "##### It can be a pain\n",
    "> - You have to learn it, and ORM libraries are not lightweight tools;\n",
    "- You have to set it up. Same problem.\n",
    "- Performance is OK for usual queries, but a SQL master will always do better with his own SQL for big projects.\n",
    "- It abstracts the DB. While it's OK if you know what's happening behind the scene, it's a trap for new programmers that can write very greedy statements, like a heavy hit in a <b>`for`</b> loop."
   ]
  },
  {
   "cell_type": "markdown",
   "metadata": {},
   "source": [
    "## 18.1 PeeWee"
   ]
  },
  {
   "cell_type": "markdown",
   "metadata": {},
   "source": [
    "## 18.2 SQLAlchemy\n",
    "\n",
    "> SQLAlchemy is the Python SQL toolkit and Object Relational Mapper that gives application developers the full power and flexibility of SQL.\n",
    "\n",
    "> SQL databases behave less like object collections the more size and performance start to matter; object collections behave less like tables and rows the more abstraction starts to matter. SQLAlchemy aims to accommodate both of these principles.\n",
    "\n",
    ">SQLAlchemy considers the database to be a relational algebra engine, not just a collection of tables. Rows can be selected from not only tables but also joins and other select statements; any of these units can be composed into a larger structure. SQLAlchemy's expression language builds on this concept from its core.\n",
    "\n",
    "> The main goal of SQLAlchemy is to change the way you think about databases and SQL!"
   ]
  },
  {
   "cell_type": "markdown",
   "metadata": {
    "collapsed": true
   },
   "source": [
    "##### Version Check\n",
    "We should be on at least <b>version 1.1</b> of SQLAlchemy:"
   ]
  },
  {
   "cell_type": "code",
   "execution_count": null,
   "metadata": {
    "collapsed": true
   },
   "outputs": [],
   "source": [
    ">>> import sqlalchemy\n",
    ">>> sqlalchemy.__version__ "
   ]
  },
  {
   "cell_type": "markdown",
   "metadata": {},
   "source": [
    "##### Connecting\n",
    "For this tutorial we will use an in-memory-only SQLite database. To connect we use <b>`create_engine()`</b>:"
   ]
  },
  {
   "cell_type": "code",
   "execution_count": null,
   "metadata": {
    "collapsed": true
   },
   "outputs": [],
   "source": [
    ">>> from sqlalchemy import create_engine\n",
    ">>> engine = create_engine('sqlite:///:memory:', echo=True)"
   ]
  },
  {
   "cell_type": "markdown",
   "metadata": {},
   "source": [
    "<b>`echo`</b> \n",
    "- This is shortcut to setting up SQLAlchemy logging, which is accomplished via Python’s standard <b>`logging`</b> module. \n",
    "- With it enabled, we’ll see all the generated SQL produced. <i>(If you are working through this tutorial and want less output generated, set it to <b>`False`</b>. )</i>"
   ]
  },
  {
   "cell_type": "markdown",
   "metadata": {},
   "source": [
    "<b>`create_engine()`</b>\n",
    "- The return value of <b>`create_engine()`</b> is an instance of <b>`Engine`</b> and it represents the core interface to the database.\n",
    "\n",
    "> The `Engine`, when first returned by `create_engine()`, has not actually tried to connect to the database yet; that happens only the first time it is asked to perform a task against the database."
   ]
  },
  {
   "cell_type": "markdown",
   "metadata": {},
   "source": [
    "##### Declare a Mapping\n",
    "\n",
    "- When using the ORM, we need to describe the database tables we'll be dealing with, and then by defining our own classes, which will be mapped to those tables.\n",
    "\n",
    "- In modern SQLAlchemy, these two tasks are usually performed together, using a system known as `Declarative`, which allows us to create classes that include directives to describe the actual database table they will be mapped to."
   ]
  },
  {
   "cell_type": "code",
   "execution_count": null,
   "metadata": {
    "collapsed": true
   },
   "outputs": [],
   "source": [
    ">>> from sqlalchemy.ext.declarative import declarative_base\n",
    "\n",
    ">>> Base = declarative_base()"
   ]
  },
  {
   "cell_type": "markdown",
   "metadata": {},
   "source": [
    "Now that we have a “base”, we can define any number of mapped classes in terms of it. We will start with just a single table called users, which will store records for the end-users using our application. A new class called User will be the class to which we map this table. Within the class, we define details about the table to which we’ll be mapping, primarily the table name, and names and datatypes of columns:"
   ]
  },
  {
   "cell_type": "code",
   "execution_count": null,
   "metadata": {
    "collapsed": true
   },
   "outputs": [],
   "source": [
    ">>> from sqlalchemy import Column, Integer, String\n",
    ">>> class User(Base):\n",
    "...     __tablename__ = 'users'\n",
    "...\n",
    "...     id = Column(Integer, primary_key=True)\n",
    "...     name = Column(String)\n",
    "...     fullname = Column(String)\n",
    "...     password = Column(String)\n",
    "...\n",
    "...     def __repr__(self):\n",
    "...        return \"<User(name='%s', fullname='%s', password='%s')>\" % (\n",
    "...                             self.name, self.fullname, self.password)"
   ]
  },
  {
   "cell_type": "markdown",
   "metadata": {},
   "source": [
    "- A class using Declarative at a minimum needs a <b>`__tablename__`</b> attribute, and at least one Column which is part of a primary key.\n",
    "\n",
    "- SQLAlchemy never makes any assumptions by itself about the table to which a class refers, including that it has no built-in conventions for names, datatypes, or constraints.\n",
    "\n",
    "- But this doesn’t mean boilerplate is required; instead, you’re encouraged to create your own automated conventions using helper functions and mixin classes, which is described in detail at [Mixin and Custom Base Classes](http://docs.sqlalchemy.org/en/latest/orm/extensions/declarative/mixins.html#declarative-mixins)."
   ]
  },
  {
   "cell_type": "markdown",
   "metadata": {},
   "source": [
    "- When our class is constructed, Declarative replaces all the Column objects with special Python accessors known as descriptors; this is a process known as instrumentation. The “instrumented” mapped class will provide us with the means to refer to our table in a SQL context as well as to persist and load the values of columns from the database.\n",
    "\n",
    "- Outside of what the mapping process does to our class, the class remains otherwise mostly a normal Python class, to which we can define any number of ordinary attributes and methods needed by our application."
   ]
  },
  {
   "cell_type": "markdown",
   "metadata": {},
   "source": [
    "##### Declare a Schema\n",
    "\n",
    "With our User class constructed via the Declarative system, we have defined information about our table, known as table metadata. The object used by SQLAlchemy to represent this information for a specific table is called the Table object, and here Declarative has made one for us. We can see this object by inspecting the <b>`__table__`</b> attribute:"
   ]
  },
  {
   "cell_type": "code",
   "execution_count": null,
   "metadata": {
    "collapsed": false
   },
   "outputs": [],
   "source": [
    ">>> User.__table__\n",
    "Table('users', MetaData(bind=None),\n",
    "            Column('id', Integer(), table=<users>, primary_key=True, nullable=False),\n",
    "            Column('name', String(), table=<users>),\n",
    "            Column('fullname', String(), table=<users>),\n",
    "            Column('password', String(), table=<users>), schema=None)"
   ]
  },
  {
   "cell_type": "markdown",
   "metadata": {},
   "source": [
    "![Intermediate_3](./images/img_user_table.png)"
   ]
  },
  {
   "cell_type": "markdown",
   "metadata": {},
   "source": [
    "- When we declared our class, Declarative used a Python metaclass in order to perform additional activities once the class declaration was complete; within this phase, it then created a <b>`Table`</b> object according to our specifications, and associated it with the class by constructing a <b>`Mapper`</b> object.\n",
    "\n",
    "\n",
    "- This object is a behind-the-scenes object we normally don’t need to deal with directly (though it can provide plenty of information about our mapping when we need it)."
   ]
  },
  {
   "cell_type": "markdown",
   "metadata": {},
   "source": [
    "- The Table object is a member of a larger collection known as <b>`MetaData`</b>. When using Declarative, this object is available using the <b>`.metadata`</b> attribute of our declarative base class.\n",
    "\n",
    "\n",
    "- The MetaData is a registry which includes the ability to emit a limited set of schema generation commands to the database. As our SQLite database does not actually have a users table present, we can use MetaData to issue <b>`CREATE TABLE`</b> statements to the database for all tables that don’t yet exist. Below, we call the MetaData.create_all() method, passing in our Engine as a source of database connectivity. We will see that special commands are first emitted to check for the presence of the users table, and following that the actual CREATE TABLE statement:"
   ]
  },
  {
   "cell_type": "code",
   "execution_count": null,
   "metadata": {
    "collapsed": true
   },
   "outputs": [],
   "source": [
    ">>> Base.metadata.create_all(engine)\n",
    "SELECT ...\n",
    "PRAGMA table_info(\"users\")\n",
    "()\n",
    "CREATE TABLE users (\n",
    "    id INTEGER NOT NULL, name VARCHAR,\n",
    "    fullname VARCHAR,\n",
    "    password VARCHAR,\n",
    "    PRIMARY KEY (id)\n",
    ")\n",
    "()\n",
    "COMMIT"
   ]
  },
  {
   "cell_type": "markdown",
   "metadata": {},
   "source": [
    "![Intermediate_3](./images/img_metadata.png)"
   ]
  },
  {
   "cell_type": "markdown",
   "metadata": {},
   "source": [
    "##### Create an Instance of the Mapped Class\n",
    "\n",
    "With mappings complete, let’s now create and inspect a <b>`User`</b> object:"
   ]
  },
  {
   "cell_type": "code",
   "execution_count": null,
   "metadata": {
    "collapsed": true
   },
   "outputs": [],
   "source": [
    ">>> ed_user = User(name='ed', fullname='Ed Jones', password='edspassword')\n",
    ">>> ed_user.name\n",
    "'ed'\n",
    ">>> ed_user.password\n",
    "'edspassword'\n",
    ">>> str(ed_user.id)\n",
    "'None'"
   ]
  },
  {
   "cell_type": "markdown",
   "metadata": {},
   "source": [
    "![Intermediate_3](./images/img_instance.png)"
   ]
  },
  {
   "cell_type": "markdown",
   "metadata": {},
   "source": [
    "- Even though we didn’t specify it in the constructor, the id attribute still produces a value of None when we access it (as opposed to Python’s usual behavior of raising AttributeError for an undefined attribute). \n",
    "\n",
    "\n",
    "- SQLAlchemy’s instrumentation normally produces this default value for column-mapped attributes when first accessed. For those attributes where we’ve actually assigned a value, the instrumentation system is tracking those assignments for use within an eventual INSERT statement to be emitted to the database.\n",
    "\n"
   ]
  },
  {
   "cell_type": "markdown",
   "metadata": {},
   "source": [
    "##### Creating a Session\n",
    "\n",
    "We’re now ready to start talking to the database. The ORM’s “handle” to the database is the <b>`Session`</b>. When we first set up the application, at the same level as our <b>`create_engine()`</b> statement, we define a Session class which will serve as a factory for new <b>`Session`</b> objects:"
   ]
  },
  {
   "cell_type": "code",
   "execution_count": null,
   "metadata": {
    "collapsed": true
   },
   "outputs": [],
   "source": [
    ">>> from sqlalchemy.orm import sessionmaker\n",
    ">>> Session = sessionmaker(bind=engine)"
   ]
  },
  {
   "cell_type": "markdown",
   "metadata": {},
   "source": [
    "In the case where your application does not yet have an Engine when you define your module-level objects, just set it up like this:"
   ]
  },
  {
   "cell_type": "code",
   "execution_count": null,
   "metadata": {
    "collapsed": true
   },
   "outputs": [],
   "source": [
    ">>> Session = sessionmaker()"
   ]
  },
  {
   "cell_type": "markdown",
   "metadata": {},
   "source": [
    "Later, when you create your engine with create_engine(), connect it to the Session using configure():"
   ]
  },
  {
   "cell_type": "code",
   "execution_count": null,
   "metadata": {
    "collapsed": true
   },
   "outputs": [],
   "source": [
    ">>> Session.configure(bind=engine)  # once engine is available"
   ]
  },
  {
   "cell_type": "markdown",
   "metadata": {},
   "source": [
    "This custom-made <b>`Session`</b> class will create new <b>`Session`</b> objects which are bound to our database. Other transactional characteristics may be defined when calling <b>`sessionmaker`</b> as well; these are described in a later chapter. Then, whenever you need to have a conversation with the database, you instantiate a <b>`Session`</b>:"
   ]
  },
  {
   "cell_type": "code",
   "execution_count": null,
   "metadata": {
    "collapsed": true
   },
   "outputs": [],
   "source": [
    ">>> session = Session()"
   ]
  },
  {
   "cell_type": "markdown",
   "metadata": {},
   "source": [
    "The above Session is associated with our SQLite-enabled Engine, but it hasn’t opened any connections yet. When it’s first used, it retrieves a connection from a pool of connections maintained by the Engine, and holds onto it until we commit all changes and/or close the session object."
   ]
  },
  {
   "cell_type": "markdown",
   "metadata": {},
   "source": [
    "##### Adding and Updating objects\n",
    "\n",
    "To persist our <b>`User`</b> object, we add() it to our <b>`Session`</b>:"
   ]
  },
  {
   "cell_type": "code",
   "execution_count": null,
   "metadata": {
    "collapsed": true
   },
   "outputs": [],
   "source": [
    ">>> ed_user = User(name='ed', fullname='Ed Jones', password='edspassword')\n",
    ">>> session.add(ed_user)"
   ]
  },
  {
   "cell_type": "markdown",
   "metadata": {},
   "source": [
    "- We tell the Session that we’d like to issue all remaining changes to the database and commit the transaction, which has been in progress throughout. We do this via commit(). The Session emits the UPDATE statement for the password change on “ed”, as well as INSERT statements for the three new User objects we’ve added:"
   ]
  },
  {
   "cell_type": "code",
   "execution_count": null,
   "metadata": {
    "collapsed": true
   },
   "outputs": [],
   "source": [
    ">>> session.commit()"
   ]
  },
  {
   "cell_type": "markdown",
   "metadata": {},
   "source": [
    "![Intermediate_3](./images/img_commit.png)"
   ]
  },
  {
   "cell_type": "markdown",
   "metadata": {},
   "source": [
    "##### Rolling Back\n",
    "\n",
    "Since the Session works within a transaction, we can roll back changes made too. Let’s make two changes that we’ll revert; ed_user‘s user name gets set to Edwardo:"
   ]
  },
  {
   "cell_type": "code",
   "execution_count": null,
   "metadata": {
    "collapsed": true
   },
   "outputs": [],
   "source": [
    ">>> ed_user.name = 'Edwardo'"
   ]
  },
  {
   "cell_type": "markdown",
   "metadata": {
    "collapsed": true
   },
   "source": [
    "and we’ll add another erroneous user, fake_user:"
   ]
  },
  {
   "cell_type": "code",
   "execution_count": null,
   "metadata": {
    "collapsed": true
   },
   "outputs": [],
   "source": [
    ">>> fake_user = User(name='fakeuser', fullname='Invalid', password='12345')\n",
    ">>> session.add(fake_user)"
   ]
  },
  {
   "cell_type": "markdown",
   "metadata": {},
   "source": [
    "Querying the session, we can see that they’re flushed into the current transaction:"
   ]
  },
  {
   "cell_type": "code",
   "execution_count": null,
   "metadata": {
    "collapsed": true
   },
   "outputs": [],
   "source": [
    ">>> session.query(User).filter(User.name.in_(['Edwardo', 'fakeuser'])).all()\n",
    "[<User(name='Edwardo', fullname='Ed Jones', password='f8s7ccs')>, <User(name='fakeuser', fullname='Invalid', password='12345')>]"
   ]
  },
  {
   "cell_type": "markdown",
   "metadata": {},
   "source": [
    "Rolling back, we can see that ed_user‘s name is back to ed, and fake_user has been kicked out of the session:"
   ]
  },
  {
   "cell_type": "code",
   "execution_count": null,
   "metadata": {
    "collapsed": true
   },
   "outputs": [],
   "source": [
    ">>> session.rollback()\n",
    "\n",
    ">>> ed_user.name\n",
    "u'ed'\n",
    ">>> fake_user in session\n",
    "False"
   ]
  },
  {
   "cell_type": "markdown",
   "metadata": {},
   "source": [
    "issuing a SELECT illustrates the changes made to the database:"
   ]
  },
  {
   "cell_type": "code",
   "execution_count": null,
   "metadata": {
    "collapsed": true
   },
   "outputs": [],
   "source": [
    ">>> session.query(User).filter(User.name.in_(['ed', 'fakeuser'])).all()\n",
    "[<User(name='ed', fullname='Ed Jones', password='f8s7ccs')>]"
   ]
  }
 ],
 "metadata": {
  "kernelspec": {
   "display_name": "Python 3",
   "language": "python",
   "name": "python3"
  },
  "language_info": {
   "codemirror_mode": {
    "name": "ipython",
    "version": 3
   },
   "file_extension": ".py",
   "mimetype": "text/x-python",
   "name": "python",
   "nbconvert_exporter": "python",
   "pygments_lexer": "ipython3",
   "version": "3.5.1"
  }
 },
 "nbformat": 4,
 "nbformat_minor": 0
}
