{
 "cells": [
  {
   "cell_type": "markdown",
   "metadata": {},
   "source": [
    "# ORMs\n",
    "\n",
    "## What is an ORM?\n",
    "\n",
    "[Object Relational Mapping](https://en.wikipedia.org/wiki/Object-relational_mapping) _(aka ORM)_ is a technique that lets you query and manipulate data from a database using an object-oriented paradigm. \n",
    "\n",
    "An ORM library, written in the language of your choice, encapsulates the codes needed to manipulate the data so you don't use SQL anymore; you interact directly with an object in the same language you're using.\n",
    "\n",
    "### Pros\n",
    "\n",
    "#### It saves a lot of time\n",
    "\n",
    "- [DRY](https://en.wikipedia.org/wiki/Don%27t_repeat_yourself): You write your data model in only one place, and it's easier to update, maintain, and reuse the code.\n",
    "- A lot of stuff is done automatically, from database handling to I18N.\n",
    "- It forces you to write MVC code, which, in the end, makes your code a little cleaner.\n",
    "- You don't have to write poorly-formed SQL (most Web programmers really suck at it, because SQL is treated like a \"sub\" language, when in reality it's a very powerful and complex one)\n",
    "- Sanitizing; using prepared statements or transactions are as easy as calling a method.\n",
    "\n",
    "#### It is more flexible\n",
    "\n",
    "- It fits in your natural way of coding (it's your language!)\n",
    "- It abstracts the DB system, so you can change it whenever you want and it won't affect your code.\n",
    "- The model is weakly bound to the rest of the application, so you can change it or use it anywhere else.\n",
    "- It lets you use OOP goodness like data inheritance without a headache.\n",
    "\n",
    "### Con\n",
    "\n",
    "#### It can be a pain\n",
    "- You have to learn it, and ORM libraries are not lightweight tools;\n",
    "- You have to set it up. Same problem.\n",
    "- Performance is OK for usual queries, but a SQL master will always do better with his own SQL for big projects.\n",
    "- It abstracts the DB. While it's OK if you know what's happening behind the scene, it's a trap for new programmers that can write very greedy statements, like a heavy hit in a __`for`__ loop."
   ]
  },
  {
   "cell_type": "markdown",
   "metadata": {},
   "source": [
    "## 18.1 SQLAlchemy\n",
    "\n",
    "> SQLAlchemy is the Python SQL toolkit and Object Relational Mapper that gives application developers the full power and flexibility of SQL.\n",
    "\n",
    "> SQL databases behave less like object collections the more size and performance start to matter; object collections behave less like tables and rows the more abstraction starts to matter. SQLAlchemy aims to accommodate both of these principles.\n",
    "\n",
    ">SQLAlchemy considers the database to be a relational algebra engine, not just a collection of tables. Rows can be selected from not only tables but also joins and other select statements; any of these units can be composed into a larger structure. SQLAlchemy's expression language builds on this concept from its core.\n",
    "\n",
    "> The main goal of SQLAlchemy is to change the way you think about databases and SQL!\n",
    "\n",
    "### We'll cover how to:\n",
    "\n",
    "- Connect a Database\n",
    "- Declare a Mapping\n",
    "- Create a Schema\n",
    "- Create a Session\n",
    "- Create, Add and Update Objects in a Session\n",
    "- Rollback Changes\n",
    "- Query the Session\n",
    "\n",
    "#### Version Check\n",
    "\n",
    "This code works on __version 1.1__ of SQLAlchemy:"
   ]
  },
  {
   "cell_type": "code",
   "execution_count": null,
   "metadata": {
    "collapsed": true
   },
   "outputs": [],
   "source": [
    "import sqlalchemy\n",
    "\n",
    "sqlalchemy.__version__ "
   ]
  },
  {
   "cell_type": "markdown",
   "metadata": {},
   "source": [
    "### Connecting a Database\n",
    "\n",
    "For this tutorial we will use an in-memory-only SQLite database. To connect we use <b>`create_engine()`</b>:"
   ]
  },
  {
   "cell_type": "code",
   "execution_count": null,
   "metadata": {
    "collapsed": true
   },
   "outputs": [],
   "source": [
    "from sqlalchemy import create_engine\n",
    "\n",
    "engine = create_engine('sqlite:///:memory:', echo=True)"
   ]
  },
  {
   "cell_type": "markdown",
   "metadata": {},
   "source": [
    "__`echo`__\n",
    "\n",
    "- This is shortcut to setting up SQLAlchemy logging, which is accomplished via Python’s standard __`logging`__ module. \n",
    "- If this is set to __`True`__, we’ll see all the generated SQL produced. _(You can set it to __`False`__. )_\n",
    "\n",
    "__`create_engine()`__\n",
    "- The return value of __`create_engine()`__ is an instance of __`Engine`__ and it represents the core interface to the database. It has not actually tried to connect to the database yet; that happens only the first time it is asked to perform a task against the database.\n",
    "\n",
    "### Declaring a Mapping\n",
    "\n",
    "When using the ORM, we need to describe the database tables we'll be dealing with by defining classes, which will be mapped to those tables. This usually goes into the __`models.py`__ file of your application.\n",
    "\n",
    "- In this tutorial, we'll be using a system known as __`Declarative`__, which allows us to create classes that include directives to describe the actual database table they will be mapped to.\n",
    "\n",
    "- A class using __`Declarative`__ at a minimum needs a __`__tablename__`__ attribute, and at least one Column which is part of a primary key.\n",
    "\n",
    "- Outside of what the mapping process does to our class, the class remains otherwise mostly a normal Python class, to which we can define any number of ordinary attributes and methods needed by our application."
   ]
  },
  {
   "cell_type": "code",
   "execution_count": null,
   "metadata": {
    "collapsed": true
   },
   "outputs": [],
   "source": [
    "from sqlalchemy.ext.declarative import declarative_base\n",
    "\n",
    "Base = declarative_base()"
   ]
  },
  {
   "cell_type": "markdown",
   "metadata": {},
   "source": [
    "Now that we have a “base”, we can define any number of mapped classes in terms of it. We will start with just a single table called __`users`__, which will store records for the end-users using our application.\n",
    "\n",
    "A new class called __`User`__ will be the class to which we map this table. Within the class, we define details about the table to which we’ll be mapping, primarily the table name, and names and datatypes of columns:"
   ]
  },
  {
   "cell_type": "code",
   "execution_count": null,
   "metadata": {
    "collapsed": true
   },
   "outputs": [],
   "source": [
    "from sqlalchemy import Column, Integer, String\n",
    "\n",
    "\n",
    "class User(Base):\n",
    "        __tablename__ = 'users'\n",
    "\n",
    "        id = Column(Integer, primary_key=True)\n",
    "        name = Column(String)\n",
    "        fullname = Column(String)\n",
    "        password = Column(String)\n",
    "\n",
    "        def __repr__(self):\n",
    "            return \"<User(name='%s', fullname='%s', password='%s')>\" % (\n",
    "                self.name, self.fullname, self.password)"
   ]
  },
  {
   "cell_type": "markdown",
   "metadata": {},
   "source": [
    "### Creating a Schema\n",
    "\n",
    "When we declared our class, __`Declarative`__ used a Python metaclass in order to perform additional activities once the class declaration was complete; within this phase, it then created a __`Table`__ object according to our specifications, and associated it with the class by constructing a __`Mapper`__ object.\n",
    "\n",
    "The Table object is a member of a larger collection known as __`MetaData`__. When using __`Declarative`__, this object is available using the __`.metadata`__ attribute of our declarative base class.\n",
    "\n",
    "The __`MetaData`__ is a registry which includes the ability to emit a limited set of schema generation commands to the database. As our SQLite database does not actually have a users table present, we can use MetaData to issue __`CREATE TABLE`__ statements to the database for all tables that don’t yet exist. \n",
    "\n",
    "We call the __`MetaData.create_all()`__ method, passing in our Engine as a source of database connectivity. We will see that special commands are first emitted to check for the presence of the users table, and following that the actual __`CREATE TABLE`__ statement. Your application doesn't need to run this all the time. This is only executed to create the required tables so this should be in a conditional statement or a separate script."
   ]
  },
  {
   "cell_type": "code",
   "execution_count": null,
   "metadata": {
    "collapsed": true
   },
   "outputs": [],
   "source": [
    "Base.metadata.create_all(engine)"
   ]
  },
  {
   "cell_type": "markdown",
   "metadata": {},
   "source": [
    "![Intermediate_3](./images/img_meta_data.png)\n",
    "\n",
    "### Creating a Session\n",
    "\n",
    "We’re now ready to start talking to the database. The ORM’s “handle” to the database is the __`Session`__.\n",
    "\n",
    "When we first set up the application, at the same level as our __`create_engine()`__ statement, we define a __`Session`__ class which will serve as a factory for new __`Session`__ objects:"
   ]
  },
  {
   "cell_type": "code",
   "execution_count": null,
   "metadata": {
    "collapsed": true
   },
   "outputs": [],
   "source": [
    "from sqlalchemy.orm import sessionmaker\n",
    "\n",
    "Session = sessionmaker(bind=engine)"
   ]
  },
  {
   "cell_type": "markdown",
   "metadata": {},
   "source": [
    "In the case where your application does not yet have an Engine when you define your module-level objects, you can set it up later using connect it to the __`Session`__ using __`configure()`__:"
   ]
  },
  {
   "cell_type": "code",
   "execution_count": null,
   "metadata": {
    "collapsed": true
   },
   "outputs": [],
   "source": [
    "Session = sessionmaker()\n",
    "\n",
    "Session.configure(bind=engine)  # once engine is available"
   ]
  },
  {
   "cell_type": "markdown",
   "metadata": {},
   "source": [
    "This custom-made __`Session`__ class will create new __`Session`__ objects which are bound to our database. "
   ]
  },
  {
   "cell_type": "code",
   "execution_count": null,
   "metadata": {
    "collapsed": true
   },
   "outputs": [],
   "source": [
    "session = Session()"
   ]
  },
  {
   "cell_type": "markdown",
   "metadata": {},
   "source": [
    "The above __`session`__ is associated with our SQLite-enabled Engine, but it hasn’t opened any connections yet. The session is defined one time similar to how your database is defined only once in your application.\n",
    "\n",
    "When it’s first used, it retrieves a connection from a pool of connections maintained by the Engine, and holds onto it until we commit all changes and/or close the session object."
   ]
  },
  {
   "cell_type": "markdown",
   "metadata": {},
   "source": [
    "### Creating an Instance of the Mapped Class\n",
    "\n",
    "Let’s create and inspect a __`User`__ object. In your controllers or __`views.py`__ creating objects will look like this:"
   ]
  },
  {
   "cell_type": "code",
   "execution_count": null,
   "metadata": {
    "collapsed": true
   },
   "outputs": [],
   "source": [
    "ed_user = User(name='ed', fullname='Ed Jones', password='edspassword')\n",
    "ed_user.name"
   ]
  },
  {
   "cell_type": "markdown",
   "metadata": {},
   "source": [
    "![Intermediate_3](./images/img_ed.png)"
   ]
  },
  {
   "cell_type": "code",
   "execution_count": null,
   "metadata": {
    "collapsed": true
   },
   "outputs": [],
   "source": [
    "ed_user.password\n",
    "\n",
    "str(ed_user.id)"
   ]
  },
  {
   "cell_type": "markdown",
   "metadata": {},
   "source": [
    "![Intermediate_3](./images/img_ed_pw.png)\n",
    "\n",
    "- Even though we didn’t specify it in the constructor, the id attribute still produces a value of __`None`__ when we access it."
   ]
  },
  {
   "cell_type": "markdown",
   "metadata": {},
   "source": [
    "### Adding and Updating Objects\n",
    "\n",
    "To persist our __`User`__ object, we `add()` it to our __`Session`__:"
   ]
  },
  {
   "cell_type": "code",
   "execution_count": null,
   "metadata": {
    "collapsed": true
   },
   "outputs": [],
   "source": [
    "ed_user = User(name='ed', fullname='Ed Jones', password='edspassword')\n",
    "session.add(ed_user)"
   ]
  },
  {
   "cell_type": "markdown",
   "metadata": {},
   "source": [
    "- At this point, we say that the instance is pending; no SQL has yet been issued and the object is not yet represented by a row in the database. The Session will issue the SQL to persist Ed Jones as soon as is needed, using a process known as a flush. If we query the database for Ed Jones, all pending information will first be flushed, and the query is issued immediately thereafter.\n",
    "\n",
    "\n",
    "- For example, below we create a new Query object which loads instances of User. We “filter by” the name attribute of ed, and indicate that we’d like only the first result in the full list of rows. A User instance is returned which is equivalent to that which we’ve added:"
   ]
  },
  {
   "cell_type": "code",
   "execution_count": null,
   "metadata": {
    "collapsed": true
   },
   "outputs": [],
   "source": [
    "our_user = session.query(User).filter_by(name='ed').first() "
   ]
  },
  {
   "cell_type": "markdown",
   "metadata": {},
   "source": [
    "![Intermediate_3](./images/img_our_user.png)"
   ]
  },
  {
   "cell_type": "code",
   "execution_count": null,
   "metadata": {
    "collapsed": true
   },
   "outputs": [],
   "source": [
    "our_user"
   ]
  },
  {
   "cell_type": "markdown",
   "metadata": {},
   "source": [
    "![Intermediate_3](./images/img_our_user_ed.png)"
   ]
  },
  {
   "cell_type": "markdown",
   "metadata": {},
   "source": [
    "- In fact, the Session has identified that the row returned is the same row as one already represented within its internal map of objects, so we actually got back the identical instance as that which we just added:"
   ]
  },
  {
   "cell_type": "markdown",
   "metadata": {},
   "source": [
    "![Intermediate_3](./images/img_ed_our_user_true.png)"
   ]
  },
  {
   "cell_type": "markdown",
   "metadata": {},
   "source": [
    "- The ORM concept at work here is known as an identity map and ensures that all operations upon a particular row within a Session operate upon the same set of data. Once an object with a particular primary key is present in the Session, all SQL queries on that Session will always return the same Python object for that particular primary key; it also will raise an error if an attempt is made to place a second, already-persisted object with the same primary key within the session.\n",
    "\n",
    "- We can add more User objects at once using __`add_all()`__:"
   ]
  },
  {
   "cell_type": "code",
   "execution_count": null,
   "metadata": {
    "collapsed": true
   },
   "outputs": [],
   "source": [
    "session.add_all([\n",
    "    User(name='wendy', fullname='Wendy Williams', password='foobar'),\n",
    "    User(name='mary', fullname='Mary Contrary', password='xxg527'),\n",
    "    User(name='fred', fullname='Fred Flinstone', password='blah')])"
   ]
  },
  {
   "cell_type": "markdown",
   "metadata": {},
   "source": [
    "- Also, we’ve decided the password for Ed isn’t too secure, so lets change it:"
   ]
  },
  {
   "cell_type": "code",
   "execution_count": null,
   "metadata": {
    "collapsed": true
   },
   "outputs": [],
   "source": [
    "ed_user.password = 'f8s7ccs'"
   ]
  },
  {
   "cell_type": "markdown",
   "metadata": {},
   "source": [
    "- The Session is paying attention. It knows, for example, that Ed Jones has been modified:"
   ]
  },
  {
   "cell_type": "code",
   "execution_count": null,
   "metadata": {
    "collapsed": true
   },
   "outputs": [],
   "source": [
    "session.dirty"
   ]
  },
  {
   "cell_type": "markdown",
   "metadata": {},
   "source": [
    "![Intermediate_3](./images/img_session_dirty.png)"
   ]
  },
  {
   "cell_type": "markdown",
   "metadata": {},
   "source": [
    "- and that three new User objects are pending:"
   ]
  },
  {
   "cell_type": "code",
   "execution_count": null,
   "metadata": {
    "collapsed": true
   },
   "outputs": [],
   "source": [
    "session.new"
   ]
  },
  {
   "cell_type": "markdown",
   "metadata": {},
   "source": [
    "![Intermediate_3](./images/img_session_new.png)"
   ]
  },
  {
   "cell_type": "markdown",
   "metadata": {},
   "source": [
    "- We tell the Session that we’d like to issue all remaining changes to the database and commit the transaction, which has been in progress throughout. We do this via commit(). The Session emits the UPDATE statement for the password change on “ed”, as well as INSERT statements for the three new User objects we’ve added:"
   ]
  },
  {
   "cell_type": "code",
   "execution_count": null,
   "metadata": {
    "collapsed": true
   },
   "outputs": [],
   "source": [
    "session.commit()"
   ]
  },
  {
   "cell_type": "markdown",
   "metadata": {},
   "source": [
    "![Intermediate_3](./images/img_fake_user.png)"
   ]
  },
  {
   "cell_type": "markdown",
   "metadata": {},
   "source": [
    "- __`commit()`__ flushes whatever remaining changes remain to the database, and commits the transaction. The connection resources referenced by the session are now returned to the connection pool. Subsequent operations with this session will occur in a new transaction, which will again re-acquire connection resources when first needed.\n",
    "\n",
    "- If we look at Ed’s id attribute, which earlier was None, it now has a value:"
   ]
  },
  {
   "cell_type": "code",
   "execution_count": null,
   "metadata": {
    "collapsed": true
   },
   "outputs": [],
   "source": [
    "ed_user.id "
   ]
  },
  {
   "cell_type": "markdown",
   "metadata": {},
   "source": [
    "![Intermediate_3](./images/img_ed_user_1.png)"
   ]
  },
  {
   "cell_type": "markdown",
   "metadata": {},
   "source": [
    "- After the __`Session`__ inserts new rows in the database, all newly generated identifiers and database-generated defaults become available on the instance, either immediately or via load-on-first-access. \n",
    "\n",
    "- In this case, the entire row was re-loaded on access because a new transaction was begun after we issued __`commit()`__. SQLAlchemy by default refreshes data from a previous transaction the first time it’s accessed within a new transaction, so that the most recent state is available.\n",
    "\n",
    "### Rolling Back Changes\n",
    "\n",
    "- Since the Session works within a transaction, we can roll back changes made too. Let’s make two changes that we’ll revert; ed_user‘s user name gets set to Edwardo:"
   ]
  },
  {
   "cell_type": "code",
   "execution_count": null,
   "metadata": {
    "collapsed": true
   },
   "outputs": [],
   "source": [
    "ed_user.name = 'Edwardo'"
   ]
  },
  {
   "cell_type": "markdown",
   "metadata": {
    "collapsed": true
   },
   "source": [
    "- and we’ll add another erroneous user, __`fake_user`__:"
   ]
  },
  {
   "cell_type": "code",
   "execution_count": null,
   "metadata": {
    "collapsed": true
   },
   "outputs": [],
   "source": [
    "fake_user = User(name='fakeuser', fullname='Invalid', password='12345')\n",
    "session.add(fake_user)"
   ]
  },
  {
   "cell_type": "markdown",
   "metadata": {},
   "source": [
    "- Querying the session, we can see that they’re flushed into the current transaction:"
   ]
  },
  {
   "cell_type": "code",
   "execution_count": null,
   "metadata": {
    "collapsed": true
   },
   "outputs": [],
   "source": [
    "session.query(User).filter(User.name.in_(['Edwardo', 'fakeuser'])).all()"
   ]
  },
  {
   "cell_type": "markdown",
   "metadata": {},
   "source": [
    "- Rolling back, we can see that ed_user‘s name is back to ed, and __`fake_user`__ has been kicked out of the session:"
   ]
  },
  {
   "cell_type": "code",
   "execution_count": null,
   "metadata": {
    "collapsed": true
   },
   "outputs": [],
   "source": [
    "session.rollback()"
   ]
  },
  {
   "cell_type": "markdown",
   "metadata": {},
   "source": [
    "![Intermediate_3](./images/img_rollback.png)"
   ]
  },
  {
   "cell_type": "code",
   "execution_count": null,
   "metadata": {
    "collapsed": true
   },
   "outputs": [],
   "source": [
    "ed_user.name"
   ]
  },
  {
   "cell_type": "markdown",
   "metadata": {},
   "source": [
    "![Intermediate_3](./images/img_ed_username.png)"
   ]
  },
  {
   "cell_type": "code",
   "execution_count": null,
   "metadata": {
    "collapsed": true
   },
   "outputs": [],
   "source": [
    "fake_user in session"
   ]
  },
  {
   "cell_type": "markdown",
   "metadata": {},
   "source": [
    "![Intermediate_3](./images/img_fake_user_false.png)"
   ]
  },
  {
   "cell_type": "markdown",
   "metadata": {},
   "source": [
    "- issuing a __`SELECT`__ illustrates the changes made to the database:"
   ]
  },
  {
   "cell_type": "code",
   "execution_count": null,
   "metadata": {
    "collapsed": false
   },
   "outputs": [],
   "source": [
    "session.query(User).filter(User.name.in_(['ed', 'fakeuser'])).all()"
   ]
  },
  {
   "cell_type": "markdown",
   "metadata": {},
   "source": [
    "![Intermediate_3](./images/img_query_user.png)"
   ]
  },
  {
   "cell_type": "markdown",
   "metadata": {},
   "source": [
    "### Querying the Session\n",
    "\n",
    "- A Query object is created using the __`query()`__ method on __`Session`__.\n",
    "\n",
    "- This function takes a variable number of arguments, which can be any combination of classes and class-instrumented descriptors. \n",
    "\n",
    "- Below, we indicate a Query which loads User instances. When evaluated in an iterative context, the list of User objects present is returned:"
   ]
  },
  {
   "cell_type": "code",
   "execution_count": null,
   "metadata": {
    "collapsed": true
   },
   "outputs": [],
   "source": [
    "for instance in session.query(User).order_by(User.id):\n",
    "        print(instance.name, instance.fullname)"
   ]
  },
  {
   "cell_type": "markdown",
   "metadata": {},
   "source": [
    "![Intermediate_3](./images/img_return_user_object.png)"
   ]
  },
  {
   "cell_type": "markdown",
   "metadata": {},
   "source": [
    "- You can control the names of individual column expressions using the __`label()`__ construct, which is available from any ColumnElement-derived object, as well as any class attribute which is mapped to one (such as `User.name`):"
   ]
  },
  {
   "cell_type": "code",
   "execution_count": null,
   "metadata": {
    "collapsed": true
   },
   "outputs": [],
   "source": [
    "for row in session.query(User.name.label('name_label')).all():\n",
    "    print(row.name_label)"
   ]
  },
  {
   "cell_type": "markdown",
   "metadata": {},
   "source": [
    "![Intermediate_3](./images/img_row_label.png)"
   ]
  },
  {
   "cell_type": "markdown",
   "metadata": {},
   "source": [
    "- The name given to a full entity such as `User`, assuming that multiple entities are present in the call to __`query()`__, can be controlled using __`aliased()`__:"
   ]
  },
  {
   "cell_type": "code",
   "execution_count": null,
   "metadata": {
    "collapsed": true
   },
   "outputs": [],
   "source": [
    "from sqlalchemy.orm import aliased\n",
    "user_alias = aliased(User, name='user_alias')\n",
    "\n",
    "for row in session.query(user_alias, user_alias.name).all():\n",
    "    print(row.user_alias)"
   ]
  },
  {
   "cell_type": "markdown",
   "metadata": {},
   "source": [
    "![Intermediate_3](./images/img_alias.png)"
   ]
  },
  {
   "cell_type": "markdown",
   "metadata": {},
   "source": [
    "- Basic operations with Query include issuing __`LIMIT`__ and __`OFFSET`__, most conveniently using Python array slices and typically in conjunction with __`ORDER BY`__:"
   ]
  },
  {
   "cell_type": "code",
   "execution_count": null,
   "metadata": {
    "collapsed": true
   },
   "outputs": [],
   "source": [
    "for u in session.query(User).order_by(User.id)[1:3]:\n",
    "    print(u)"
   ]
  },
  {
   "cell_type": "markdown",
   "metadata": {},
   "source": [
    "![Intermediate_3](./images/img_offset_limit.png)"
   ]
  },
  {
   "cell_type": "markdown",
   "metadata": {},
   "source": [
    "- and filtering results, which is accomplished either with `filter_by()`, which uses keyword arguments:"
   ]
  },
  {
   "cell_type": "code",
   "execution_count": null,
   "metadata": {
    "collapsed": true
   },
   "outputs": [],
   "source": [
    "for name, in session.query(User.name).filter_by(fullname='Ed Jones'):\n",
    "    print(name)"
   ]
  },
  {
   "cell_type": "markdown",
   "metadata": {},
   "source": [
    "![Intermediate_3](./images/img_filter_by_ed.png)"
   ]
  },
  {
   "cell_type": "markdown",
   "metadata": {},
   "source": [
    "- or __`filter()`__, which uses more flexible SQL expression language constructs. These allow you to use regular Python operators with the class-level attributes on your mapped class:"
   ]
  },
  {
   "cell_type": "code",
   "execution_count": null,
   "metadata": {
    "collapsed": true
   },
   "outputs": [],
   "source": [
    "for name, in session.query(User.name).filter(User.fullname=='Ed Jones'):\n",
    "    print(name)"
   ]
  },
  {
   "cell_type": "markdown",
   "metadata": {},
   "source": [
    "![Intermediate_3](./images/img_filter_ed.png)"
   ]
  },
  {
   "cell_type": "markdown",
   "metadata": {},
   "source": [
    "### Summary\n",
    "\n",
    "Your SQLAlchemy code may be summed up and organized like this:"
   ]
  },
  {
   "cell_type": "code",
   "execution_count": null,
   "metadata": {
    "collapsed": true
   },
   "outputs": [],
   "source": [
    "# In your settings.py file\n",
    "from sqlalchemy import create_engine\n",
    "\n",
    "engine = create_engine('sqlite:///:memory:', echo=True)\n",
    "\n",
    "\n",
    "# In your database creation script\n",
    "Base.metadata.create_all(engine)\n",
    "\n",
    "\n",
    "# In your models.py\n",
    "from sqlalchemy import Column, Integer, String\n",
    "from sqlalchemy.ext.declarative import declarative_base\n",
    "\n",
    "Base = declarative_base()\n",
    "\n",
    "class User(Base):\n",
    "        __tablename__ = 'users'\n",
    "\n",
    "        id = Column(Integer, primary_key=True)\n",
    "        name = Column(String)\n",
    "        fullname = Column(String)\n",
    "        password = Column(String)\n",
    "\n",
    "        def __repr__(self):\n",
    "            return \"<User(name='%s', fullname='%s', password='%s')>\" % (\n",
    "                self.name, self.fullname, self.password)\n",
    "\n",
    "\n",
    "# In your views.py\n",
    "from sqlalchemy.orm import sessionmaker\n",
    "\n",
    "Session = sessionmaker(bind=engine)\n",
    "session = Session()\n",
    "\n",
    "ed_user = User(name='ed', fullname='Ed Jones', password='edspassword')\n",
    "session.add(ed_user)\n",
    "\n",
    "session.commit()\n",
    "session.rollback()\n",
    "\n",
    "our_user = session.query(User).filter_by(name='ed').first()"
   ]
  },
  {
   "cell_type": "markdown",
   "metadata": {},
   "source": [
    "## 18.2 Peewee"
   ]
  },
  {
   "cell_type": "code",
   "execution_count": null,
   "metadata": {
    "collapsed": true
   },
   "outputs": [],
   "source": []
  }
 ],
 "metadata": {
  "kernelspec": {
   "display_name": "Python 3",
   "language": "python",
   "name": "python3"
  },
  "language_info": {
   "codemirror_mode": {
    "name": "ipython",
    "version": 3
   },
   "file_extension": ".py",
   "mimetype": "text/x-python",
   "name": "python",
   "nbconvert_exporter": "python",
   "pygments_lexer": "ipython3",
   "version": "3.5.1"
  }
 },
 "nbformat": 4,
 "nbformat_minor": 0
}
