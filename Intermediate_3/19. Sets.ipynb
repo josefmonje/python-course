{
 "cells": [
  {
   "cell_type": "markdown",
   "metadata": {},
   "source": [
    "# Sets\n",
    "\n",
    "Set is an <b>unordered</b> collection of <b>unique</b> (no duplicate) objects.  Sets can be used to perform mathematical set operations like union, intersection, symmetric difference etc."
   ]
  },
  {
   "cell_type": "markdown",
   "metadata": {},
   "source": [
    "## 19.1 Creating a set\n",
    "\n",
    "If we want to create a set, we can call the built-in <b>`set()`</b> function with a sequence or another iterable object: \n",
    "\n"
   ]
  },
  {
   "cell_type": "code",
   "execution_count": null,
   "metadata": {
    "collapsed": false
   },
   "outputs": [],
   "source": [
    "# Run the Code\n",
    "x = set(\"Python Tutorial\")\n",
    "\n",
    "xpreferably"
   ]
  },
  {
   "cell_type": "markdown",
   "metadata": {},
   "source": [
    "We can pass a list to the built-in set function, as we can see in the following: "
   ]
  },
  {
   "cell_type": "code",
   "execution_count": null,
   "metadata": {
    "collapsed": false
   },
   "outputs": [],
   "source": [
    "# Run the Code\n",
    "x = set([\"strawberry\", \"orange\", \"apple\", \"grapes\"])\n",
    "\n",
    "x"
   ]
  },
  {
   "cell_type": "markdown",
   "metadata": {},
   "source": [
    "We want to show now, what happens, if we pass a tuple with reappearing elements to the set function - in our example the country \"Philippines\": "
   ]
  },
  {
   "cell_type": "code",
   "execution_count": null,
   "metadata": {
    "collapsed": false
   },
   "outputs": [],
   "source": [
    "# Run the Code\n",
    "cities = set((\"Philippines\", \"Japan\", \"South Korea\",\"Singapore\",\"Philippines\",\"Italy\"))\n",
    "\n",
    "cities"
   ]
  },
  {
   "cell_type": "markdown",
   "metadata": {},
   "source": [
    "As we have expected, no doublets are in the resulting set of countries."
   ]
  },
  {
   "cell_type": "markdown",
   "metadata": {},
   "source": [
    "#### NOTE: Since Python 2.6, we can define sets without using the built-in set function. \n",
    "\n",
    "We can use curly braces instead: "
   ]
  },
  {
   "cell_type": "code",
   "execution_count": null,
   "metadata": {
    "collapsed": false
   },
   "outputs": [],
   "source": [
    "# Run the code\n",
    "fruits = {\"strawberry\", \"orange\", \"apple\", \"grapes\"}\n",
    "\n",
    "fruits"
   ]
  },
  {
   "cell_type": "markdown",
   "metadata": {},
   "source": [
    "## 19.2 Methods\n",
    "\n",
    "\n",
    "### `add( )`\n",
    "A method which adds an element, which has to be immutable, to a set.\n"
   ]
  },
  {
   "cell_type": "code",
   "execution_count": null,
   "metadata": {
    "collapsed": true
   },
   "outputs": [],
   "source": [
    "# Run the code\n",
    "colors = {'yellow','red'}\n",
    "colors.add('blue')\n",
    "\n",
    "colors"
   ]
  },
  {
   "cell_type": "markdown",
   "metadata": {},
   "source": [
    "### `clear( )`\n",
    "All elements will be removed from a set."
   ]
  },
  {
   "cell_type": "code",
   "execution_count": null,
   "metadata": {
    "collapsed": false
   },
   "outputs": [],
   "source": [
    "# Run the code\n",
    "colors = {'yellow','red', 'blue'}\n",
    "colors.clear()\n",
    "\n",
    "colors"
   ]
  },
  {
   "cell_type": "markdown",
   "metadata": {},
   "source": [
    "### `copy( )`\n",
    "Creates a shallow copy, which is returned."
   ]
  },
  {
   "cell_type": "code",
   "execution_count": null,
   "metadata": {
    "collapsed": false
   },
   "outputs": [],
   "source": [
    "colors = {'yellow','red', 'blue'}\n",
    "colors_backup = colors.copy()\n",
    "\n",
    "colors.clear() # We removed the elements form set 'color'\n",
    "\n",
    "# Let's see if the backup worked. Run the code\n",
    "colors_backup"
   ]
  },
  {
   "cell_type": "markdown",
   "metadata": {},
   "source": [
    "### `union( )`\n",
    "Returns the union of a set and the set of elements in an iterable. \n",
    "![Intermediate_3](./images/img_union.png)\n",
    "\n",
    "\n",
    "\n",
    "For example, you want to return the list of all the students:"
   ]
  },
  {
   "cell_type": "code",
   "execution_count": null,
   "metadata": {
    "collapsed": false
   },
   "outputs": [],
   "source": [
    "# Run the Code\n",
    "math_students = set([\"Jake\", \"Janice\", \"Jane\"])\n",
    "english_students = set([\"Josh\", \"Jane\"])\n",
    "\n",
    "math_students.union(english_students)"
   ]
  },
  {
   "cell_type": "markdown",
   "metadata": {},
   "source": [
    "### `intersection( )`\n",
    "The resulting <b>`set`</b> has elements that are common to both source <b>`sets`</b>.\n",
    "![Intermediate_3](./images/img_intersection.png)\n",
    "\n",
    "For example, you want to return the list of the students who are taking up both Math and English classes:"
   ]
  },
  {
   "cell_type": "code",
   "execution_count": null,
   "metadata": {
    "collapsed": false
   },
   "outputs": [],
   "source": [
    "# Run the Code\n",
    "math_students = set([\"Jake\", \"Janice\", \"Jane\"])\n",
    "english_students = set([\"Josh\", \"Jane\"])\n",
    "\n",
    "math_students.intersection(english_students)"
   ]
  },
  {
   "cell_type": "markdown",
   "metadata": {},
   "source": [
    "### `symmetric_difference( )`\n",
    "\n",
    "The resulting <b>`set`</b> has elements which are unique to each <b>`set`</b>.\n",
    "![Intermediate_3](./images/img_symmetric_difference.png)\n",
    "\n",
    "For example, you want to return the list of the students are only taking up one of the classes:"
   ]
  },
  {
   "cell_type": "code",
   "execution_count": null,
   "metadata": {
    "collapsed": false
   },
   "outputs": [],
   "source": [
    "# Run the Code\n",
    "math_students = set([\"Jake\", \"Janice\", \"Jane\"])\n",
    "english_students = set([\"Josh\", \"Jane\"])\n",
    "\n",
    "math_students.symmetric_difference(english_students)"
   ]
  }
 ],
 "metadata": {
  "kernelspec": {
   "display_name": "Python 3",
   "language": "python",
   "name": "python3"
  },
  "language_info": {
   "codemirror_mode": {
    "name": "ipython",
    "version": 3
   },
   "file_extension": ".py",
   "mimetype": "text/x-python",
   "name": "python",
   "nbconvert_exporter": "python",
   "pygments_lexer": "ipython3",
   "version": "3.5.1"
  }
 },
 "nbformat": 4,
 "nbformat_minor": 0
}
