{
 "cells": [
  {
   "cell_type": "markdown",
   "metadata": {},
   "source": [
    "## 01. Hello, World!\n",
    "\n",
    "Welcome to Python!\n",
    "\n",
    "You'll be using these interactive notebooks throughout this tutorial.\n",
    "\n",
    "It is recommended to use Python 3. You can check the version that you're using on the upper right side of your screen:\n",
    "\n",
    "![Beginner_1](./images/img_version.png)\n",
    "\n",
    "You may run the codes (__`shift + enter`__ in the box), and change it. Basically you may do whatever you want to the codes for testing. :)"
   ]
  },
  {
   "cell_type": "code",
   "execution_count": null,
   "metadata": {
    "collapsed": false
   },
   "outputs": [],
   "source": [
    "# Run the code below\n",
    "\n",
    "print(\"Hello, World!\")"
   ]
  },
  {
   "cell_type": "markdown",
   "metadata": {},
   "source": [
    "#### Exercise:\n",
    "\n",
    "Print your name in this format:\n",
    "\n",
    "Hi, I'm `___________`."
   ]
  },
  {
   "cell_type": "code",
   "execution_count": null,
   "metadata": {
    "collapsed": false
   },
   "outputs": [],
   "source": [
    "#Write your code below\n",
    "\n",
    "\n",
    "\n",
    "\n"
   ]
  },
  {
   "cell_type": "markdown",
   "metadata": {},
   "source": [
<<<<<<< HEAD
    "If you're having trouble or for some reason, you just want to restart the kernel, you may do so! On the navigation bar, click on __Kernel__ and click __Restart__ (other versions may have different options):\n",
    "\n",
    "![Beginner_1](./images/img_restart.png)\n",
    "\n",
    "A prompt will appear and you may choose between __Clear all outputs & restart__ or just __Restart__:\n",
    "\n",
=======
    "If you're having trouble or for some reason, you just want to restart the kernel, you may do so! On the navigation bar, click on __Kernel__ and choose __Restart__ (menus may be different in other versions):\n",
    "\n",
    "![Beginner_1](./images/img_restart.png)\n",
    "\n",
    "A promt will appear and you may choose between __Clear all outputs & restart__ or just __Restart__:\n",
    "\n",
>>>>>>> origin/beginner1
    "![Beginner_1](./images/img_kernel_options.png)\n",
    "\n",
    "Good luck and have fun! "
   ]
  }
 ],
 "metadata": {
  "kernelspec": {
   "display_name": "Python 3",
   "language": "python",
   "name": "python3"
  },
  "language_info": {
   "codemirror_mode": {
    "name": "ipython",
    "version": 3
   },
   "file_extension": ".py",
   "mimetype": "text/x-python",
   "name": "python",
   "nbconvert_exporter": "python",
   "pygments_lexer": "ipython3",
   "version": "3.5.1"
  }
 },
 "nbformat": 4,
 "nbformat_minor": 0
}
