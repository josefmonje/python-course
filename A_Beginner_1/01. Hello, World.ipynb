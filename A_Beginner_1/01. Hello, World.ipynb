{
 "cells": [
  {
   "cell_type": "markdown",
   "metadata": {},
   "source": [
    "## 01. Hello, World!"
   ]
  },
  {
   "cell_type": "markdown",
   "metadata": {},
   "source": [
    "Welcome to Python!\n",
    "You'll be using these interactive notebooks throughout this tutorial.\n",
    "\n",
    "It is recommended to use Python 3. You can check the version that you're using on the upper right side of your screen:\n",
    "\n",
    "![Beginner_1](./images/img_version.png)\n",
    "\n",
    "You may run the codes (__`shift + enter`__), and change it. Basically you may do whatever you want to the codes for testing. :)"
   ]
  },
  {
   "cell_type": "code",
   "execution_count": null,
   "metadata": {
    "collapsed": false
   },
   "outputs": [],
   "source": [
    "# Run the code below\n",
    "\n",
    "print(\"Hello, World!\")"
   ]
  },
  {
   "cell_type": "markdown",
   "metadata": {},
   "source": [
    "#### Exercise:\n",
    "\n",
    "Print your name in this format:\n",
    "\n",
    "Hi, I'm ______________________________________."
   ]
  },
  {
   "cell_type": "code",
   "execution_count": null,
   "metadata": {
    "collapsed": false
   },
   "outputs": [],
   "source": [
    "#Write your code below\n",
    "\n",
    "\n",
    "\n",
    "\n"
   ]
  },
  {
   "cell_type": "markdown",
   "metadata": {},
   "source": [
    "If you're having trouble or for some reason, you just want to restart the kernel, you may do so! On the navigation bar, click on __Kernel__ and choose __Restart__:\n",
    "\n",
    "![Beginner_1](./images/img_restart.png)\n",
    "\n"
   ]
  },
  {
   "cell_type": "markdown",
   "metadata": {},
   "source": [
    "A promt will appear and you may choose between __Clear all outputs & restart__ or just __Restart__:\n",
    "\n",
    "![Beginner_1](./images/img_kernel_options.png)"
   ]
  },
  {
   "cell_type": "markdown",
   "metadata": {
    "collapsed": true
   },
   "source": [
    "Good luck and have fun!"
   ]
  }
 ],
 "metadata": {
  "kernelspec": {
   "display_name": "Python 3",
   "language": "python",
   "name": "python3"
  },
  "language_info": {
   "codemirror_mode": {
    "name": "ipython",
    "version": 3
   },
   "file_extension": ".py",
   "mimetype": "text/x-python",
   "name": "python",
   "nbconvert_exporter": "python",
   "pygments_lexer": "ipython3",
   "version": "3.5.1"
  }
 },
 "nbformat": 4,
 "nbformat_minor": 0
}
