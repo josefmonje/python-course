{
 "cells": [
  {
   "cell_type": "markdown",
   "metadata": {},
   "source": [
    "# 03. Coding Style\n",
    "\n",
    "## 3.1 Whitespace\n",
    "\n",
    "In Python, whitespace is used to structure code. Whitespace is important, so you have to be careful with how you use it.\n",
    "\n",
    "I'll be showing some examples, but don't worry about the code just yet. I just want you to know the use of whitespaces. We'll tackle more about the codes you'll see below a little later.\n",
    "\n",
    "##### Avoid whitespaces in the following situations:\n",
    "\n",
    "- Immediately inside the parentheses, brackets, or braces"
   ]
  },
  {
   "cell_type": "code",
   "execution_count": null,
   "metadata": {
    "collapsed": true
   },
   "outputs": [],
   "source": [
    "# Yes:\n",
    "spam(ham[1], {eggs: 2})\n",
    "\n",
    "# No:\n",
    "spam( ham[ 1 ], { eggs: 2 } )"
   ]
  },
  {
   "cell_type": "markdown",
   "metadata": {},
   "source": [
    "- Immediately before a comma, semicolon, or colon:"
   ]
  },
  {
   "cell_type": "code",
   "execution_count": null,
   "metadata": {
    "collapsed": true
   },
   "outputs": [],
   "source": [
    "# Yes:\n",
    "if x == 4: print x, y; x, y = y, x\n",
    "\n",
    "# No:\n",
    "if x == 4 : print x , y ; x , y = y , x"
   ]
  },
  {
   "cell_type": "markdown",
   "metadata": {},
   "source": [
    "- Immediately before the open parenthesis that starts an indexing or slicing. "
   ]
  },
  {
   "cell_type": "code",
   "execution_count": null,
   "metadata": {
    "collapsed": false
   },
   "outputs": [],
   "source": [
    "# Yes:\n",
    "dct['key'] = lst[index]\n",
    "\n",
    "# No:\n",
    "dct ['key'] = lst [index]"
   ]
  },
  {
   "cell_type": "markdown",
   "metadata": {},
   "source": [
    "- More than once space around an assignment(or other) operator to align  it with another."
   ]
  },
  {
   "cell_type": "code",
   "execution_count": null,
   "metadata": {
    "collapsed": true
   },
   "outputs": [],
   "source": [
    "# Yes\n",
    "x = 1\n",
    "y = 2\n",
    "long_variable = 3"
   ]
  },
  {
   "cell_type": "code",
   "execution_count": null,
   "metadata": {
    "collapsed": true
   },
   "outputs": [],
   "source": [
    "# No\n",
    "x             = 1\n",
    "y             = 2\n",
    "long_variable = 3"
   ]
  },
  {
   "cell_type": "markdown",
   "metadata": {},
   "source": [
    "For other rules, please click [here](https://docs.python.org/3/reference/lexical_analysis.html)\n",
    "\n",
    "## 3.2 Indentation\n",
    "\n",
    "Python provides no braces to indicate blocks of code for class and function definitions or flow control. Python programs get structured through indentation, i.e. code blocks are defined by their indentation. \n",
    "\n",
    "For example:"
   ]
  },
  {
   "cell_type": "code",
   "execution_count": null,
   "metadata": {
    "collapsed": false
   },
   "outputs": [],
   "source": [
    "if True:\n",
    "    print(\"True\")\n",
    "else:\n",
    "    print(\"False\")"
   ]
  },
  {
   "cell_type": "markdown",
   "metadata": {},
   "source": [
    "__Note:__\n",
    "\n",
    "Use 4 spaces per indentation level.\n",
    "\n",
    "So what would happen if the indentation is incorrect?\n",
    "Run the code below to find out!"
   ]
  },
  {
   "cell_type": "code",
   "execution_count": null,
   "metadata": {
    "collapsed": false
   },
   "outputs": [],
   "source": [
    "def food():\n",
    "eggs = 12\n",
    "return eggs\n",
    "        \n",
    "print spam()"
   ]
  },
  {
   "cell_type": "markdown",
   "metadata": {},
   "source": [
    "__`IndentationError: expected an indented block`__\n",
    "\n",
    "We will get this error everytime our indentation is off. \n",
    "\n",
    "Make sure to indent the codes with four spaces like this:"
   ]
  },
  {
   "cell_type": "code",
   "execution_count": null,
   "metadata": {
    "collapsed": false
   },
   "outputs": [],
   "source": [
    "def food():\n",
    "    eggs = 12\n",
    "    return eggs\n",
    "        \n",
    "print(food())"
   ]
  },
  {
   "cell_type": "markdown",
   "metadata": {},
   "source": [
    "## 3.3 Comments\n",
    "\n",
    "Comments in Python are used to explain what the code does. \n",
    "\n",
    "### 3.3.1 Single-line comments\n",
    "\n",
    "Single-line comments begin with the hash character (<b> ```#```</b> ) and are terminated by\n",
    "the end of line. Python is ignoring all text that comes after the # to the end of the line, \n",
    "they are not part of the command.  For example:"
   ]
  },
  {
   "cell_type": "code",
   "execution_count": null,
   "metadata": {
    "collapsed": true
   },
   "outputs": [],
   "source": [
    "# This is a single line comment"
   ]
  },
  {
   "cell_type": "markdown",
   "metadata": {},
   "source": [
    "### 3.3.2 Multi-line comments\n",
    "\n",
    "Comments spanning more than one line are achieved by inserting a multi-line string\n",
    "(with __`\"\"\"`__ or __`'''`__ as the delimiter one each end) that is not used in assignment or \n",
    "otherwise evaluated, but sits in between other statements.\n",
    "\n",
    "They are meant as documentation for anyone reading the code. "
   ]
  },
  {
   "cell_type": "code",
   "execution_count": null,
   "metadata": {
    "collapsed": true
   },
   "outputs": [],
   "source": [
    "'''\n",
    "This \n",
    "is \n",
    "a\n",
    "multi-line \n",
    "comment\n",
    "'''\n",
    "\n",
    "\"\"\"\n",
    "This is also \n",
    "a multi-line\n",
    "comment\n",
    "\"\"\""
   ]
  },
  {
   "cell_type": "markdown",
   "metadata": {},
   "source": [
    "## 3.4 Single-line Statements\n",
    "\n",
    "From the term itself, these are statements within a single line.\n",
    "\n",
    "For example:"
   ]
  },
  {
   "cell_type": "code",
   "execution_count": null,
   "metadata": {
    "collapsed": true
   },
   "outputs": [],
   "source": [
    "my_list = ['item1', 'item2', 'item3']"
   ]
  },
  {
   "cell_type": "markdown",
   "metadata": {},
   "source": [
    "## 3.5 Multi-line Statements\n",
    "\n",
    "Statements in Python typically end with a new line. Python does, however, allow the use of the line continuation character (\\) to denote that the line should continue. \n",
    "\n",
    "For example:"
   ]
  },
  {
   "cell_type": "code",
   "execution_count": null,
   "metadata": {
    "collapsed": false
   },
   "outputs": [],
   "source": [
    "total = item_one + \\\n",
    "        item_two + \\\n",
    "        item_three"
   ]
  },
  {
   "cell_type": "markdown",
   "metadata": {},
   "source": [
    "Statements contained within the ```[ ]```, ```{ }```, or ```( )``` do not need to use the line continuation character.\n",
    "\n",
    "For example:"
   ]
  },
  {
   "cell_type": "code",
   "execution_count": null,
   "metadata": {
    "collapsed": true
   },
   "outputs": [],
   "source": [
    "my_list = [\n",
    "    'item1',    \n",
    "    'item2',\n",
    "]"
   ]
  },
  {
   "cell_type": "markdown",
   "metadata": {},
   "source": [
    "## 3.6 PEP 8\n",
    "\n",
    "PEP 8 is the official style guide for Python.\n",
    "\n",
    "For the PEP 8 official documentation, please check this [link](https://www.python.org/dev/peps/pep-0008/)."
   ]
  }
 ],
 "metadata": {
  "kernelspec": {
   "display_name": "Python 3",
   "language": "python",
   "name": "python3"
  },
  "language_info": {
   "codemirror_mode": {
    "name": "ipython",
    "version": 3
   },
   "file_extension": ".py",
   "mimetype": "text/x-python",
   "name": "python",
   "nbconvert_exporter": "python",
   "pygments_lexer": "ipython3",
   "version": "3.5.1"
  }
 },
 "nbformat": 4,
 "nbformat_minor": 0
}
