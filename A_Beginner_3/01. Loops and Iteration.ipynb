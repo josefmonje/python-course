{
 "cells": [
  {
   "cell_type": "markdown",
   "metadata": {},
   "source": [
    "# 1. Loops and Iteration\n",
    "\n",
    "A loop statement allows us to execute a statement or group of statements multiple times. Python provides following types of loops to handle looping requirements:\n",
    "\n",
    "| __Loop Type__ |                                                             __Description__                                                             |\n",
    "|:-------------:|:---------------------------------------------------------------------------------------------------------------------------------------:|\n",
    "| while loop    | Repeats a statement or group of statements while a given condition is __TRUE__.  It tests the condition before executing the loop body. |\n",
    "| for loop      | Executes a sequence of statements multiple times and abbreviates the code that manages the loop variable.                               |\n",
    "\n",
    "## 1.1 [While](https://docs.python.org/3.5/reference/compound_stmts.html#while)\n",
    "\n",
    "As mentioned, the `while` statement will loop for as long as the condition is true."
   ]
  },
  {
   "cell_type": "code",
   "execution_count": null,
   "metadata": {
    "collapsed": false
   },
   "outputs": [],
   "source": [
    "# Run the code\n",
    "\n",
    "x = 3\n",
    "while x > 0:\n",
    "    print(\"x > 0:\", x)\n",
    "    x -= 1"
   ]
  },
  {
   "cell_type": "markdown",
   "metadata": {},
   "source": [
    "On the example above, while __`x`__ is greater than __`0`__, the string __`\"x > 0\"`__ and the value of __`x -= 1`__ will be printed. \n",
    "\n",
    "__`x -= 1`__, as discussed in begginer notebooks, will subtract the right operand (`1`) from left operand (`3`), and will assign the result to the left operand.\n",
    "\n",
    "As you finish coding a while loop, it is good practice to always double-check: Did I make a change to the variables inside the loop that will eventually make the loop condition False?\n",
    "\n",
    "Here's another example:"
   ]
  },
  {
   "cell_type": "code",
   "execution_count": null,
   "metadata": {
    "collapsed": false
   },
   "outputs": [],
   "source": [
    "ingredients = [\n",
    "    'sugar',\n",
    "    'spice',\n",
    "    'everything nice',\n",
    "]\n",
    "while ingredients:\n",
    "    pop = ingredients.pop()\n",
    "    print(pop)"
   ]
  },
  {
   "cell_type": "markdown",
   "metadata": {},
   "source": [
    "## Try it yourself: While loop\n",
    "\n",
    "Make a simple program which will display the output below:\n",
    "\n",
    "__`10`__\n",
    "\n",
    "__`9`__\n",
    "\n",
    "__`8`__\n",
    "\n",
    "__`7`__\n",
    "\n",
    "__`6`__\n",
    "\n",
    "__`5`__\n",
    "\n",
    "__`4`__\n",
    "\n",
    "__`3`__\n",
    "\n",
    "__`2`__\n",
    "\n",
    "__`1`__\n",
    "\n",
    "\n",
    "NOTE: Use while loop.\n"
   ]
  },
  {
   "cell_type": "markdown",
   "metadata": {},
   "source": [
    "## 1.2 [For](https://docs.python.org/3.5/tutorial/controlflow.html#for-statements)\n",
    "\n",
    "The `for` statement sequentially iterates over a list, string, set or any iterable."
   ]
  },
  {
   "cell_type": "code",
   "execution_count": null,
   "metadata": {
    "collapsed": false
   },
   "outputs": [],
   "source": [
    "mobile_os = ['iOS', 'Android', 'Firefox OS']\n",
    "\n",
    "for m in mobile_os:   # This loops through the mobile_os list\n",
    "    print(m, len(m))  # With each member stored in a temporary variable - m"
   ]
  },
  {
   "cell_type": "markdown",
   "metadata": {},
   "source": [
    "## Try it yourself: For Loop\n",
    "\n",
    "- (1) Create a list and name it __`colors`-__\n",
    "- (2) Assign the values `red, blue, white` and `yellow`.\n",
    "- (3) Using `for` loop, write a code that will display the output below:\n",
    "\n",
    "\n",
    "__`red`__\n",
    "\n",
    "__`blue`__\n",
    "\n",
    "__`white`__\n",
    "\n",
    "__`yellow`__"
   ]
  },
  {
   "cell_type": "markdown",
   "metadata": {},
   "source": [
    "### 1.2.1 [range()](https://docs.python.org/3.5/library/stdtypes.html#range)\n",
    "\n",
    "If you need to iterate over a sequence of numbers, the built-in function `range()` can generate arithmetic progressions:"
   ]
  },
  {
   "cell_type": "code",
   "execution_count": null,
   "metadata": {
    "collapsed": false
   },
   "outputs": [],
   "source": [
    "for i in range(5):\n",
    "    print(i)"
   ]
  },
  {
   "cell_type": "markdown",
   "metadata": {},
   "source": [
    "`range()` can accept multiple parameters. The default required parameter is the `stop` argument. It can optionally accept `start` and `step` parameters to have more control over the range of numbers generated. Ex. range(start, stop, [step]).\n",
    "\n",
    "- In Python 3.x, `range()` returns a `range` object that is a generator\n",
    "\n",
    "- In Python 2.x, it returned a `list`"
   ]
  },
  {
   "cell_type": "code",
   "execution_count": null,
   "metadata": {
    "collapsed": true
   },
   "outputs": [],
   "source": [
    "list(range(5, 10))"
   ]
  },
  {
   "cell_type": "markdown",
   "metadata": {},
   "source": [
    "- Start at 5; stop at 10."
   ]
  },
  {
   "cell_type": "code",
   "execution_count": null,
   "metadata": {
    "collapsed": true
   },
   "outputs": [],
   "source": [
    "list(range(5, 15, 3))"
   ]
  },
  {
   "cell_type": "markdown",
   "metadata": {},
   "source": [
    "- Start at 5; stop at 15; 3 steps in between."
   ]
  },
  {
   "cell_type": "code",
   "execution_count": null,
   "metadata": {
    "collapsed": true
   },
   "outputs": [],
   "source": [
    "list(range(7, -7, -2))"
   ]
  },
  {
   "cell_type": "markdown",
   "metadata": {},
   "source": [
    "- Start at 7; stop at -7; -2 steps in between."
   ]
  },
  {
   "cell_type": "markdown",
   "metadata": {},
   "source": [
    "## Try it yourself: `range()`\n",
    "\n",
    "Using the __`range()`__ function, display the output below:\n",
    "\n",
    "- __`[13,18,23,28,33]`__"
   ]
  },
  {
   "cell_type": "code",
   "execution_count": null,
   "metadata": {
    "collapsed": true
   },
   "outputs": [],
   "source": [
    "# Write your code below\n",
    "\n",
    "\n",
    "\n",
    "\n"
   ]
  },
  {
   "cell_type": "markdown",
   "metadata": {},
   "source": [
    "### 1.2.2 [enumerate()](https://docs.python.org/3.5/library/functions.html#enumerate)\n",
    "\n",
    "When looping through a sequence, the position index and corresponding value can be retrieved at the same time using the `enumerate()` function."
   ]
  },
  {
   "cell_type": "code",
   "execution_count": null,
   "metadata": {
    "collapsed": true
   },
   "outputs": [],
   "source": [
    "for index, value in enumerate(['tic', 'tac', 'toe']):\n",
    "    print(index, value)"
   ]
  },
  {
   "cell_type": "markdown",
   "metadata": {},
   "source": [
    "## 1.3 [Loop Control](https://docs.python.org/3.5/tutorial/controlflow.html#break-and-continue-statements-and-else-clauses-on-loops)\n",
    "\n",
    "The `continue` and `break` statements let you have more control over looping behavior.\n",
    "\n",
    "### 1.3.1 Continue\n",
    "\n",
    "With `continue`, _the current iteration_ will no longer proceed and continues with the next iteration."
   ]
  },
  {
   "cell_type": "code",
   "execution_count": null,
   "metadata": {
    "collapsed": false
   },
   "outputs": [],
   "source": [
    "for num in range(2, 7):\n",
    "    if num % 2 == 0:\n",
    "        print(\"Found an even number\", num)\n",
    "        continue  # If an even number is found, the next line will not run \n",
    "    print(\"Found a number\", num)"
   ]
  },
  {
   "cell_type": "markdown",
   "metadata": {},
   "source": [
    "### 1.3.2 Break\n",
    "\n",
    "With `break`, the loops stops and _the rest of the iterations_ will no longer proceed."
   ]
  },
  {
   "cell_type": "code",
   "execution_count": null,
   "metadata": {
    "collapsed": false
   },
   "outputs": [],
   "source": [
    "for num in range(2, 10):\n",
    "    if num % 2 == 0:\n",
    "        print(\"Found an even number\", num)\n",
    "        break  # This stops the whole loop\n",
    "    print(\"Found a number\", num)"
   ]
  },
  {
   "cell_type": "markdown",
   "metadata": {},
   "source": [
    "## 1.4 [Else](https://docs.python.org/3.5/tutorial/controlflow.html#break-and-continue-statements-and-else-clauses-on-loops)\n",
    "\n",
    "Loop statements may have an else clause which execute when the loop is not terminated by a break statement.\n",
    "\n",
    "With `for`, it is executed when the loop terminates through exhaustion of the list."
   ]
  },
  {
   "cell_type": "code",
   "execution_count": null,
   "metadata": {
    "collapsed": false
   },
   "outputs": [],
   "source": [
    "for n in range(2, 7):\n",
    "    for x in range(2, n):\n",
    "        if n % x == 0:\n",
    "            print(n, 'equals', x, '*', n//x)\n",
    "            \"\"\"\n",
    "            We only need to know if there is one occurence of the number being divisible by a number between it and 2\n",
    "            \"\"\"\n",
    "            break\n",
    "    else:\n",
    "        # loop fell through without finding a factor\n",
    "        print(n, 'is a prime number')"
   ]
  },
  {
   "cell_type": "markdown",
   "metadata": {},
   "source": [
    "With `while`, it is executed when the condition becomes false."
   ]
  },
  {
   "cell_type": "code",
   "execution_count": null,
   "metadata": {
    "collapsed": false
   },
   "outputs": [],
   "source": [
    "x = 3\n",
    "while x > 0:\n",
    "    print(\"x > 0:\", x)\n",
    "    x -= 1\n",
    "else:\n",
    "    print(\"else:\", x)"
   ]
  },
  {
   "cell_type": "markdown",
   "metadata": {},
   "source": [
    "## Exercise:\n",
    "\n",
    "(1) Print the fruits in vertical order. Use the `For` loop."
   ]
  },
  {
   "cell_type": "code",
   "execution_count": null,
   "metadata": {
    "collapsed": false
   },
   "outputs": [],
   "source": [
    "fruit = [\"Apple\", \"Mango\", \"Banana\", \"Orange\",\"Grapes\"]\n",
    "\n",
    "# Write your code below\n",
    "\n",
    "\n"
   ]
  },
  {
   "cell_type": "markdown",
   "metadata": {},
   "source": [
    "(2) Print _'An apple a day keeps the doctor away.'_ if the value of the variable `fruit` is `'Apple'`. If not, print '`Sad`'. Use `while` loop."
   ]
  },
  {
   "cell_type": "code",
   "execution_count": null,
   "metadata": {
    "collapsed": false
   },
   "outputs": [],
   "source": [
    "fruit = 'Banana'\n",
    "\n",
    "while fruit == 'Apple':\n",
    "    print('An apple a day keeps the doctor away.')\n",
    "    \n",
    "else:\n",
    "    print('Sad')"
   ]
  }
 ],
 "metadata": {
  "kernelspec": {
   "display_name": "Python 3",
   "language": "python",
   "name": "python3"
  },
  "language_info": {
   "codemirror_mode": {
    "name": "ipython",
    "version": 3
   },
   "file_extension": ".py",
   "mimetype": "text/x-python",
   "name": "python",
   "nbconvert_exporter": "python",
   "pygments_lexer": "ipython3",
   "version": "3.5.1"
  }
 },
 "nbformat": 4,
 "nbformat_minor": 0
}
