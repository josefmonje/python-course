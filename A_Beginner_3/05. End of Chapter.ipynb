{
 "cells": [
  {
   "cell_type": "markdown",
   "metadata": {},
   "source": [
    "## Congratulations! \n",
    "You have finished all the notebooks in beginner level. Keep in mind that your learnings from this chapter is very important because you'll be using them on the later chapters as well.\n",
    "\n",
    "\n",
    "## Your thoughts matter\n",
    "In order to improve our work, we would like to ask for a few minutes of your time to answer this survey: https://goo.gl/zekX7x\n",
    "\n",
    "Thank you, and see you on the next chapter (Intermediate Level).\n",
    "\n",
    ">##### \"Explore, Dream, Discover.\"\n",
    "–Mark Twain"
   ]
  }
 ],
 "metadata": {
  "kernelspec": {
   "display_name": "Python 3",
   "language": "python",
   "name": "python3"
  },
  "language_info": {
   "codemirror_mode": {
    "name": "ipython",
    "version": 3
   },
   "file_extension": ".py",
   "mimetype": "text/x-python",
   "name": "python",
   "nbconvert_exporter": "python",
   "pygments_lexer": "ipython3",
   "version": "3.5.1"
  }
 },
 "nbformat": 4,
 "nbformat_minor": 0
}
