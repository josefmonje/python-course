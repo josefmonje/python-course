{
 "cells": [
  {
   "cell_type": "markdown",
   "metadata": {},
   "source": [
    "# 5. Common Errors\n",
    "\n",
    "You're almost done with beginner level!\n",
    "I'm pretty sure you've encountered some errors, right? But it's okay! It's all part of the journey. :)\n",
    "\n",
    "\n",
    "This notebook tackles about the common errors in Python."
   ]
  },
  {
   "cell_type": "markdown",
   "metadata": {},
   "source": [
    "## 5.1  `SyntaxError`\n",
    "\n",
    "This is probably the most common error that you have encountered (or will encounter) in Python. \n",
    "\n",
    "Some of the causes of this error are:"
   ]
  },
  {
   "cell_type": "markdown",
   "metadata": {},
   "source": [
    "#### 5.1.1 `SyntaxError: Missing parentheses in call to 'print'`\n",
    "\n",
    "You have learned that in Python3, `print` is a function. If you forgot to put the parentheses after `print`, then you are going to get this error."
   ]
  },
  {
   "cell_type": "code",
   "execution_count": null,
   "metadata": {
    "collapsed": true
   },
   "outputs": [],
   "source": [
    "# For example only. \n",
    "# Run the code to see the error.\n",
    "\n",
    "print \"hello\"\n"
   ]
  },
  {
   "cell_type": "markdown",
   "metadata": {},
   "source": [
    "#### 5.1.2 `SyntaxError: invalid syntax`\n",
    "\n",
    "An invalid syntax error means that there is a line that Python does not understand and doesn't know what to do with it. There are many causes of this error message:\n",
    "\n",
    "- __Not putting a colon (:) at the end of `if`, `elif`, `else`, `for`, `while`, `class`, or `def` statement. __"
   ]
  },
  {
   "cell_type": "code",
   "execution_count": null,
   "metadata": {
    "collapsed": true
   },
   "outputs": [],
   "source": [
    "# For example only. \n",
    "# Run the code to see the error.\n",
    "\n",
    "dog = 'shihtzu'\n",
    "\n",
    "if dog == 'shihtzu'\n",
    "    print('My dog is a shihtzu!')\n",
    "    "
   ]
  },
  {
   "cell_type": "markdown",
   "metadata": {},
   "source": [
    "- __Using `=` (assignment operator) instead of `==` (comparison Operator)__"
   ]
  },
  {
   "cell_type": "code",
   "execution_count": null,
   "metadata": {
    "collapsed": true
   },
   "outputs": [],
   "source": [
    "# For example only. \n",
    "# Run the code to see the error.\n",
    "\n",
    "dog = 'shihtzu'\n",
    "\n",
    "if dog = 'shihtzu':\n",
    "    print('My dog is a shihtzu!')"
   ]
  },
  {
   "cell_type": "markdown",
   "metadata": {},
   "source": [
    "__5.1.3 `SyntaxError: EOL while scanning string literal`__\n",
    "\n",
    "This error occurs if you failed to quote (single or double) the beginning or end of a sting literal."
   ]
  },
  {
   "cell_type": "code",
   "execution_count": null,
   "metadata": {
    "collapsed": true
   },
   "outputs": [],
   "source": [
    "# For example only. \n",
    "# Run the code to see the error.\n",
    "\n",
    "print('Hello, World!)\n",
    "      "
   ]
  },
  {
   "cell_type": "markdown",
   "metadata": {},
   "source": [
    "## 5.2.  Indentation\n",
    "Indentation is very important in Python. As discussed on the previous notebooks, it is used to denote scope and code blocks instead of the usual _curly braces ({})._\n",
    "\n",
    "Here are some of the common errors regarding indentation:\n",
    "#### 5.2.1  `IndentationError: expected an indented block`\n",
    "The causes if this error are:\n",
    "- Not indenting the statements within a compound statement (such as `if`, `while`, and `for`)\n",
    "\n",
    "\n"
   ]
  },
  {
   "cell_type": "code",
   "execution_count": null,
   "metadata": {
    "collapsed": true
   },
   "outputs": [],
   "source": [
    "# For example only. \n",
    "# Run the code to see the error.\n",
    "\n",
    "x = 1\n",
    "\n",
    "if x == 1:\n",
    "print('x is 1')"
   ]
  },
  {
   "cell_type": "markdown",
   "metadata": {},
   "source": [
    "- Not indenting the statements of a user-defined function."
   ]
  },
  {
   "cell_type": "code",
   "execution_count": null,
   "metadata": {
    "collapsed": true
   },
   "outputs": [],
   "source": [
    "# For example only. \n",
    "# Run the code to see the error.\n",
    "\n",
    "\n",
    "def fruit():\n",
    "print(\"Apple\")\n",
    "\n",
    "fruit()"
   ]
  },
  {
   "cell_type": "markdown",
   "metadata": {},
   "source": [
    "#### 5.2.2  `IndentationError: unexpected indent`\n",
    "\n",
    "In Python indentation, you have the freedom to choose the number of default spaces (or tabs) that you want. Suppose you chose 4 spaces (which is the recommended one according to [`PEP8`](https://www.python.org/dev/peps/pep-0008/#id17) ). If you exceeded 4 spaces, then you are going to get this error.\n"
   ]
  },
  {
   "cell_type": "code",
   "execution_count": null,
   "metadata": {
    "collapsed": true
   },
   "outputs": [],
   "source": [
    "# For example only.\n",
    "# Run the code to see the error.\n",
    "\n",
    "vehicle = 'car'\n",
    "\n",
    "if vehicle == 'car':\n",
    "    print('My vehicle is a')\n",
    "      print(vehicle)"
   ]
  },
  {
   "cell_type": "markdown",
   "metadata": {},
   "source": [
    "#### 5.2.3 `IndentationError: unindent does not match any outer indentation level`\n",
    "\n",
    "As mentioned in  above, you can choose the level of the default indentation you may wish. You wil encounter this error if you are decreasing your default indentation."
   ]
  },
  {
   "cell_type": "code",
   "execution_count": null,
   "metadata": {
    "collapsed": true
   },
   "outputs": [],
   "source": [
    "# For example only.\n",
    "# Run the code to see the error.\n",
    "\n",
    "vehicle = 'car'\n",
    "\n",
    "if vehicle == 'car':\n",
    "    print('My vehicle is a')\n",
    "   print(vehicle)"
   ]
  },
  {
   "cell_type": "markdown",
   "metadata": {},
   "source": [
    "# 5.3. `NameError `\n",
    "\n",
    "#### `NameError: name '(name)' is not defined` \n",
    "\n",
    "The cause of the error above is are the following:\n",
    "\n",
    "- Mistyped variable or function name"
   ]
  },
  {
   "cell_type": "code",
   "execution_count": null,
   "metadata": {
    "collapsed": true
   },
   "outputs": [],
   "source": [
    "# For example only.\n",
    "# Run the code to see the error.\n",
    "\n",
    "dog = 'Golden Retriever'\n",
    "\n",
    "print('The breed of my dog is' + bog)"
   ]
  },
  {
   "cell_type": "markdown",
   "metadata": {},
   "source": [
    "- Using an augmented assignment operator in assigning a variable"
   ]
  },
  {
   "cell_type": "code",
   "execution_count": null,
   "metadata": {
    "collapsed": true
   },
   "outputs": [],
   "source": [
    "# For example only.\n",
    "# Run the code to see the error.\n",
    "\n",
    "x = 0\n",
    "\n",
    "x += 1\n",
    "y += 1\n",
    "\n",
    "print(x)"
   ]
  },
  {
   "cell_type": "markdown",
   "metadata": {},
   "source": [
    "On the example above, remember that __`y += 1`__ is equivalent to __`y = y + 1`__\n",
    "\n",
    "It means that there should be a value assigned to __`y`__."
   ]
  }
 ],
 "metadata": {
  "kernelspec": {
   "display_name": "Python 3",
   "language": "python",
   "name": "python3"
  },
  "language_info": {
   "codemirror_mode": {
    "name": "ipython",
    "version": 3
   },
   "file_extension": ".py",
   "mimetype": "text/x-python",
   "name": "python",
   "nbconvert_exporter": "python",
   "pygments_lexer": "ipython3",
   "version": "3.5.1"
  }
 },
 "nbformat": 4,
 "nbformat_minor": 0
}
