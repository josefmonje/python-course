{
 "cells": [
  {
   "cell_type": "markdown",
   "metadata": {
    "collapsed": false
   },
   "source": [
    "# 1. OOP in Python\n",
    "\n",
    "> Python has been an object-oriented language since it existed. Because of this, creating and using classes and objects are downright easy.\n",
    "\n",
    "## Python Classes and Objects\n",
    "\n",
    "The keyword `class` introduces a class definition. It's followed by the class name, then usually a parenthesized list of derived class/es, and ends with a colon. The indented statements below it constitute the class' attributes.\n",
    "\n",
    "There's usually a parenthesized list of derived class/es. **Usually**, because there is (used to be) an [old-style and new-style](https://docs.python.org/2/reference/datamodel.html#new-style-and-classic-classes) way to define a class. Old-style classes don't have this. Having said that, this notebook covers new-style classes since this is the [recommended way](https://wiki.python.org/moin/NewClassVsClassicClass) to create a class in Python.\n",
    "\n",
    "__Note:__ We'll be defining a few classes. Some of the later classes will depend on the first few classes. The code needs to be executed in order from top to bottom. Just run the codes and proceed. :)\n",
    "\n",
    "## 1.1 Defining a Class\n",
    "\n",
    "Defining a new class is easy. The keyword `class` lets you define a class. A name is given to it, with the convention of writing it in _CapitalCase_. Python classes inherit from the built-in __`object`__ and its methods refer to __self__.\n",
    "\n",
    "In our example, we'll deal with shapes. Let's create an empty class named `Shape`. This class won't do anything yet but we'll add attributes to it later:"
   ]
  },
  {
   "cell_type": "code",
   "execution_count": null,
   "metadata": {
    "collapsed": true
   },
   "outputs": [],
   "source": [
    "class Shape(object):\n",
    "    pass"
   ]
  },
  {
   "cell_type": "markdown",
   "metadata": {},
   "source": [
    "Our `Shape` class isn't very interesting because it doesn't do anything. It only inherits from the built-in `object` but nothing else.\n",
    "\n",
    "### 1.1.1 [Old and New Style Classes](https://wiki.python.org/moin/NewClassVsClassicClass)\n",
    "\n",
    "The example above is the new and recommended way of creating classes. You might encounter another way of defining classes without deriving from the built-in object:"
   ]
  },
  {
   "cell_type": "code",
   "execution_count": null,
   "metadata": {
    "collapsed": true
   },
   "outputs": [],
   "source": [
    "class Old_Style_Class:\n",
    "    pass"
   ]
  },
  {
   "cell_type": "markdown",
   "metadata": {},
   "source": [
    "This is the old style of defining classes. We'll focus on the new style and learn about the old style just so you're aware if ever you encounter it.\n",
    "\n",
    "Now let's go back to our first example. Shapes usually have measurements like its area, height, diameter, etc. or for circles, circumference, radius, etc. Our class needs some methods that calculate these and attributes that represent numbers.\n",
    "\n",
    "Let's add some attributes and methods that our class can use."
   ]
  },
  {
   "cell_type": "code",
   "execution_count": 43,
   "metadata": {
    "collapsed": true
   },
   "outputs": [],
   "source": [
    "class Shape(object):\n",
    "    \"\"\"Base class for shapes.\"\"\"\n",
    "\n",
    "    x = 0\n",
    "    y = 0\n",
    "    \n",
    "    def width(self):\n",
    "        \"\"\"Retun width or equivalent.\"\"\"\n",
    "        return self.x\n",
    "    \n",
    "    def height(self):\n",
    "        \"\"\"Retun height or equivalent.\"\"\"\n",
    "        return self.y\n",
    "    \n",
    "    def area(self):\n",
    "        return self.x * self.y"
   ]
  },
  {
   "cell_type": "markdown",
   "metadata": {},
   "source": [
    "Our `Shape` class seems a little bit more useful now. Notice that class methods always accept `self` as the first argument, and attributes and other methods are referred to as attributes of `self`, which refers to the current object when this is instantiated.\n",
    "\n",
    "Let's create an object, an instance of our class, by calling it and assigning it to a variable that will be the name of our object:"
   ]
  },
  {
   "cell_type": "code",
   "execution_count": 44,
   "metadata": {
    "collapsed": false
   },
   "outputs": [],
   "source": [
    "s = Shape()"
   ]
  },
  {
   "cell_type": "markdown",
   "metadata": {},
   "source": [
    "For our class to useful, we need to add a few more things. Right now, we can use introspection on `s` or on `Shape` to see what we have just in case someone else built the implementation of `Shape` for us.\n",
    "\n",
    "### 1.1.2 Introspection\n",
    "\n",
    "Let's use `help()` on our object and see what we can learn about it."
   ]
  },
  {
   "cell_type": "code",
   "execution_count": 48,
   "metadata": {
    "collapsed": false
   },
   "outputs": [
    {
     "name": "stdout",
     "output_type": "stream",
     "text": [
      "Help on Square in module __main__ object:\n",
      "\n",
      "class Square(Shape)\n",
      " |  Square implementation of Shape.\n",
      " |  \n",
      " |  Method resolution order:\n",
      " |      Square\n",
      " |      Shape\n",
      " |      builtins.object\n",
      " |  \n",
      " |  Methods defined here:\n",
      " |  \n",
      " |  __init__(self, side=None)\n",
      " |      Initialize self.  See help(type(self)) for accurate signature.\n",
      " |  \n",
      " |  ----------------------------------------------------------------------\n",
      " |  Methods inherited from Shape:\n",
      " |  \n",
      " |  area(self)\n",
      " |  \n",
      " |  height(self)\n",
      " |      Retun height or equivalent.\n",
      " |  \n",
      " |  width(self)\n",
      " |      Retun width or equivalent.\n",
      " |  \n",
      " |  ----------------------------------------------------------------------\n",
      " |  Data descriptors inherited from Shape:\n",
      " |  \n",
      " |  __dict__\n",
      " |      dictionary for instance variables (if defined)\n",
      " |  \n",
      " |  __weakref__\n",
      " |      list of weak references to the object (if defined)\n",
      " |  \n",
      " |  ----------------------------------------------------------------------\n",
      " |  Data and other attributes inherited from Shape:\n",
      " |  \n",
      " |  x = 0\n",
      " |  \n",
      " |  y = 0\n",
      "\n"
     ]
    }
   ],
   "source": [
    "help(s)"
   ]
  },
  {
   "cell_type": "markdown",
   "metadata": {},
   "source": [
    "## 1.2 [Docstrings](https://www.python.org/dev/peps/pep-0257/)\n",
    "\n",
    "It's good practice to document your code. The triple quoted strings are called docstrings. As much as possible, we want the code to be easy to read and self-explanatory. Otherwise, docstrings provide a way to document our code and it's good practice to have it. Docstrings show up when `help()` is called on an object. It reflects on you, the author when your code has good docstrings. Let's remember to add docstrings to the classes and methods we create.\n",
    "\n",
    "Back to our example. Shapes can be implemented in different ways. Also, shape objects can come in different forms. For example, a square. Before we do that, we'll learn one more thing about Python objects.\n",
    "\n",
    "## 1.3 Language-defined \"special\", \"magic\" or \"dunder\" methods\n",
    "\n",
    "From using introspection, we saw a list of attributes beginning and ending with double underlines (`__`). People refer to this in different ways:\n",
    "\n",
    "* Python documentation refers to these as [special method](https://docs.python.org/3.5/reference/datamodel.html#special-method-names) names\n",
    "* PEP8 refers to it as [magic](https://www.python.org/dev/peps/pep-0008/#descriptive-naming-styles) methods\n",
    "* The double underline syntax can be found in many places in Python and it has an alias - [dunder](https://wiki.python.org/moin/DunderAlias)\n",
    "\n",
    "For any purpose, let's jut accept [special methods](http://venus.cs.qc.cuny.edu/~waxman/780/Python%20Special%20Methods.pdf), [magic](http://rafekettler.com/magicmethods.html) or [dunder](https://pythonconquerstheuniverse.wordpress.com/2012/03/09/pythons-magic-methods/) interchangeably so we always know when.\n",
    "\n",
    "From the list of magic methods provided by `dir()`, we'll look at two of them then you can start exploring others on your own. You can always refer to the Python documentation for help.\n",
    "\n",
    "These are:\n",
    "\n",
    "* `__init__`\n",
    "* `__str__`\n",
    "\n",
    "### 1.3.1 `__init__`\n",
    "\n",
    "Sometimes we want our objects to do something when instantiated. It may be anything from processing data, calling functions or accepting arguments. Modifying `__init__` allows us to do exactly this.\n",
    "\n",
    "In the `Square` class that we'll be making, We're going to override the `__init__` method so it can accept arguments when it's instantiated."
   ]
  },
  {
   "cell_type": "code",
   "execution_count": 58,
   "metadata": {
    "collapsed": false
   },
   "outputs": [],
   "source": [
    "class Square(Shape):\n",
    "    \"\"\"Square implementation of Shape.\"\"\"\n",
    "\n",
    "    def __init__(self, **kwargs):\n",
    "        self.x = kwargs.get('side', 1)\n",
    "        self.y = self.x"
   ]
  },
  {
   "cell_type": "markdown",
   "metadata": {},
   "source": [
    "The `__init__` method executes on initialization (hence, _init_). Any block of code defined here gets executed first. If we want to pass parameters while instantiating our object, it goes in here. It works the same way as the auguments in functions."
   ]
  },
  {
   "cell_type": "code",
   "execution_count": 59,
   "metadata": {
    "collapsed": false
   },
   "outputs": [
    {
     "data": {
      "text/plain": [
       "9"
      ]
     },
     "execution_count": 59,
     "metadata": {},
     "output_type": "execute_result"
    }
   ],
   "source": [
    "s = Square(side=3)\n",
    "s.area()"
   ]
  },
  {
   "cell_type": "markdown",
   "metadata": {},
   "source": [
    "Nice! We can now create `Square` objects.\n",
    "\n",
    "### 1.3.2 `__str__`\n",
    "\n",
    "Before we modify our class' `__str__`, let's look at the output when we print our object."
   ]
  },
  {
   "cell_type": "code",
   "execution_count": 20,
   "metadata": {
    "collapsed": false
   },
   "outputs": [
    {
     "name": "stdout",
     "output_type": "stream",
     "text": [
      "<__main__.Square object at 0x1042b5a20>\n"
     ]
    }
   ],
   "source": [
    "print(s)"
   ]
  },
  {
   "cell_type": "markdown",
   "metadata": {},
   "source": [
    "Printing our object returns it's class name and memory address. In many cases, we would like to have something more useful. Modifying `__str__` allows us to do exactly this. The value returned by `__str__` should be a string (hence, _str_) or it will return an error when executed. "
   ]
  },
  {
   "cell_type": "code",
   "execution_count": 88,
   "metadata": {
    "collapsed": false,
    "scrolled": true
   },
   "outputs": [],
   "source": [
    "class Square(Shape):\n",
    "    \"\"\"Square implementation of Shape.\"\"\"\n",
    "    \n",
    "    def __init__(self, **kwargs):\n",
    "        self.x = kwargs.get('side', 1)\n",
    "        self.y = self.x\n",
    "    \n",
    "    def __str__(self):\n",
    "        return \"{0} ({1}x{1})\".format(self.__class__.__name__, self.x)"
   ]
  },
  {
   "cell_type": "markdown",
   "metadata": {},
   "source": [
    "`Square.__str__` has been modified to return its name and a quick description. Let's see how it looks."
   ]
  },
  {
   "cell_type": "code",
   "execution_count": 57,
   "metadata": {
    "collapsed": false
   },
   "outputs": [
    {
     "name": "stdout",
     "output_type": "stream",
     "text": [
      "Square (2x2)\n"
     ]
    }
   ],
   "source": [
    "s = Square(side=2)\n",
    "print(s)"
   ]
  },
  {
   "cell_type": "markdown",
   "metadata": {},
   "source": [
    "The `__str__` method returns the string representation of objects when printed. This can refer to class attributes and will return instance variables like `this.x` or `this.name`. It can be as simple as returning a string, an attribute or doing some string formatting.\n",
    "\n",
    "Let's try another example. This time, a triangle"
   ]
  },
  {
   "cell_type": "code",
   "execution_count": 63,
   "metadata": {
    "collapsed": false
   },
   "outputs": [
    {
     "name": "stdout",
     "output_type": "stream",
     "text": [
      "Triangle (2x3) \n",
      "Area: 3.0\n"
     ]
    }
   ],
   "source": [
    "class Triangle(Shape):\n",
    "    \"\"\"Square implementation of Shape.\"\"\"\n",
    "    \n",
    "    def __init__(self, **kwargs):\n",
    "        self.x = kwargs.get('base', 1)\n",
    "        self.y = kwargs.get('height', 1)\n",
    "    \n",
    "    def area(self):\n",
    "        return self.x * self.y * .5\n",
    "    \n",
    "    def __str__(self):\n",
    "        return \"{0} ({1}x{2})\".format(self.__class__.__name__, self.x, self.y)\n",
    "\n",
    "t = Triangle(base=2, height=3)\n",
    "print(t, \"\\nArea:\", t.area())"
   ]
  },
  {
   "cell_type": "markdown",
   "metadata": {},
   "source": [
    "## 1.4 [Method Resolution Order](https://docs.python.org/3.5/glossary.html#term-method-resolution-order)\n",
    "\n",
    "Since `Square` is derived from `Shape`, note the __method resolution order__ section when the square object was passed as an argument to `help()`. Method resolution order or MRO determines how our object will look for information. Let's say my class derives from a tall chain of classes and/or from multiple clases, with some overrides along the way in different places, the MRO algorithm can give us a stable and consistent order of classes for looking up attributes."
   ]
  },
  {
   "cell_type": "code",
   "execution_count": 54,
   "metadata": {
    "collapsed": false
   },
   "outputs": [
    {
     "name": "stdout",
     "output_type": "stream",
     "text": [
      "Help on Square in module __main__ object:\n",
      "\n",
      "class Square(Shape)\n",
      " |  Square implementation of Shape.\n",
      " |  \n",
      " |  Method resolution order:\n",
      " |      Square\n",
      " |      Shape\n",
      " |      builtins.object\n",
      " |  \n",
      " |  Methods defined here:\n",
      " |  \n",
      " |  __init__(self, side=None)\n",
      " |      Initialize self.  See help(type(self)) for accurate signature.\n",
      " |  \n",
      " |  __str__(self)\n",
      " |      Return str(self).\n",
      " |  \n",
      " |  ----------------------------------------------------------------------\n",
      " |  Methods inherited from Shape:\n",
      " |  \n",
      " |  area(self)\n",
      " |  \n",
      " |  height(self)\n",
      " |      Retun height or equivalent.\n",
      " |  \n",
      " |  width(self)\n",
      " |      Retun width or equivalent.\n",
      " |  \n",
      " |  ----------------------------------------------------------------------\n",
      " |  Data descriptors inherited from Shape:\n",
      " |  \n",
      " |  __dict__\n",
      " |      dictionary for instance variables (if defined)\n",
      " |  \n",
      " |  __weakref__\n",
      " |      list of weak references to the object (if defined)\n",
      " |  \n",
      " |  ----------------------------------------------------------------------\n",
      " |  Data and other attributes inherited from Shape:\n",
      " |  \n",
      " |  x = 0\n",
      " |  \n",
      " |  y = 0\n",
      "\n"
     ]
    }
   ],
   "source": [
    "help(s)"
   ]
  },
  {
   "cell_type": "markdown",
   "metadata": {},
   "source": [
    "## 1.5 Multiple Inheritance\n",
    "\n",
    "In Python, it's possible to do multiple inheritance.\n",
    "\n",
    "The new class inherits from all derived classes, __from left to right__, subject to the method resolution order. The MRO uses a linearization algorithm that is stable and consistent.\n",
    "\n",
    "The importance of the method resolution order becomes more apparent when dealing with multiple inheritance as well as when using of the `super()` function.\n",
    "\n",
    "Let's create a new `ThreeDimensionSquare` that derives from both `ThreeDimension` and `Square`. First we'll make a new `ThreeDimension` class that will make our shapes three-dimensional."
   ]
  },
  {
   "cell_type": "code",
   "execution_count": 95,
   "metadata": {
    "collapsed": false,
    "scrolled": true
   },
   "outputs": [
    {
     "data": {
      "text/plain": [
       "8"
      ]
     },
     "execution_count": 95,
     "metadata": {},
     "output_type": "execute_result"
    }
   ],
   "source": [
    "class ThreeDimension(object):\n",
    "    \"\"\"Makes things 3D!\"\"\"\n",
    "    \n",
    "    z = 1\n",
    "\n",
    "    def __init__(self, **kwargs):\n",
    "        self.z = kwargs.get('depth', 1)\n",
    "        super().__init__(**kwargs)\n",
    "\n",
    "    def volume(self):\n",
    "        \"\"\"Because 3d!\"\"\"\n",
    "        return self.x * self.y * self.z\n",
    "\n",
    "\n",
    "class ThreeDimensionSquare(ThreeDimension, Square):\n",
    "    pass\n",
    "\n",
    "\n",
    "s3d = ThreeDimensionSquare(side=2, depth=2)\n",
    "s3d.volume()"
   ]
  },
  {
   "cell_type": "markdown",
   "metadata": {},
   "source": [
    "## 1.6 Super\n",
    "\n",
    "There are times when we want to access the parent or ancestor's method before it was overridden. We might want to maintain the original functionality, add or modify it, but not rewrite everything. The `super()` function allows us to do exactly this. Consider the `__init__` method in our `ThreeDimension` class:"
   ]
  },
  {
   "cell_type": "code",
   "execution_count": null,
   "metadata": {
    "collapsed": false
   },
   "outputs": [],
   "source": [
    "class ThreeDimension(object):\n",
    "    \"\"\"Makes things 3D!\"\"\"\n",
    "    \n",
    "    z = 1\n",
    "\n",
    "    def __init__(self, **kwargs):\n",
    "        self.z = kwargs.get('depth', 1)\n",
    "        super(ThreeDimension, self).__init__(**kwargs)\n",
    "\n",
    "    def volume(self):\n",
    "        \"\"\"Because 3d!\"\"\"\n",
    "        return self.x * self.y * self.z"
   ]
  },
  {
   "cell_type": "markdown",
   "metadata": {},
   "source": [
    "One way to think of it is that when `super()` is called, is passes through to the parent or ancestor. In `ThreeDimension.__init__`, the value of `self.z` is set. The next line means to execute the `__init__` that was inherited, not the one that is defined in this class, overriding the inherited one.\n",
    "\n",
    "Note that in Python 3, base class and type parameters in `super()` are optional. `super().__init__(**kwargs)` achieves the same effect.\n",
    "\n",
    "The `super()` function is not restricted to your current object. You can use super on any of your object's parents or derived classes and on their methods. In the next example, note how we are using super, passing `Square` as the argument. `BrokenShape.__init__()` is executed because instead of executing `Square.__init__()`, the execution is passed to next class in the hierarchy, which is `BrokenShape`."
   ]
  },
  {
   "cell_type": "code",
   "execution_count": 100,
   "metadata": {
    "collapsed": false
   },
   "outputs": [
    {
     "name": "stdout",
     "output_type": "stream",
     "text": [
      "I broke it.\n"
     ]
    },
    {
     "data": {
      "text/plain": [
       "0"
      ]
     },
     "execution_count": 100,
     "metadata": {},
     "output_type": "execute_result"
    }
   ],
   "source": [
    "class BrokenShape(object):\n",
    "    \n",
    "    def __init__(self, **kwargs):\n",
    "        print('I broke it.')\n",
    "\n",
    "class BrokenThreeDimensionSquare(ThreeDimension, Square, BrokenShape):\n",
    "\n",
    "    def __init__(self, **kwargs):\n",
    "        super(Square, self).__init__(**kwargs)\n",
    "\n",
    "\n",
    "s3d = BrokenThreeDimensionSquare(side=2, depth=2)\n",
    "s3d.volume()"
   ]
  },
  {
   "cell_type": "markdown",
   "metadata": {},
   "source": [
    "All our derived classes override `__init__()`. The method resolution order dictates that the `__init__()` that will execute is the one on the left most. But we made it so that the `__init__()` on the right most class is executed using `super()`.\n",
    "\n",
    "## 1.7 Packing/Unpacking Method Arguments\n",
    "\n",
    "Packing and unpacking arguments and keyword arguments can be used in functions but it becomes extra useful in class methods. Objects may be subclassed and methods may be overridden. These objects may be yours or from a 3rd party package you're using. This syntax allows objects to work without external knowledge of other objects or data. It helps with preventing unintentionally breaking functionality. This feature was utilized in the `__init__` method of the `Shape` classes we created.\n",
    "\n",
    "### Summary \n",
    "\n",
    "This notebook discussed several topics related to objects, from language-defined variables, single inheritance to multiple inheritance, to required, default and optional as well as starred arguments/keyword arguments, and some uses of the `super()` function. Each of the examples can easily be translated to real-life examples.\n",
    "\n",
    "You might consider using star arguments/keyword arguments pattern for high inter-operability with other objects while limiting the required knowledge about them. You will also find that methods that use this are easier to work with while letting data flow through an application. This pattern is common in mature frameworks.\n",
    "\n",
    "An overview of the OOP Topics covered in this notebook are:\n",
    "\n",
    "__Class__\n",
    "\n",
    "- A class is a way to take a grouping of functions and data and place them inside a conceptual container. The attributes or the data members such as class variables, class instance, and methods are accessed via dot (.) notation.\n",
    "\n",
    "__Object__\n",
    "\n",
    "- A unique instance of a data structure that's defined by its class. An object comprises both data members (class attributes and instance variables) and methods.\n",
    "\n",
    "__Instance__\n",
    "\n",
    "- An individual object of a certain class. An object `tile`, for example, that belongs to a class `Square` is an instance of the class `Square`, that is a subclass of `Shape`.\n",
    "\n",
    "__Instantiation__\n",
    "\n",
    "- The creation of an instance of a class.\n",
    "\n",
    "__Method__\n",
    "\n",
    "- A special kind of function that is defined in a class definition.\n",
    "\n",
    "### Exercise:"
   ]
  },
  {
   "cell_type": "code",
   "execution_count": null,
   "metadata": {
    "collapsed": true
   },
   "outputs": [],
   "source": [
    "# Deriving from shape, implement ellipse and circle. Add any necessary data required.\n",
    "\n",
    "\n",
    "\n",
    "\n",
    "\n",
    "\n"
   ]
  }
 ],
 "metadata": {
  "kernelspec": {
   "display_name": "Python 3",
   "language": "python",
   "name": "python3"
  },
  "language_info": {
   "codemirror_mode": {
    "name": "ipython",
    "version": 3
   },
   "file_extension": ".py",
   "mimetype": "text/x-python",
   "name": "python",
   "nbconvert_exporter": "python",
   "pygments_lexer": "ipython3",
   "version": "3.5.1"
  }
 },
 "nbformat": 4,
 "nbformat_minor": 0
}
