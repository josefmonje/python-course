{
 "cells": [
  {
   "cell_type": "markdown",
   "metadata": {},
   "source": [
    "# 3.1 Python's Import System\n",
    "\n",
    "Python has an import module that allows you to access code that is external, relative to your script. There are various ways of importing but the most common way is via the __`import`__ statement. There's more to Python's import system so [the documentation](https://docs.python.org/dev/reference/import.html) is a good source if you want to learn more.\n",
    "\n",
    "Now is a good time to make a distinction between packages and modules. To quote the documentation and reference:\n",
    "\n",
    "> You can think of packages as the directories on a file system and modules as files within directories, but don’t take this analogy too literally since packages and modules need not originate from the file system. For the purposes of this documentation, we’ll use this convenient analogy of directories and files. Like file system directories, packages are organized hierarchically, and packages may themselves contain subpackages, as well as regular modules.\n",
    "\n",
    "#### Pakcage\n",
    "\n",
    "> Python module which can contain submodules or recursively, subpackages. Technically, a package is a Python module with a `__path__` attribute.\n",
    "\n",
    "#### Module\n",
    "\n",
    "> An object that serves as an organizational unit of Python code. Modules have a namespace containing arbitrary Python objects. Modules are loaded into Python by the process of importing.\n",
    "\n",
    "## 3.1.1 Modules\n",
    "\n",
    "While Python has many built-in modules, there are more 3rd party modules that you can use. You'll need to install or download them in order to use them.\n",
    "\n",
    "To import a package or a module, just type __`import package_or_module_name`__.\n",
    "\n",
    "### [os.path](https://docs.python.org/3.5/library/os.path.html#module-os.path)\n",
    "\n",
    "You'll be using [`os.path`](https://docs.python.org/dev/library/os.path.html#module-os.path) a lot when referring to your files since hardcoded paths will prevent your code from being portable between operating systems."
   ]
  },
  {
   "cell_type": "code",
   "execution_count": null,
   "metadata": {
    "collapsed": false
   },
   "outputs": [],
   "source": [
    "import os\n",
    "# help(os)"
   ]
  },
  {
   "cell_type": "markdown",
   "metadata": {},
   "source": [
    "The import statement takes care of getting the os module and assigning it to a variable named __os__ in our current namespace."
   ]
  },
  {
   "cell_type": "code",
   "execution_count": null,
   "metadata": {
    "collapsed": false
   },
   "outputs": [],
   "source": [
    "os.path.dirname(os.path.abspath(__name__))"
   ]
  },
  {
   "cell_type": "markdown",
   "metadata": {},
   "source": [
    "This shows us the directory name of our top-level script (this notebook).\n",
    "\n",
    "#### [`__name__`](https://docs.python.org/3.5/tutorial/modules.html#modules)\n",
    "\n",
    "> Within a module, the module’s name (as a string) is available as the value of the global variable `__name__`.\n",
    "\n",
    "`__name__`, and most other variables surrounded by double underlines, are special variables defined by Python.\n",
    "\n",
    "In our example, we imported `os` and used `os.path`. We can specifically import `path` without importing the whole of `os` by prefixing our import statement with `from`."
   ]
  },
  {
   "cell_type": "code",
   "execution_count": null,
   "metadata": {
    "collapsed": false
   },
   "outputs": [],
   "source": [
    "from os import path\n",
    "path.dirname(path.abspath(__name__))"
   ]
  },
  {
   "cell_type": "markdown",
   "metadata": {},
   "source": [
    "This works essentially in the same way as as the previous code.\n",
    "\n",
    "We can also import abspath and dirname directly from path."
   ]
  },
  {
   "cell_type": "code",
   "execution_count": null,
   "metadata": {
    "collapsed": false
   },
   "outputs": [],
   "source": [
    "from os.path import abspath, dirname\n",
    "dirname(abspath(__name__))"
   ]
  },
  {
   "cell_type": "markdown",
   "metadata": {},
   "source": [
    "The lines of code above and below have the same output as the previous examples. It only demonstrates other ways of importing.\n",
    "\n",
    "`import` works with built-in packages and packages installed using `pip`, modules as well as functions and classes.\n",
    "\n",
    "Let's see some more examples from the `os` module, this time, with `os.environ`.\n",
    "\n",
    "### [os.environ](https://docs.python.org/dev/library/os.html#os.environ)\n",
    "\n",
    "There may be times when you want to set or retrieve environment variables for use in your application. These may be values you don't want to hardcode in your script for security or other purposes. `os.environ` lets us work with environment variables."
   ]
  },
  {
   "cell_type": "code",
   "execution_count": null,
   "metadata": {
    "collapsed": false
   },
   "outputs": [],
   "source": [
    "from os import environ\n",
    "environ"
   ]
  },
  {
   "cell_type": "markdown",
   "metadata": {},
   "source": [
    "Using `os.environ`, we can see and interact with the os environment variables.\n",
    "\n",
    "The next line doesn't have anything assigned to it yet so it will return an error."
   ]
  },
  {
   "cell_type": "code",
   "execution_count": null,
   "metadata": {
    "collapsed": false
   },
   "outputs": [],
   "source": [
    "environ[\"NOTEBOOK_DIRECTORY\"]"
   ]
  },
  {
   "cell_type": "markdown",
   "metadata": {},
   "source": [
    "Sometimes we're importing things we don't know a lot about. We learned introspection in our first few notebooks. Have you been using it? When working with imported code, it's a good chance to use introspection to learn more about how they can be used."
   ]
  },
  {
   "cell_type": "code",
   "execution_count": null,
   "metadata": {
    "collapsed": false
   },
   "outputs": [],
   "source": [
    "help(environ)\n",
    "# dir(environ)"
   ]
  },
  {
   "cell_type": "markdown",
   "metadata": {},
   "source": [
    "Let's try adding and deleting values to our environment variable.\n",
    "\n",
    "`environ` has a setdefault method that sounds descriptive enough and easy enough to understand. Let's try it."
   ]
  },
  {
   "cell_type": "code",
   "execution_count": null,
   "metadata": {
    "collapsed": false
   },
   "outputs": [],
   "source": [
    "environ.setdefault(\"NOTEBOOK_DIRECTORY\", os.path.dirname(os.path.abspath(__name__)))  # let's set a value\n",
    "environ[\"NOTEBOOK_DIRECTORY\"]"
   ]
  },
  {
   "cell_type": "markdown",
   "metadata": {},
   "source": [
    "`os.environ` returns a [mapping type](https://docs.python.org/dev/glossary.html#term-mapping) object that works similar to a dictionary. Let's see if manipulating it like a dictionary works."
   ]
  },
  {
   "cell_type": "code",
   "execution_count": null,
   "metadata": {
    "collapsed": false
   },
   "outputs": [],
   "source": [
    "environ[\"NOTEBOOK\"] = os.path.dirname(os.path.abspath(__name__))\n",
    "environ"
   ]
  },
  {
   "cell_type": "markdown",
   "metadata": {},
   "source": [
    "It works! Now we'll just clean up the variables we added..."
   ]
  },
  {
   "cell_type": "code",
   "execution_count": null,
   "metadata": {
    "collapsed": true
   },
   "outputs": [],
   "source": [
    "environ.pop(\"NOTEBOOK_DIRECTORY\")\n",
    "del environ[\"NOTEBOOK\"]"
   ]
  },
  {
   "cell_type": "markdown",
   "metadata": {},
   "source": [
    "## 3.1.2 Local Packages\n",
    "\n",
    "Import also works with local packages but there's one requirement - the [**`__init__.py`**](https://docs.python.org/dev/tutorial/modules.html#packages) file.\n",
    "\n",
    "> The `__init__.py` files are required to make Python treat the directories as containing packages; this is done to prevent directories with a common name, such as string, from unintentionally hiding valid modules that occur later on the module search path. In the simplest case, `__init__.py` can just be an empty file, but it can also execute initialization code for the package or...\n",
    "\n",
    "The package name and the `__init__.py` file can be thought of as one entity. To use a local package in code, the \"__dotted name__\" is used. The dotted name is the name of the directory or file without the extension `.py`. We'll have examples of this later.\n",
    "\n",
    "![Folder image](./Images/folder.png)\n",
    "\n",
    "## 3.1.3 [Aliasing](https://www.python.org/dev/peps/pep-0221/)\n",
    "\n",
    "Aside from allowing us to use external code from modules, `import` also binds the module to a name in the local scope. Different packages and modules have the possibility of having a module or objects with the same name. Is it possible to import from different packages, modules with the same name?\n",
    "\n",
    "If imports use the same name, only the last assignment to the name will be used. Imported modules can't share a name but they can be bound to an alias. For example, if we had to import `path` from both `os` (`os.path`) and `sys` (`sys.path`), Python lets us assign imports to an alias using the __`as`__ keyword."
   ]
  },
  {
   "cell_type": "code",
   "execution_count": null,
   "metadata": {
    "collapsed": true
   },
   "outputs": [],
   "source": [
    "from os import path as opath\n",
    "from sys import path as spath"
   ]
  },
  {
   "cell_type": "markdown",
   "metadata": {},
   "source": [
    "The `as` keyword can be used in with any single import. It does not work when using `import *` (By the way do not use `import *`).\n",
    "\n",
    "## 3.1.4 [Multiple Imports](https://www.python.org/dev/peps/pep-0328/)\n",
    "\n",
    "If you had to import multiple things from a single module, that can also be done in one line with the syntax:"
   ]
  },
  {
   "cell_type": "code",
   "execution_count": null,
   "metadata": {
    "collapsed": true
   },
   "outputs": [],
   "source": [
    "from os import environ, path"
   ]
  },
  {
   "cell_type": "markdown",
   "metadata": {},
   "source": [
    "Lines can be broken by putting a backslash `\\ ` at the end of a line and the code can continue on the next line with indentation:"
   ]
  },
  {
   "cell_type": "code",
   "execution_count": null,
   "metadata": {
    "collapsed": false
   },
   "outputs": [],
   "source": [
    "from os import environ, kill, path, urandom, wait, \\\n",
    "     walk"
   ]
  },
  {
   "cell_type": "markdown",
   "metadata": {},
   "source": [
    "The same can be achieved by enclosing them in a parenthesis, the standard grouping mechanism in Python. This is the recommended way to import when it reaches multiple lines:"
   ]
  },
  {
   "cell_type": "code",
   "execution_count": null,
   "metadata": {
    "collapsed": true
   },
   "outputs": [],
   "source": [
    "from os import (environ, kill, path, urandom, wait,\n",
    "     walk)"
   ]
  },
  {
   "cell_type": "markdown",
   "metadata": {},
   "source": [
    "Whether to import packages or to specificy modules to import is a matter of preference. Below are some more examples that achieve pretty much the same things."
   ]
  },
  {
   "cell_type": "code",
   "execution_count": null,
   "metadata": {
    "collapsed": false
   },
   "outputs": [],
   "source": [
    "import package\n",
    "# usage:\n",
    "# package.module.function()\n",
    "# package.module.Class()\n",
    "\n",
    "from package import module\n",
    "# usage:\n",
    "# module.function()\n",
    "# module.Class()\n",
    "\n",
    "from package.module import function, Class\n",
    "# usage:\n",
    "# function()\n",
    "# Class()"
   ]
  },
  {
   "cell_type": "markdown",
   "metadata": {},
   "source": [
    "If you execute the code above, you'll notice that it prints three lines. Each line is a print statement from the respective modules:\n",
    "\n",
    "```\n",
    "app2 is loaded\n",
    "app is loaded\n",
    "module is loaded\n",
    "```\n",
    "\n",
    "When a package is imported, the `__init__.py` in that directory gets executed and any objects that are defined there reside within the package's namespace. The previous code block demonstrates that and we can access `module` and `app` from `package`, `function` and `Class` from `module`, etc. But aside from that, `app` is also imported within `module`. We can therefore access `app` from within `module`.\n",
    "\n",
    "## 3.1.5 [Relative Imports](https://www.python.org/dev/peps/pep-0328/)\n",
    "\n",
    "If you notice the import statement in `module.py` it just says `from . import app`. This is an example of a relative import. Modules within a package can import each other relatively. If an import says __`from . import ...`__, it means that the import path is within the same directory. `module.py` and `app.py` are both in the same directory so for our `app` to be imported by our `module`, the import statement would be `from . import app`."
   ]
  },
  {
   "cell_type": "code",
   "execution_count": null,
   "metadata": {
    "collapsed": false
   },
   "outputs": [],
   "source": [
    "%load package/module.py"
   ]
  },
  {
   "cell_type": "markdown",
   "metadata": {},
   "source": [
    "`app.py` imports `app2.py` but it's within our `subpackage`. To import it, the syntax would be `.subpackage import app2`. These are some examples of \"__dotted names__\" mentioned earlier."
   ]
  },
  {
   "cell_type": "code",
   "execution_count": null,
   "metadata": {
    "collapsed": true
   },
   "outputs": [],
   "source": [
    "%load package/app.py"
   ]
  },
  {
   "cell_type": "markdown",
   "metadata": {},
   "source": [
    "`module` is imported by `app2` but it lives in the `package` directory containing our `subpackage`. The syxtax for the import is `from .. import module`."
   ]
  },
  {
   "cell_type": "code",
   "execution_count": null,
   "metadata": {
    "collapsed": false
   },
   "outputs": [],
   "source": [
    "%load package/subpackage/app2.py"
   ]
  },
  {
   "cell_type": "markdown",
   "metadata": {},
   "source": [
    "## 3.1.6 [`import *` and `__all__`](https://docs.python.org/dev/tutorial/modules.html#importing-from-a-package)\n",
    "\n",
    "Using `from package/module_name import *` imports all submodules/packages or names from the imported package into the current namespace. This is __not recommended__ since it clutters the namespace. We usually don't know what's in there and it can make debugging difficult.\n",
    "\n",
    "In your modules, you can define `__all__` (as a name, not as a string) to control what can be imported from it when using `import *`. Packages can have this in its `__init__.py` file to serve as an index of modules. As a result, using `import *` only imports the names explicitly listed in `__all__`. However, `__all__` only affects `import *` and does not affect packages that can be imported explicitly by their names."
   ]
  },
  {
   "cell_type": "code",
   "execution_count": null,
   "metadata": {
    "collapsed": true
   },
   "outputs": [],
   "source": [
    "__all__ = ['module', 'subpackage']"
   ]
  },
  {
   "cell_type": "markdown",
   "metadata": {},
   "source": [
    "# 3.2 Common Modules\n",
    "\n",
    "Let's practice using some common modules from the standard library. We'll use datetime and random. Then we'll look at modules related to the web, json and requests, with the latter being a 3rd party module (not part of the standard library) used for http requests.\n",
    "\n",
    "## 3.2.1 [`datetime`](https://docs.python.org/3.5/library/datetime.html)\n",
    "\n",
    "> The `datetim`e module supplies classes for manipulating dates. While date and time arithmetic is supported, the focus of the implementation is on efficient attribute extraction for output formatting and manipulation.\n",
    "\n",
    "Attributes: year, month, day, hour, minute, second, microsecond, and tzinfo.\n",
    "\n",
    "We'll import the module. Imports almost always go on top."
   ]
  },
  {
   "cell_type": "code",
   "execution_count": null,
   "metadata": {
    "collapsed": false
   },
   "outputs": [],
   "source": [
    "import datetime\n",
    "\n",
    "now = datetime.datetime.now()\n",
    "now"
   ]
  },
  {
   "cell_type": "markdown",
   "metadata": {},
   "source": [
    "This is again a good time to use introspection to learn more about `datetime`."
   ]
  },
  {
   "cell_type": "code",
   "execution_count": null,
   "metadata": {
    "collapsed": false
   },
   "outputs": [],
   "source": [
    "help(datetime)"
   ]
  },
  {
   "cell_type": "markdown",
   "metadata": {},
   "source": [
    "Based on what we found out about the datetime package, it offers several classes related to dates and times. You might need to read the documentation again for the details because it's still new to you but eventually you'll easily get an understanding of a modules based on the output of `help()`.\n",
    "\n",
    "Let's get the number of days before christmas!"
   ]
  },
  {
   "cell_type": "code",
   "execution_count": null,
   "metadata": {
    "collapsed": false
   },
   "outputs": [],
   "source": [
    "christmas = datetime.date(month=12, day=25, year=now.year)"
   ]
  },
  {
   "cell_type": "markdown",
   "metadata": {},
   "source": [
    "We already have the datetime now and the date for Christmas. But they are different types so you can try to do some operations but you'll encounter errors. Fortunately, `now` as a `date()` method that returns a date object from the `datetime`. We can use that instead:"
   ]
  },
  {
   "cell_type": "code",
   "execution_count": null,
   "metadata": {
    "collapsed": false
   },
   "outputs": [],
   "source": [
    "christmas - now.date()"
   ]
  },
  {
   "cell_type": "markdown",
   "metadata": {},
   "source": [
    "## 3.2.2 [`random`](https://docs.python.org/3.5/library/random.html)\n",
    "\n",
    "> This module implements pseudo-random number generators for various distributions.\n",
    "\n",
    "We'll go straight to some examples. You can use introspection on your own to find out more.\n",
    "\n",
    "##### [random.randrange()](https://docs.python.org/dev/library/random.html#random.randrange)\n",
    "\n",
    "> This returns a randomly selected element from range. It doesn’t actually build a range object.\n",
    "\n",
    "Let's create a list of random numbers with a random length. We'll use randrange for this one but there are many ways to do it."
   ]
  },
  {
   "cell_type": "code",
   "execution_count": null,
   "metadata": {
    "collapsed": false
   },
   "outputs": [],
   "source": [
    "from random import randrange\n",
    "\n",
    "randomlist = []\n",
    "[randomlist.append(randrange(1, 10)) for r in range(randrange(1, 10))]\n",
    "randomlist"
   ]
  },
  {
   "cell_type": "markdown",
   "metadata": {},
   "source": [
    "##### [random.choice()](https://docs.python.org/dev/library/random.html#random.choice)\n",
    "\n",
    "> Return a random element from the non-empty sequence such as list and tuple. If sequence is empty, it raises [`IndexError`](https://docs.python.org/dev/library/exceptions.html#IndexError).\n",
    "\n",
    "Now we'll choose a random element from our `randomlist`!"
   ]
  },
  {
   "cell_type": "code",
   "execution_count": null,
   "metadata": {
    "collapsed": false
   },
   "outputs": [],
   "source": [
    "import random\n",
    "\n",
    "random.choice(randomlist)"
   ]
  },
  {
   "cell_type": "markdown",
   "metadata": {},
   "source": [
    "##### [random.random()](https://docs.python.org/3.5/library/random.html#random.random)\n",
    "\n",
    "> Return the next random floating point number in the range `[0.0, 1.0)`.\n",
    "\n",
    "If you need floats instead of integers, `random.random()` will do it."
   ]
  },
  {
   "cell_type": "code",
   "execution_count": null,
   "metadata": {
    "collapsed": false
   },
   "outputs": [],
   "source": [
    "import random\n",
    "\n",
    "print(random.random())"
   ]
  },
  {
   "cell_type": "markdown",
   "metadata": {},
   "source": [
    "For practice, make a random number picker for the lottery. It's easy so get creative!"
   ]
  },
  {
   "cell_type": "code",
   "execution_count": null,
   "metadata": {
    "collapsed": false
   },
   "outputs": [],
   "source": [
    "import random\n",
    "\n",
    "# write your creative lottery number picker code here "
   ]
  },
  {
   "cell_type": "markdown",
   "metadata": {},
   "source": [
    "## 3.2.3 [`json`](https://docs.python.org/dev/library/json.html)\n",
    "\n",
    "> JSON (JavaScript Object Notation)... is a lightweight data interchange format inspired by JavaScript object literal syntax.\n",
    "\n",
    "[json.dumps](https://docs.python.org/dev/library/json.html#json.dumps)\n",
    "\n",
    "> Serialize obj to a JSON formatted str.\n",
    "\n",
    "Let's convert a simple dictionary into JSON."
   ]
  },
  {
   "cell_type": "code",
   "execution_count": null,
   "metadata": {
    "collapsed": false
   },
   "outputs": [],
   "source": [
    "import json\n",
    "\n",
    "dictionary = {\n",
    "    'key1': 'value1',\n",
    "    'key2': 'value2',\n",
    "    'key3': 'value3',\n",
    "    'key4': 'value4',\n",
    "    'key5': 'value5',\n",
    "    'key6': 'value6',\n",
    "}\n",
    "data = json.dumps(dictionary)\n",
    "data"
   ]
  },
  {
   "cell_type": "markdown",
   "metadata": {},
   "source": [
    "[json.loads](https://docs.python.org/dev/library/json.html#json.loads)\n",
    "\n",
    "> Deserialize a str instance containing a JSON document to a Python object.\n",
    "\n",
    "To convert a json object back into a `dict` object:"
   ]
  },
  {
   "cell_type": "code",
   "execution_count": null,
   "metadata": {
    "collapsed": false
   },
   "outputs": [],
   "source": [
    "# you can load json strings into json.loads and it's converted into a dictionary\n",
    "json.loads(data)"
   ]
  },
  {
   "cell_type": "markdown",
   "metadata": {},
   "source": [
    "## 3.2.4 [`requests`](http://docs.python-requests.org/en/latest/user/quickstart/)\n",
    "\n",
    "> Requests is an elegant and simple HTTP library for Python.\n",
    "\n",
    "requests.get()\n",
    "\n",
    "> Sends a GET request."
   ]
  },
  {
   "cell_type": "code",
   "execution_count": null,
   "metadata": {
    "collapsed": false
   },
   "outputs": [],
   "source": [
    "! pip install requests  # let's make sure you have the module"
   ]
  },
  {
   "cell_type": "code",
   "execution_count": null,
   "metadata": {
    "collapsed": false
   },
   "outputs": [],
   "source": [
    "import requests\n",
    "\n",
    "request = requests.get('http://m.me')\n",
    "\n",
    "request.url  # surprise!"
   ]
  },
  {
   "cell_type": "markdown",
   "metadata": {},
   "source": [
    "Using help to instrospect on `requests` gives good information."
   ]
  },
  {
   "cell_type": "code",
   "execution_count": null,
   "metadata": {
    "collapsed": false
   },
   "outputs": [],
   "source": [
    "help(requests)"
   ]
  },
  {
   "cell_type": "markdown",
   "metadata": {
    "collapsed": false
   },
   "source": [
    "Try the next example and explore using introspection to discover what other information you can get from the request object."
   ]
  },
  {
   "cell_type": "code",
   "execution_count": null,
   "metadata": {
    "collapsed": false
   },
   "outputs": [],
   "source": [
    "import requests\n",
    "\n",
    "url = 'https://tumblr.com'\n",
    "r = requests.get(url)\n",
    "\n",
    "print(r.content.decode('utf8'))"
   ]
  }
 ],
 "metadata": {
  "kernelspec": {
   "display_name": "Python 3",
   "language": "python",
   "name": "python3"
  },
  "language_info": {
   "codemirror_mode": {
    "name": "ipython",
    "version": 3
   },
   "file_extension": ".py",
   "mimetype": "text/x-python",
   "name": "python",
   "nbconvert_exporter": "python",
   "pygments_lexer": "ipython3",
   "version": "3.5.1"
  }
 },
 "nbformat": 4,
 "nbformat_minor": 0
}
