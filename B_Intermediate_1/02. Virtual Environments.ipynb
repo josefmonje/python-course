{
 "cells": [
  {
   "cell_type": "markdown",
   "metadata": {},
   "source": [
    "# 2. Virtual Environments\n",
    "\n",
    "A Virtual Environment is a tool to keep the dependencies required by different projects in separate places.\n",
    "\n",
    "If you want to develop an app using the latest version of Django while also maintaining another app which requires a specific older version of Django, you'll see why virtual environments are important. Packages add and remove functionality depending on versions. Virtual environments will make your life easier by creating a space that isolates dependencies. You can activate or deactivate an environment to turn those dependencies on or off. Packages installed in a virtual environment stay in that environment. This way, you may happily create and maintain your apps without installing and reinstalling dependencies for each project. Basically, it keeps your global site-packages clean and manageable.\n",
    "\n",
    "### [__`virtualenv`__](https://virtualenv.pypa.io/en/latest/index.html) \n",
    "\n",
    "It is a tool to create isolated Python environments. It has its own Python binary, dependencies, variables, etc.\n",
    "\n",
    "All the commands below are executed in the terminal, not in the python interpreter. The commands are prefixed with a `!` to try to denote this.\n",
    "\n",
    "## 2.1 Installation\n",
    "\n",
    "### For Python ver. >= 3.3\n",
    "\n",
    "[Venv](https://docs.python.org/3/tutorial/venv.html) became part of the standard library as of Python 3.3. The name of the executable is different but usage is similar.\n",
    "\n",
    "__To create a virtual environment:__"
   ]
  },
  {
   "cell_type": "code",
   "execution_count": null,
   "metadata": {
    "collapsed": false
   },
   "outputs": [],
   "source": [
    "! python3 -m venv virtualenv_name"
   ]
  },
  {
   "cell_type": "markdown",
   "metadata": {},
   "source": [
    "Depending on your system, there may be a need to install the package separately.\n",
    "\n",
    "__A pyvenv script is also installed to make this more convenient:__"
   ]
  },
  {
   "cell_type": "code",
   "execution_count": null,
   "metadata": {
    "collapsed": true
   },
   "outputs": [],
   "source": [
    "! pyvenv virtualenv_name"
   ]
  },
  {
   "cell_type": "markdown",
   "metadata": {},
   "source": [
    "### For Python ver. < 3.3\n",
    "\n",
    "For Python versions less than 3.3, [virtualenv](https://virtualenv.pypa.io/en/latest/index.html) is used.\n",
    "\n",
    "__To install:__"
   ]
  },
  {
   "cell_type": "code",
   "execution_count": null,
   "metadata": {
    "collapsed": true
   },
   "outputs": [],
   "source": [
    "! pip install virtualenv"
   ]
  },
  {
   "cell_type": "markdown",
   "metadata": {},
   "source": [
    "__To create a virtual environment:__"
   ]
  },
  {
   "cell_type": "code",
   "execution_count": null,
   "metadata": {
    "collapsed": true
   },
   "outputs": [],
   "source": [
    "! virtualenv virtualenv_name"
   ]
  },
  {
   "cell_type": "markdown",
   "metadata": {},
   "source": [
    "This creates a virtual environment in your working directory.\n",
    "\n",
    "For both __venv__ and __virtualenv__:\n",
    "\n",
    "__To activate your virtual environment: __"
   ]
  },
  {
   "cell_type": "code",
   "execution_count": null,
   "metadata": {
    "collapsed": true
   },
   "outputs": [],
   "source": [
    "! source virtualenv_name/bin/activate"
   ]
  },
  {
   "cell_type": "markdown",
   "metadata": {},
   "source": [
    "You'll see that the terminal prompt will be prefixed with name of the virtualenv in parenthesis when active.\n",
    "\n",
    "__To deactivate your virtual environment:__"
   ]
  },
  {
   "cell_type": "code",
   "execution_count": null,
   "metadata": {
    "collapsed": true
   },
   "outputs": [],
   "source": [
    "! deactivate"
   ]
  },
  {
   "cell_type": "markdown",
   "metadata": {},
   "source": [
    "Environments are installed in a relative path or absolute path, depending on your input. Without a path, virtual environments are created in the current working directory. A path can also be provided to create it in a different location.\n",
    "\n",
    "Be careful when creating your environment within your project folder. Including it in your repository is not recommended. Later, we'll make a file that will contain all the necessary information to reinstall and recreate the dependencies.\n",
    "\n",
    "## 2.2 `virtualenvwrapper`\n",
    "\n",
    "A [__`virtualenvwrapper`__](http://docs.python-guide.org/en/latest/dev/virtualenvs/#virtualenvwrapper) provides a set of commands which makes working with virtual environments much more pleasant. It also places all your virtual environments in one place. It uses the familiar linux-like commands.\n",
    "\n",
    "__Features:__\n",
    "> 1. Organizes all of your virtual environments in one place.\n",
    "> 2. Wrappers for managing your virtual environments (create, delete, copy).\n",
    "> 3. Use a single command to switch between environments.\n",
    "> 4. Tab completion for commands that take a virtual environment as argument.\n",
    "> 5. User-configurable hooks for all operations ( see [Per-User Customization](https://virtualenvwrapper.readthedocs.org/en/latest/scripts.html#scripts) )\n",
    ">6. Plugin system for more creating sharable extensions ( see [Extending Virtualenvwrapper](https://virtualenvwrapper.readthedocs.org/en/latest/plugins.html#plugins) ).\n",
    "\n",
    "__NOTE:__ This is used together with [__`virtualenv`__](https://virtualenv.pypa.io/en/latest/index.html).\n",
    "\n",
    "__To install (Linux):__"
   ]
  },
  {
   "cell_type": "code",
   "execution_count": null,
   "metadata": {
    "collapsed": true
   },
   "outputs": [],
   "source": [
    "! pip install virtualenvwrapper"
   ]
  },
  {
   "cell_type": "markdown",
   "metadata": {},
   "source": [
    "Then execute the following commands in the terminal:"
   ]
  },
  {
   "cell_type": "code",
   "execution_count": null,
   "metadata": {
    "collapsed": true
   },
   "outputs": [],
   "source": [
    "! export WORKON_HOME=$HOME/.virtualenvs\n",
    "! source /usr/local/bin/virtualenvwrapper.sh"
   ]
  },
  {
   "cell_type": "markdown",
   "metadata": {},
   "source": [
    "The first command creates an environment variable in the OS that `virtualenvwrapper` uses as the path to where virtualenvs are stored.\n",
    "\n",
    "The second command executes a script that initialies `virtualenvwrapper`.\n",
    "\n",
    "After executing those commands, we need to create the actual directory:"
   ]
  },
  {
   "cell_type": "code",
   "execution_count": null,
   "metadata": {
    "collapsed": true
   },
   "outputs": [],
   "source": [
    "! mkdir -p $WORKON_HOME"
   ]
  },
  {
   "cell_type": "markdown",
   "metadata": {},
   "source": [
    "Once the directory is created, `virtualenvwrapper` commands can be used.\n",
    "\n",
    "To create an environment:"
   ]
  },
  {
   "cell_type": "code",
   "execution_count": null,
   "metadata": {
    "collapsed": true
   },
   "outputs": [],
   "source": [
    "! mkvirtualenv env_name"
   ]
  },
  {
   "cell_type": "markdown",
   "metadata": {},
   "source": [
    "To list all available environments:"
   ]
  },
  {
   "cell_type": "code",
   "execution_count": null,
   "metadata": {
    "collapsed": true
   },
   "outputs": [],
   "source": [
    "! lsvirtualenv"
   ]
  },
  {
   "cell_type": "markdown",
   "metadata": {},
   "source": [
    "To remove an environment:"
   ]
  },
  {
   "cell_type": "code",
   "execution_count": null,
   "metadata": {
    "collapsed": true
   },
   "outputs": [],
   "source": [
    "! rmvirtualenv env_name"
   ]
  },
  {
   "cell_type": "markdown",
   "metadata": {},
   "source": [
    "To use a virtualenv:"
   ]
  },
  {
   "cell_type": "code",
   "execution_count": null,
   "metadata": {
    "collapsed": true
   },
   "outputs": [],
   "source": [
    "! workon env_name"
   ]
  },
  {
   "cell_type": "markdown",
   "metadata": {},
   "source": [
    "If `workon` is used without giving an environment name, it will also list the available virtual environments.\n",
    "\n",
    "Once you've tried the commands, you'll want to to be able to use this whenever you start your machine so just add the lines that start with export and source to your `~/.bashrc` or `~/.profile`. These won't be executed in your current terminal session. To do that, you need to reload the startup file (_e.g.,_ `source ~/.bashrc`).\n",
    "\n",
    "Let's try again but this time, with actual packages. We'll create an environment and install Django. We'll then transfer our dependencies to another environment. Since we're using the latest version of Python, we'll use `pyvenv`."
   ]
  },
  {
   "cell_type": "code",
   "execution_count": null,
   "metadata": {
    "collapsed": true
   },
   "outputs": [],
   "source": [
    "! pyvenv test_env\n",
    "! source test_env/bin/activate"
   ]
  },
  {
   "cell_type": "markdown",
   "metadata": {},
   "source": [
    "We have created and activated our test_env. The terminal prompt is prefixed with `(test_env)`.\n",
    "\n",
    "We'll install some packages. Let's say we started a project back when Django was still version 1.6, this is how a specific version of a package is installed."
   ]
  },
  {
   "cell_type": "code",
   "execution_count": null,
   "metadata": {
    "collapsed": true
   },
   "outputs": [],
   "source": [
    "! pip install django==1.6"
   ]
  },
  {
   "cell_type": "markdown",
   "metadata": {},
   "source": [
    "We can check the installed packages with their version using the following command:"
   ]
  },
  {
   "cell_type": "code",
   "execution_count": null,
   "metadata": {
    "collapsed": true
   },
   "outputs": [],
   "source": [
    "! pip freeze"
   ]
  },
  {
   "cell_type": "markdown",
   "metadata": {},
   "source": [
    "You'll see the installed packages together with their versions.\n",
    "\n",
    "## 2.3 `requirements.txt`\n",
    "\n",
    "We'll save this into a file and transfer it to another environment using the following commands:"
   ]
  },
  {
   "cell_type": "code",
   "execution_count": null,
   "metadata": {
    "collapsed": true
   },
   "outputs": [],
   "source": [
    "!pip freeze > requirements.txt"
   ]
  },
  {
   "cell_type": "markdown",
   "metadata": {},
   "source": [
    "This saves a record of the installed packages into a `requirements.txt` file. All our dependencies can be installed to another environment using this file. It can be your other virtual environment or another developer's environment. It can also be given any other name but `requirements.txt` is a convention used in the Python community and it's common to see this file in repositories.\n",
    "\n",
    "Let's make another environment and see how that works."
   ]
  },
  {
   "cell_type": "code",
   "execution_count": null,
   "metadata": {
    "collapsed": true
   },
   "outputs": [],
   "source": [
    "! pyvenv django_env\n",
    "! source django_env/bin/activate"
   ]
  },
  {
   "cell_type": "markdown",
   "metadata": {},
   "source": [
    "This new environment doesn't have any packages installed but we can transfer all our dependencies to this environment using the `requirements.txt` file we created earlier."
   ]
  },
  {
   "cell_type": "code",
   "execution_count": null,
   "metadata": {
    "collapsed": true
   },
   "outputs": [],
   "source": [
    "! pip install -r requirements.txt"
   ]
  },
  {
   "cell_type": "markdown",
   "metadata": {},
   "source": [
    "With this, we easily transferred all the required packages into another environment.\n",
    "\n",
    "Our version of Django is old. We want to find out if our code will still work in the latest version. There's no need to worry since we have an environment setup where our code works so we can experiment in this new one."
   ]
  },
  {
   "cell_type": "code",
   "execution_count": null,
   "metadata": {
    "collapsed": true
   },
   "outputs": [],
   "source": [
    "! pip install -U django\n",
    "! pip freeze"
   ]
  },
  {
   "cell_type": "markdown",
   "metadata": {},
   "source": [
    "This upgrades the version of Django in our current environment. If our imaginary project already works in this new version, we can leave our first environment for this new one. If not, it's safe for us to go back to our old environment."
   ]
  }
 ],
 "metadata": {
  "kernelspec": {
   "display_name": "Python 3",
   "language": "python",
   "name": "python3"
  },
  "language_info": {
   "codemirror_mode": {
    "name": "ipython",
    "version": 3
   },
   "file_extension": ".py",
   "mimetype": "text/x-python",
   "name": "python",
   "nbconvert_exporter": "python",
   "pygments_lexer": "ipython3",
   "version": "3.5.1"
  }
 },
 "nbformat": 4,
 "nbformat_minor": 0
}
