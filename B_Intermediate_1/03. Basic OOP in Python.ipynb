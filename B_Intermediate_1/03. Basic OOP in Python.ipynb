{
 "cells": [
  {
   "cell_type": "markdown",
   "metadata": {
    "collapsed": false,
    "urth": {
     "dashboard": {
      "layout": {
       "col": 0,
       "height": 16,
       "row": 0,
       "width": 12
      }
     }
    }
   },
   "source": [
    "# 3. Basic OOP in Python\n",
    "\n",
    "> Python has been an object-oriented language since it existed. Because of this, creating and using classes and objects are downright easy.\n",
    "\n",
    "## Python Classes and Objects\n",
    "\n",
    "The keyword `class` introduces a class definition. It's followed by the class name, then usually a parenthesized list of derived class/es, and ends with a colon. The indented statements below it constitute the class' attributes.\n",
    "\n",
    "There's usually a parenthesized list of derived class/es. **Usually**, because there is (used to be) an [old-style and new-style](https://docs.python.org/2/reference/datamodel.html#new-style-and-classic-classes) way to define a class. Old-style classes don't have this. Having said that, this notebook covers new-style classes since this is the [recommended way](https://wiki.python.org/moin/NewClassVsClassicClass) to create a class in Python.\n",
    "\n",
    "__Note:__ We'll be defining a few classes. Some of the later classes will depend on the first few classes. The code needs to be executed in order from top to bottom. Just run the codes and proceed. :)\n",
    "\n",
    "## 3.1 Defining a Class\n",
    "\n",
    "Defining a new class is easy. The keyword `class` lets you define a class. A name is given to it, with the convention of writing it in _CapitalCase_. Python classes inherit from the built-in __`object`__ and its methods refer to __self__.\n",
    "\n",
    "In our example, we'll deal with shapes. Let's create an empty class named `Shape`. This class won't do anything yet but we'll add attributes to it later:"
   ]
  },
  {
   "cell_type": "code",
   "execution_count": null,
   "metadata": {
    "collapsed": true,
    "urth": {
     "dashboard": {
      "hidden": true,
      "layout": {}
     }
    }
   },
   "outputs": [],
   "source": [
    "class Shape(object):\n",
    "    pass"
   ]
  },
  {
   "cell_type": "markdown",
   "metadata": {
    "urth": {
     "dashboard": {
      "layout": {
       "col": 0,
       "height": 5,
       "row": 16,
       "width": 12
      }
     }
    }
   },
   "source": [
    "Our `Shape` class isn't very interesting because it doesn't do anything. It only inherits from the built-in `object` but nothing else.\n",
    "\n",
    "### [Old and New Style Classes](https://wiki.python.org/moin/NewClassVsClassicClass)\n",
    "\n",
    "The example above is the new and recommended way of creating classes. You might encounter another way of defining classes without deriving from the built-in object:"
   ]
  },
  {
   "cell_type": "code",
   "execution_count": null,
   "metadata": {
    "collapsed": true,
    "urth": {
     "dashboard": {
      "hidden": true,
      "layout": {}
     }
    }
   },
   "outputs": [],
   "source": [
    "class Old_Style_Class:\n",
    "    pass"
   ]
  },
  {
   "cell_type": "markdown",
   "metadata": {
    "urth": {
     "dashboard": {
      "layout": {
       "col": 0,
       "height": 5,
       "row": 21,
       "width": 12
      }
     }
    }
   },
   "source": [
    "This is the old style of defining classes. We'll focus on the new style and learn about the old style just so you're aware if ever you encounter it.\n",
    "\n",
    "Now let's go back to our first example. Shapes usually have measurements like its area, height, diameter, etc. or for circles, circumference, radius, etc. Our class needs some methods that calculate these and attributes that represent numbers.\n",
    "\n",
    "Let's add some attributes and methods that our class can use."
   ]
  },
  {
   "cell_type": "code",
   "execution_count": null,
   "metadata": {
    "collapsed": true,
    "urth": {
     "dashboard": {
      "hidden": true,
      "layout": {}
     }
    }
   },
   "outputs": [],
   "source": [
    "class Shape(object):\n",
    "    \"\"\"Base class for shapes.\"\"\"\n",
    "\n",
    "    x = 0\n",
    "    y = 0\n",
    "    \n",
    "    def width(self):\n",
    "        \"\"\"Retun width or equivalent.\"\"\"\n",
    "        return self.x\n",
    "    \n",
    "    def height(self):\n",
    "        \"\"\"Retun height or equivalent.\"\"\"\n",
    "        return self.y\n",
    "    \n",
    "    def area(self):\n",
    "        return self.x * self.y"
   ]
  },
  {
   "cell_type": "markdown",
   "metadata": {
    "urth": {
     "dashboard": {
      "layout": {
       "col": 0,
       "height": 4,
       "row": 26,
       "width": 12
      }
     }
    }
   },
   "source": [
    "Our `Shape` class seems a little bit more useful now. Notice that class methods always accept `self` as the first argument, and attributes and other methods are referred to as attributes of `self`, which refers to the current object when this is instantiated.\n",
    "\n",
    "Let's create an object, an instance of our class, by calling it and assigning it to a variable that will be the name of our object:"
   ]
  },
  {
   "cell_type": "code",
   "execution_count": null,
   "metadata": {
    "collapsed": false,
    "urth": {
     "dashboard": {
      "hidden": true,
      "layout": {}
     }
    }
   },
   "outputs": [],
   "source": [
    "s = Shape()"
   ]
  },
  {
   "cell_type": "markdown",
   "metadata": {
    "urth": {
     "dashboard": {
      "layout": {
       "col": 0,
       "height": 5,
       "row": 30,
       "width": 12
      }
     }
    }
   },
   "source": [
    "For our class to useful, we need to add a few more things. Right now, we can use introspection on `s` or on `Shape` to see what we have just in case someone else built the implementation of `Shape` for us.\n",
    "\n",
    "### Introspection\n",
    "\n",
    "Let's use `help()` on our object and see what we can learn about it."
   ]
  },
  {
   "cell_type": "code",
   "execution_count": null,
   "metadata": {
    "collapsed": false,
    "urth": {
     "dashboard": {
      "hidden": true,
      "layout": {}
     }
    }
   },
   "outputs": [],
   "source": [
    "help(s)"
   ]
  },
  {
   "cell_type": "markdown",
   "metadata": {
    "urth": {
     "dashboard": {
      "layout": {
       "col": 0,
       "height": 25,
       "row": 35,
       "width": 12
      }
     }
    }
   },
   "source": [
    "## 3.2 [Docstrings](https://www.python.org/dev/peps/pep-0257/)\n",
    "\n",
    "It's good practice to document your code. The triple quoted strings are called docstrings. As much as possible, we want the code to be easy to read and self-explanatory. Otherwise, docstrings provide a way to document our code and it's good practice to have it. Docstrings show up when `help()` is called on an object. It reflects on you, the author when your code has good docstrings for other users of your code. Let's remember to add docstrings to the classes and methods we create.\n",
    "\n",
    "Back to our example. Shapes can be implemented in different ways. Also, shape objects can come in different forms. For example, a square. Before we do that, we'll learn one more thing about Python objects.\n",
    "\n",
    "## 3.3 Language-defined \"special\", \"magic\" or \"dunder\" methods\n",
    "\n",
    "From using introspection, we saw a list of attributes beginning and ending with double underlines (`__`). People refer to this in different ways:\n",
    "\n",
    "* Python documentation refers to these as [special method](https://docs.python.org/3.5/reference/datamodel.html#special-method-names) names\n",
    "* PEP8 refers to it as [magic](https://www.python.org/dev/peps/pep-0008/#descriptive-naming-styles) methods\n",
    "* The double underline syntax can be found in many places in Python and it has an alias - [dunder](https://wiki.python.org/moin/DunderAlias)\n",
    "\n",
    "For any purpose, let's jut accept [special methods](http://venus.cs.qc.cuny.edu/~waxman/780/Python%20Special%20Methods.pdf), [magic](http://rafekettler.com/magicmethods.html) or [dunder](https://pythonconquerstheuniverse.wordpress.com/2012/03/09/pythons-magic-methods/) interchangeably so we always know when.\n",
    "\n",
    "In Python, there are no private variables. Everything in your object is public. The convention is that variables prefixed by underscores are considered to be used internally or for \"private\" use. They can still be accessed if you need to but make sure you know what you're doing. They were made private for some reason.\n",
    "\n",
    "From the list of magic methods provided by `dir()`, we'll look at two of them then you can start exploring others on your own. You can always refer to the Python documentation for help.\n",
    "\n",
    "These are:\n",
    "\n",
    "* `__init__`\n",
    "* `__str__`\n",
    "\n",
    "### `__init__`\n",
    "\n",
    "Sometimes we want our objects to do something when instantiated. It may be anything from processing data, calling functions or accepting arguments. Modifying `__init__` allows us to do exactly this.\n",
    "\n",
    "In the `Square` class that we'll be making, We're going to override the `__init__` method so it can accept keyword arguments when instantiated."
   ]
  },
  {
   "cell_type": "code",
   "execution_count": null,
   "metadata": {
    "collapsed": false,
    "urth": {
     "dashboard": {
      "hidden": true,
      "layout": {}
     }
    }
   },
   "outputs": [],
   "source": [
    "class Square(Shape):\n",
    "    \"\"\"Square implementation of Shape.\"\"\"\n",
    "\n",
    "    def __init__(self, **kwargs):\n",
    "        self.x = kwargs.get('side', 1)\n",
    "        self.y = self.x"
   ]
  },
  {
   "cell_type": "markdown",
   "metadata": {
    "urth": {
     "dashboard": {
      "layout": {
       "col": 0,
       "height": 4,
       "row": 60,
       "width": 12
      }
     }
    }
   },
   "source": [
    "The `__init__` method executes on initialization (hence, _init_). Any block of code defined here gets executed first. If we want to pass parameters while instantiating our object, it goes in here. It works the same way as the auguments in functions."
   ]
  },
  {
   "cell_type": "code",
   "execution_count": null,
   "metadata": {
    "collapsed": false,
    "urth": {
     "dashboard": {
      "hidden": true,
      "layout": {}
     }
    }
   },
   "outputs": [],
   "source": [
    "s = Square(side=3)\n",
    "s.area()"
   ]
  },
  {
   "cell_type": "markdown",
   "metadata": {
    "urth": {
     "dashboard": {
      "layout": {
       "col": 0,
       "height": 5,
       "row": 64,
       "width": 12
      }
     }
    }
   },
   "source": [
    "Nice! We can now create `Square` objects.\n",
    "\n",
    "### `__str__`\n",
    "\n",
    "Before we modify our class' `__str__`, let's look at the output when we print our object."
   ]
  },
  {
   "cell_type": "code",
   "execution_count": null,
   "metadata": {
    "collapsed": false,
    "urth": {
     "dashboard": {
      "hidden": true,
      "layout": {}
     }
    }
   },
   "outputs": [],
   "source": [
    "print(s)"
   ]
  },
  {
   "cell_type": "markdown",
   "metadata": {
    "urth": {
     "dashboard": {
      "layout": {
       "col": 0,
       "height": 4,
       "row": 69,
       "width": 12
      }
     }
    }
   },
   "source": [
    "Printing our object returns it's class name and memory address. In many cases, we would like to have something more useful. Modifying `__str__` allows us to do exactly this. The value returned by `__str__` should be a string (hence, _str_) or it will return an error when executed. "
   ]
  },
  {
   "cell_type": "code",
   "execution_count": null,
   "metadata": {
    "collapsed": false,
    "scrolled": true,
    "urth": {
     "dashboard": {
      "hidden": true,
      "layout": {}
     }
    }
   },
   "outputs": [],
   "source": [
    "class Square(Shape):\n",
    "    \"\"\"Square implementation of Shape.\"\"\"\n",
    "    \n",
    "    def __init__(self, **kwargs):\n",
    "        self.x = kwargs.get('side', 1)\n",
    "        self.y = self.x\n",
    "    \n",
    "    def __str__(self):\n",
    "        return \"{0} ({1}x{1})\".format(self.__class__.__name__, self.x)"
   ]
  },
  {
   "cell_type": "markdown",
   "metadata": {
    "urth": {
     "dashboard": {
      "layout": {
       "col": 0,
       "height": 4,
       "row": 73,
       "width": 4
      }
     }
    }
   },
   "source": [
    "`Square.__str__` has been modified to return its name and it's area. I used other dunder attributes here to get the name of my current class. Let's see how it looks."
   ]
  },
  {
   "cell_type": "code",
   "execution_count": null,
   "metadata": {
    "collapsed": false,
    "urth": {
     "dashboard": {
      "hidden": true,
      "layout": {}
     }
    }
   },
   "outputs": [],
   "source": [
    "s = Square(side=2)\n",
    "print(s)"
   ]
  },
  {
   "cell_type": "markdown",
   "metadata": {
    "urth": {
     "dashboard": {
      "layout": {
       "col": 0,
       "height": 4,
       "row": 77,
       "width": 12
      }
     }
    }
   },
   "source": [
    "The `__str__` method returns the string representation of objects when printed. This can refer to class attributes and will return instance variables like `this.x` or `this.name`. It can be as simple as returning a string, an attribute or doing some string formatting.\n",
    "\n",
    "Let's try another example. This time, a triangle"
   ]
  },
  {
   "cell_type": "code",
   "execution_count": null,
   "metadata": {
    "collapsed": false,
    "urth": {
     "dashboard": {
      "layout": {
       "col": 4,
       "height": 4,
       "row": 73,
       "width": 4
      }
     }
    }
   },
   "outputs": [],
   "source": [
    "class Triangle(Shape):\n",
    "    \"\"\"Square implementation of Shape.\"\"\"\n",
    "    \n",
    "    def __init__(self, **kwargs):\n",
    "        self.x = kwargs.get('base', 1)\n",
    "        self.y = kwargs.get('height', 1)\n",
    "    \n",
    "    def area(self):\n",
    "        return (self.x * self.y) * .5\n",
    "    \n",
    "    def __str__(self):\n",
    "        return \"{0} with base: {1} and height: {2}\".format(self.__class__.__name__, self.x, self.y)\n",
    "\n",
    "t = Triangle(base=2, height=3)\n",
    "print(t, \"\\nArea:\", t.area())"
   ]
  },
  {
   "cell_type": "markdown",
   "metadata": {
    "urth": {
     "dashboard": {
      "layout": {
       "col": 0,
       "height": 9,
       "row": 81,
       "width": 12
      }
     }
    }
   },
   "source": [
    "All our derived classes override `__init__()`. The method resolution order dictates that the `__init__()` that will execute is the one on the left most. But we made it so that the `__init__()` on the right most class is executed using `super()`.\n",
    "\n",
    "## 3.4 Packing/Unpacking Arguments\n",
    "\n",
    "Packing and unpacking arguments and keyword arguments can be used in functions but it becomes extra useful in class methods. It helps you add or change functionality without changing the class definition. Objects may be subclassed and methods may be overridden. These objects may be yours or from a 3rd party package you're using, accept different values and have different logic. This syntax allows objects to work together without knowing about others work.\n",
    "\n",
    "Packed keyword arguments were used in the `__init__` method of the `Shape` family of classes we created. Let's modify our `Triangle` so that we have logic that would make sure we have the right keyword arguments to create our triangle."
   ]
  },
  {
   "cell_type": "code",
   "execution_count": null,
   "metadata": {
    "collapsed": false,
    "urth": {
     "dashboard": {
      "layout": {
       "col": 8,
       "height": 4,
       "row": 73,
       "width": 4
      }
     }
    }
   },
   "outputs": [],
   "source": [
    "class MissingValueException(Exception):\n",
    "    pass\n",
    "\n",
    "class Triangle(Shape):\n",
    "    \"\"\"Square implementation of Shape.\"\"\"\n",
    "    \n",
    "    def __init__(self, **kwargs):\n",
    "        base = kwargs.get('base')\n",
    "        if base:\n",
    "            self.x = base\n",
    "        else:\n",
    "            raise MissingValueException(\"Missing value for Base.\")\n",
    "\n",
    "        height = kwargs.get('height')\n",
    "        if height:\n",
    "            self.y = height\n",
    "        else:\n",
    "            raise MissingValueException(\"Missing value for Height.\")\n",
    "\n",
    "    def area(self):\n",
    "        return (self.x * self.y) * .5\n",
    "    \n",
    "    def __str__(self):\n",
    "        return \"{0} with base: {1} and height: {2}\".format(self.__class__.__name__, self.x, self.y)\n",
    "\n",
    "t = Triangle(height=3, base=4)\n",
    "print(t)"
   ]
  },
  {
   "cell_type": "markdown",
   "metadata": {
    "urth": {
     "dashboard": {
      "hidden": true,
      "layout": {}
     }
    }
   },
   "source": [
    "The logic of `__init__` was changed so that we first check for the values of base and height and raise exceptions when they are missing. Note that the definition of `__init__` did not change, it still only accepts `**kwargs`. But using `**kwargs`, we can have it as starting point to check for a value and trigger some logic. This also lets other classes override this method safely and use `super()` without needing to know too much about the other classes in the hierarchy. We'll see how that works in the next notebook.\n",
    "\n",
    "### Summary \n",
    "\n",
    "This notebook discussed several topics related to objects from defining classes, language-defined variables, inheritance, to packed arguments/keyword arguments. Each of the examples can easily be translated to real-life use cases.\n",
    "\n",
    "An overview of the OOP Topics covered in this notebook are:\n",
    "\n",
    "__Class__\n",
    "\n",
    "> A class is a way to take a grouping of functions and data and place them inside a conceptual container. The attributes or the data members such as class variables, class instance, and methods are accessed via dot (.) notation.\n",
    "\n",
    "  * Old and New style classes\n",
    "  \n",
    "  > Use new style classes subclassing `object`.\n",
    "\n",
    "  * Docstrings\n",
    "\n",
    "  > Docstrings make it easy for others to use your code.\n",
    "\n",
    "  * Dunder methods\n",
    "\n",
    "  > `__init__` for accepting arguments and `__str__` to change how an object is printed.\n",
    "\n",
    "  * Packed arguments\n",
    "\n",
    "  > Allows you to change implementation without changing class method definitions.\n",
    "\n",
    "__Object__\n",
    "\n",
    "> A unique instance of a data structure that's defined by its class. An object comprises both data members (class attributes and instance variables) and methods.\n",
    "\n",
    "__Instance__\n",
    "\n",
    "> An individual object of a certain class. An object `tile`, for example, that belongs to a class `Square` is an instance of the class `Square`, that is a subclass of `Shape`.\n",
    "\n",
    "__Instantiation__\n",
    "\n",
    "> The creation of an instance of a class.\n",
    "\n",
    "__Method__\n",
    "\n",
    "> A special kind of function that is defined in a class definition.\n",
    "\n",
    "### Exercise:"
   ]
  },
  {
   "cell_type": "code",
   "execution_count": null,
   "metadata": {
    "collapsed": true,
    "urth": {
     "dashboard": {
      "hidden": true,
      "layout": {}
     }
    }
   },
   "outputs": [],
   "source": [
    "# Create Ellipse and Circle classes from Shape, overriding methods and adding any necessary information.\n",
    "\n",
    "\n",
    "\n",
    "\n",
    "\n",
    "\n"
   ]
  }
 ],
 "metadata": {
  "kernelspec": {
   "display_name": "Python 3",
   "language": "python",
   "name": "python3"
  },
  "language_info": {
   "codemirror_mode": {
    "name": "ipython",
    "version": 3
   },
   "file_extension": ".py",
   "mimetype": "text/x-python",
   "name": "python",
   "nbconvert_exporter": "python",
   "pygments_lexer": "ipython3",
   "version": "3.5.1"
  },
  "urth": {
   "dashboard": {
    "cellMargin": 10,
    "defaultCellHeight": 20,
    "layout": "grid",
    "maxColumns": 12
   }
  }
 },
 "nbformat": 4,
 "nbformat_minor": 0
}
