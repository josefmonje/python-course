{
 "cells": [
  {
   "cell_type": "markdown",
   "metadata": {},
   "source": [
    "# 4. OOP in Python - Part 2\n",
    "\n",
    "This notebook assumes you can already create and use Python classes. In this notebook, we'll take a deeper look at classes.\n",
    "\n",
    "## 4.1 Multiple Inheritance\n",
    "\n",
    "In Python, it's possible to do multiple inheritance.\n",
    "\n",
    "The new class inherits from all derived classes, __from left to right__, subject to the method resolution order. The MRO uses a linearization algorithm that is stable and consistent.\n",
    "\n",
    "The importance of the method resolution order becomes more apparent when dealing with multiple inheritance as well as when using of the `super()` function.\n",
    "\n",
    "Let's create a new `ThreeDimensionSquare` that derives from both `ThreeDimension` and `Square`. First we'll make a new `ThreeDimension` class that will make our shapes three-dimensional."
   ]
  },
  {
   "cell_type": "code",
   "execution_count": null,
   "metadata": {
    "collapsed": false
   },
   "outputs": [],
   "source": [
    "# We've added all the necessary classes from the previous notebook.\n",
    "\n",
    "class Shape(object):\n",
    "    \"\"\"Base class for shapes.\"\"\"\n",
    "\n",
    "    x = 0\n",
    "    y = 0\n",
    "    \n",
    "    def width(self):\n",
    "        \"\"\"Retun width or equivalent.\"\"\"\n",
    "        return self.x\n",
    "    \n",
    "    def height(self):\n",
    "        \"\"\"Retun height or equivalent.\"\"\"\n",
    "        return self.y\n",
    "    \n",
    "    def area(self):\n",
    "        return self.x * self.y\n",
    "\n",
    "\n",
    "class Square(Shape):\n",
    "    \"\"\"Square implementation of Shape.\"\"\"\n",
    "    \n",
    "    def __init__(self, **kwargs):\n",
    "        self.x = kwargs.get('side', 1)\n",
    "        self.y = self.x\n",
    "    \n",
    "    def __str__(self):\n",
    "        return \"{0} ({1}x{1})\".format(self.__class__.__name__, self.x)\n",
    "\n",
    "    @staticmethod\n",
    "    def help(*args, **kwargs):\n",
    "        print(\"Help for Square class: Accepts side and int value as keyword argument.\")\n",
    "        return args, kwargs\n",
    "\n",
    "    @classmethod\n",
    "    def side(cls, side):\n",
    "        return cls(side=side)\n",
    "\n",
    "    @property\n",
    "    def X(self):\n",
    "        return self.x\n",
    "\n",
    "#    @X.setter\n",
    "#    def X(self, value):\n",
    "#        self.x = value\n",
    "\n",
    "    @X.deleter\n",
    "    def X(self):\n",
    "        del self._x\n",
    "\n",
    "\n",
    "class ThreeDimension(object):\n",
    "    \"\"\"Makes things 3D!\"\"\"\n",
    "    \n",
    "    z = 0\n",
    "\n",
    "    def __init__(self, **kwargs):\n",
    "        self.z = kwargs.get('depth', 1)\n",
    "        super().__init__(**kwargs)\n",
    "\n",
    "    def volume(self):\n",
    "        \"\"\"Because 3d!\"\"\"\n",
    "        return self.x * self.y * self.z\n",
    "\n",
    "\n",
    "class ThreeDimensionSquare(ThreeDimension, Square):\n",
    "    \"\"\"A 3D square or a cube.\"\"\"\n",
    "\n",
    "    def __init__(self, **kwargs):\n",
    "        \"\"\"Because it can be a cube, we can accept either depth or use side.\"\"\"\n",
    "        self.z = kwargs.get('depth') or kwargs.get('side', 1)\n",
    "        super(ThreeDimension, self).__init__(**kwargs)\n",
    "\n",
    "\n",
    "cube = ThreeDimensionSquare(side=2)\n",
    "cube.volume()"
   ]
  },
  {
   "cell_type": "markdown",
   "metadata": {},
   "source": [
    "## 4.2 [Method Resolution Order](https://docs.python.org/3.5/glossary.html#term-method-resolution-order)\n",
    "\n",
    "Since `Square` is derived from `Shape`, note the __method resolution order__ section when the `cube` instance was passed as an argument to `help()`. Method resolution order or MRO determines how our object will look for information. Let's say my class derives from a tall chain of classes and/or from multiple clases, with some overrides along the way in different places, the MRO algorithm can give us a stable and consistent order of classes for looking up attributes."
   ]
  },
  {
   "cell_type": "code",
   "execution_count": null,
   "metadata": {
    "collapsed": false
   },
   "outputs": [],
   "source": [
    "help(cube)"
   ]
  },
  {
   "cell_type": "markdown",
   "metadata": {
    "collapsed": false,
    "scrolled": true
   },
   "source": [
    "```\n",
    "class ThreeDimensionSquare(ThreeDimension, Square)\n",
    " |  A 3D square or a cube.\n",
    " |  \n",
    " |  Method resolution order:\n",
    " |      ThreeDimensionSquare\n",
    " |      ThreeDimension\n",
    " |      Square\n",
    " |      Shape\n",
    " |      builtins.object\n",
    "```\n",
    "\n",
    "Each class besides `Shape` overrides the `__init__` method. Which `__init__` method is executed? The method resolution order determines this. The top-most class is the current class. It will search each one going down. Notice that the one at the bottom is `builtins.object` or the `object` subclassed in \"new style\" classes.\n",
    "\n",
    "## 4.3 Super\n",
    "\n",
    "There are times when we want to access the parent or ancestor's method before it was overridden. We might want to maintain the original functionality, add or modify it, but not rewrite everything. The `super()` function allows us to do exactly this. Consider the `__init__` method in our __`ThreeDimensionSquare`__ class:"
   ]
  },
  {
   "cell_type": "code",
   "execution_count": null,
   "metadata": {
    "collapsed": false
   },
   "outputs": [],
   "source": [
    "class ThreeDimensionSquare(ThreeDimension, Square):\n",
    "    \"\"\"A 3D square or a cube.\"\"\"\n",
    "\n",
    "    def __init__(self, **kwargs):\n",
    "        \"\"\"Because it can be a cube, we can accept either depth or use side.\"\"\"\n",
    "        self.z = kwargs.get('depth') or kwargs.get('side', 1)\n",
    "        super(ThreeDimension, self).__init__(**kwargs)  # this\n",
    "\n",
    "cube = ThreeDimensionSquare(side=2)\n",
    "cube.volume()"
   ]
  },
  {
   "cell_type": "markdown",
   "metadata": {},
   "source": [
    "One way to think of it is that when `super()` is called, is passes through to the parent or ancestor. In `ThreeDimensionSquare.__init__`, the value of `self.z` is set in a different way. The next line means to execute the `__init__` that was inherited by `ThreeDimension`, not the one that is defined in this class (`ThreeDimensionSquare`) or the one in `ThreeDimension` itself.\n",
    "\n",
    "Let's change it a bit so we can see differences depending on how it's used. We'll change the statement to:\n",
    "\n",
    "```\n",
    "super(ThreeDimensionSquare, self).__init__(**kwargs)\n",
    "```\n",
    "\n",
    "So the argument to `super()` is the current class. Notice the output of `cube.column()` change to 4. The reason for this is because the `__init__` being executed is the one from `ThreeDimension` which has the line:\n",
    "\n",
    "```\n",
    "self.z = kwargs.get('depth') or kwargs.get('side', 1)\n",
    "```"
   ]
  },
  {
   "cell_type": "code",
   "execution_count": null,
   "metadata": {
    "collapsed": false
   },
   "outputs": [],
   "source": [
    "class ThreeDimensionSquare(ThreeDimension, Square):\n",
    "    \"\"\"A 3D square or a cube.\"\"\"\n",
    "\n",
    "    def __init__(self, **kwargs):\n",
    "        \"\"\"Because it can be a cube, we can accept either depth or use side.\"\"\"\n",
    "        self.z = kwargs.get('depth') or kwargs.get('side', 1)\n",
    "        super(ThreeDimensionSquare, self).__init__(**kwargs)  # this\n",
    "\n",
    "cube = ThreeDimensionSquare(side=2)\n",
    "cube.volume()"
   ]
  },
  {
   "cell_type": "markdown",
   "metadata": {},
   "source": [
    "The value of `self.z` is changed to 1 so the output from `cube.volume()` is different.\n",
    "\n",
    "Note that in Python 3, base class and type parameters in `super()` are optional. `super(ThreeDimensionSquare, self).__init__(**kwargs)` achieves the same effect as `super().__init__(**kwargs)` in the `ThreeDimensionSquare` class."
   ]
  },
  {
   "cell_type": "code",
   "execution_count": null,
   "metadata": {
    "collapsed": false
   },
   "outputs": [],
   "source": [
    "class ThreeDimensionSquare(ThreeDimension, Square):\n",
    "    \"\"\"A 3D square or a cube.\"\"\"\n",
    "\n",
    "    def __init__(self, **kwargs):\n",
    "        \"\"\"Because it can be a cube, we can accept either depth or use side.\"\"\"\n",
    "        self.z = kwargs.get('depth') or kwargs.get('side', 1)\n",
    "        super().__init__(**kwargs)  # this\n",
    "\n",
    "cube = ThreeDimensionSquare(side=2)\n",
    "cube.volume()"
   ]
  },
  {
   "cell_type": "markdown",
   "metadata": {},
   "source": [
    "The `super()` function is not restricted to your current object. You can use super on any of your object's derived classes and on their methods, just like in our original `ThreeDimentionSquare` class.\n",
    "\n",
    "In the next example, note how we are using super, passing `Square` as the argument. `BrokenShape.__init__()` is executed the execution is passed to next class in the hierarchy, which is `BrokenShape`."
   ]
  },
  {
   "cell_type": "code",
   "execution_count": null,
   "metadata": {
    "collapsed": false
   },
   "outputs": [],
   "source": [
    "class BrokenShape(object):\n",
    "    \n",
    "    def __init__(self, **kwargs):\n",
    "        print('I broke it.')\n",
    "\n",
    "class BrokenThreeDimensionSquare(ThreeDimensionSquare, BrokenShape):\n",
    "\n",
    "    def __init__(self, **kwargs):\n",
    "        super(Square, self).__init__(**kwargs)\n",
    "\n",
    "\n",
    "xcube = BrokenThreeDimensionSquare(side=2)\n",
    "xcube.volume()"
   ]
  },
  {
   "cell_type": "code",
   "execution_count": null,
   "metadata": {
    "collapsed": false
   },
   "outputs": [],
   "source": [
    "help(xcube)"
   ]
  },
  {
   "cell_type": "markdown",
   "metadata": {},
   "source": [
    "All our derived classes override `__init__()`. The method resolution order dictates that the `__init__()` that will execute is the one on the left most. But we made it so that the `__init__()` on the right most class is executed using `super()` ang passing a class that is further down the order. The `Shape` class doesn't override `__init__()` so the next class, `BrokenShape` is searched. It finds `__init__()` there and executes it.\n",
    "\n",
    "```\n",
    "class BrokenThreeDimensionSquare(ThreeDimensionSquare, BrokenShape)\n",
    " |  A 3D square or a cube.\n",
    " |  \n",
    " |  Method resolution order:\n",
    " |      BrokenThreeDimensionSquare\n",
    " |      ThreeDimensionSquare\n",
    " |      ThreeDimension\n",
    " |      Square\n",
    " |      Shape\n",
    " |      BrokenShape\n",
    " |      builtins.object\n",
    "```\n",
    "\n",
    "\n",
    "## 4.4 Static methods, Class methods, and Properties\n",
    "\n",
    "### [Static methods](https://docs.python.org/3.5/library/functions.html#staticmethod)\n",
    "\n",
    "> A static method does not receive an implicit first argument (like `self`). It can be called either on the class (such as Class.method()) or on an instance (such as C().f()). The instance is ignored except for its class.\n",
    "\n",
    "You can think of static methods as functions, except they are attached to classes. These classes can either be instatiated or uninstantiated."
   ]
  },
  {
   "cell_type": "code",
   "execution_count": null,
   "metadata": {
    "collapsed": false
   },
   "outputs": [],
   "source": [
    "class Square(Shape):\n",
    "    \"\"\"Square implementation of Shape.\"\"\"\n",
    "    \n",
    "    def __init__(self, **kwargs):\n",
    "        self.x = kwargs.get('side', 1)\n",
    "        self.y = self.x\n",
    "    \n",
    "    def __str__(self):\n",
    "        return \"{0} ({1}x{1})\".format(self.__class__.__name__, self.x)\n",
    "\n",
    "    @staticmethod\n",
    "    def help(*args, **kwargs):\n",
    "        print(\"Help for Square class: Accepts side and int value as keyword argument.\")\n",
    "        return args, kwargs\n",
    "\n",
    "    @classmethod\n",
    "    def side(cls, side):\n",
    "        return cls(side=side)\n",
    "\n",
    "    @classmethod\n",
    "    def side(cls, side):\n",
    "        return cls(side=side)\n",
    "\n",
    "    @property\n",
    "    def X(self):\n",
    "        \"\"\"Public X.\"\"\"\n",
    "        return self.x\n",
    "\n",
    "#    @X.setter\n",
    "#    def X(self, value):\n",
    "#        self.x = value\n",
    "\n",
    "    @X.deleter\n",
    "    def X(self):\n",
    "        del self.x\n",
    "\n",
    "Square.help()"
   ]
  },
  {
   "cell_type": "markdown",
   "metadata": {},
   "source": [
    "### [Class methods](https://docs.python.org/3.5/library/functions.html#classmethod)\n",
    "\n",
    "> A class method receives the class as implicit first argument, just like an instance method receives the instance. It can be called either on the class (such as Class.method()) or on an instance (such as C().f()). The instance is ignored except for its class. If a class method is called for a derived class, the derived class object is passed as the implied first argument.\n",
    "\n",
    "Our `Square` class defines a `side()` method that accepts a `cls` (for class, but we can't use a keyword) argument and is decorated with `@classmethod`. It retuns an instance of the current class, passing the argument to it with the keyword `side`. Our class `ThreeDimensionSquare` inherits this from `Square`. Let's see how it looks like when used:"
   ]
  },
  {
   "cell_type": "code",
   "execution_count": null,
   "metadata": {
    "collapsed": false
   },
   "outputs": [],
   "source": [
    "s = Square.side(3)\n",
    "t = ThreeDimensionSquare.side(2)\n",
    "print(s, t)\n",
    "s = s.side(2)\n",
    "print(s)"
   ]
  },
  {
   "cell_type": "markdown",
   "metadata": {},
   "source": [
    "### [Properties](https://docs.python.org/3.5/library/functions.html#property)\n",
    "\n",
    "Read-only properties can be created with te `@property` decorator. This decorator is used on methods. To access the property, the method is not called. Note that the values used within these methods can still be accessed normally.\n",
    "\n",
    "Properties can also have setters and deleters making them editable like other attributes. Uncomment the setter to enable editing the property."
   ]
  },
  {
   "cell_type": "code",
   "execution_count": null,
   "metadata": {
    "collapsed": false
   },
   "outputs": [],
   "source": [
    "s = Square.side(3)\n",
    "print(s.X)\n",
    "s.X = 4  # this will raise an error if the setter is commented\n",
    "s.area()"
   ]
  },
  {
   "cell_type": "markdown",
   "metadata": {},
   "source": [
    "To create setters and deleters, use the property name as decorator, followed by `.setter` or `.deleter`. These should be defined after the `@property` or else you'll encounter a `NameError`. For the `.setter` decorator, the method should accept a value."
   ]
  },
  {
   "cell_type": "code",
   "execution_count": null,
   "metadata": {
    "collapsed": true
   },
   "outputs": [],
   "source": [
    "# Try it out!\n",
    "\n",
    "\n",
    "\n",
    "\n",
    "\n",
    "\n"
   ]
  }
 ],
 "metadata": {
  "kernelspec": {
   "display_name": "Python 3",
   "language": "python",
   "name": "python3"
  },
  "language_info": {
   "codemirror_mode": {
    "name": "ipython",
    "version": 3
   },
   "file_extension": ".py",
   "mimetype": "text/x-python",
   "name": "python",
   "nbconvert_exporter": "python",
   "pygments_lexer": "ipython3",
   "version": "3.5.1"
  }
 },
 "nbformat": 4,
 "nbformat_minor": 0
}
