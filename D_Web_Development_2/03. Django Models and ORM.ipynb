{
 "cells": [
  {
   "cell_type": "markdown",
   "metadata": {},
   "source": [
    "# [Django Models](https://docs.djangoproject.com/en/dev/topics/db/models/)\n",
    "\n",
    "## Creating New Models\n",
    "\n",
    "After creating a new app, you'll probably start defining that app's models. Apps need to be registered to __`settings.INSTALLED_APPS`__ so the project is aware of it, making the __`makemigrations`__ and __`migrate`__ commands work.\n",
    "\n",
    "Django models are Python classes that inherit from `django.db.models.Model`. Attributes of this class represent database rows. Many kinds of fields are available to represent different data types and relationships.\n",
    "\n",
    "Using the management commands, create a new project called \"google\" and an app for \"account\". If you executed the commands in the previous notebook, you'd already have the \"google\" project with \"search\" and \"accounts\" apps.\n",
    "\n",
    "All the code below will only work from within Django. Add the model below to the `models.py` of your \"account\" app. "
   ]
  },
  {
   "cell_type": "code",
   "execution_count": null,
   "metadata": {
    "collapsed": false
   },
   "outputs": [],
   "source": [
    "# In account/models.py\n",
    "from django.db import models\n",
    "\n",
    "\n",
    "class Profile(models.Model):\n",
    "    name = models.CharField(max_length=42)"
   ]
  },
  {
   "cell_type": "markdown",
   "metadata": {},
   "source": [
    "If you haven't added your app to __`INSTALLED_APPS`__ in __`settings.py`__, no changes will be detected."
   ]
  },
  {
   "cell_type": "code",
   "execution_count": null,
   "metadata": {
    "collapsed": false
   },
   "outputs": [],
   "source": [
    "# In your settings.py\n",
    "INSTALLED_APPS = [\n",
    "    # ...\n",
    "    'accounts',\n",
    "    # ...\n",
    "]"
   ]
  },
  {
   "cell_type": "markdown",
   "metadata": {},
   "source": [
    "One the server restarts, it can detect the changes in our model. You can now run the __`python manage.py makemigrations`__ command. If it succeeds, the created migration scripts will be shown. Now you can use the __`python manage.py migrate`__ command to run the migrations. Whenever we update a model, use the same process of making migrations to create migration scripts and migrate to apply them to the database.\n",
    "\n",
    "## Modifying Existing Models\n",
    "\n",
    "After the model has been applied to the database, we can still change our mind. It happens. I decided to add new attributes to the data. Add the two new fields below."
   ]
  },
  {
   "cell_type": "code",
   "execution_count": null,
   "metadata": {
    "collapsed": false
   },
   "outputs": [],
   "source": [
    "# In account/models.py\n",
    "from django.db import models\n",
    "\n",
    "\n",
    "class Profile(models.Model):\n",
    "    name = models.CharField(max_length=42)\n",
    "    photo = models.ImageField()\n",
    "    created = models.DateField()"
   ]
  },
  {
   "cell_type": "markdown",
   "metadata": {},
   "source": [
    "Time to make migrations and then migrate them again.\n",
    "\n",
    "Oh no, another error!\n",
    "\n",
    "```\n",
    "You are trying to add a non-nullable field 'photo' to profile without a default; we can't do that (the database needs something to populate existing rows).\n",
    "Please select a fix:\n",
    " 1) Provide a one-off default now (will be set on all existing rows)\n",
    " 2) Quit, and let me add a default in models.py\n",
    "Select an option:\n",
    "```\n",
    "\n",
    "The problem is exactly what the error says. We are adding new columns to our database and our existing rows will have those new columns. The database needs to populate it for existing entries but it doesn't know what to put. We need to provide values.\n",
    "\n",
    "## [Field Options](https://docs.djangoproject.com/en/dev/ref/models/fields/#field-options)\n",
    "\n",
    "When adding new fields to an existing model, either a default is required or it must be nullable. This is because existing rows will have new columns added but have no value. Let's null a field and add a default. Check the [documentation](https://docs.djangoproject.com/en/dev/ref/models/fields/) for details on [null](https://docs.djangoproject.com/en/dev/ref/models/fields/#null) and [blank](https://docs.djangoproject.com/en/dev/ref/models/fields/#blank) (they usually go together), and [default](https://docs.djangoproject.com/en/dev/ref/models/fields/#default)."
   ]
  },
  {
   "cell_type": "code",
   "execution_count": null,
   "metadata": {
    "collapsed": false
   },
   "outputs": [],
   "source": [
    "# In account/models.py\n",
    "from datetime import datetime\n",
    "from django.db import models\n",
    "\n",
    "\n",
    "class Profile(models.Model):\n",
    "    name = models.CharField(max_length=42)\n",
    "    photo = models.ImageField(null=True, blank=True)\n",
    "    created = models.DateField(default=datetime.now)"
   ]
  },
  {
   "cell_type": "markdown",
   "metadata": {},
   "source": [
    "There are many more arguments available for fields but most of them are optional. Certain fields require certain field options but these are only a few. We won't get into the details in our basic covereage. The [documentation](https://docs.djangoproject.com/en/dev/ref/models/fields/) provides the more details about each one.\n",
    "\n",
    "## [Field Types](https://docs.djangoproject.com/en/dev/ref/models/fields/#field-types)\n",
    "\n",
    "We demonstrated a few fields in our model. the [`CharField`](https://docs.djangoproject.com/en/dev/ref/models/fields/#charfield), [`Imagefield`](https://docs.djangoproject.com/en/dev/ref/models/fields/#imagefield), and [`DateField`](https://docs.djangoproject.com/en/dev/ref/models/fields/#datefield). There are many more fields available for different data types.\n",
    "\n",
    "Django's default behavior is to give each model an auto-incrementing `id` field. This is an example of [`AutoField`](https://docs.djangoproject.com/en/dev/ref/models/fields/#autofield).\n",
    "\n",
    "Checkboxes are examples of [`BooleanField`](https://docs.djangoproject.com/en/dev/ref/models/fields/#booleanfield).\n",
    "\n",
    "At first, it may take a little research to find the right field type for your data. But you'll easily get familiar with the common ones as you use them. If there's a specific data type that's not covered by built-in fields, or you want a custom implementation, there are always third-party packages or you can create your own custom field. The [documentation](https://docs.djangoproject.com/en/dev/ref/models/fields/) provides the more details about each one.\n",
    "\n",
    "## [Admin](https://docs.djangoproject.com/en/dev/ref/contrib/admin/)\n",
    "\n",
    "We now have a working model with some basic profile information. Let's register it to the [admin](https://docs.djangoproject.com/en/dev/ref/contrib/admin/) and see how it looks. We get feedback about our model much faster this way."
   ]
  },
  {
   "cell_type": "code",
   "execution_count": null,
   "metadata": {
    "collapsed": false
   },
   "outputs": [],
   "source": [
    "# In account/admin.py\n",
    "from django.contrib import admin\n",
    "\n",
    "from account.models import Profile\n",
    "\n",
    "admin.site.register(Profile)"
   ]
  },
  {
   "cell_type": "markdown",
   "metadata": {},
   "source": [
    "If you haven't registered a superuser yet, we need one now so you can login to __`admin/`__. We just plainly registered our model to the admin. It can in fact be customized in many ways. You'll see how to do that in the documentation and other tutorials. Just registering the model allows us to interact with it already, without making any views or controllers. This speeds up feedback and we can fix things faster. \n",
    "\n",
    "## [Using Models](https://docs.djangoproject.com/en/dev/ref/models/)\n",
    "\n",
    "### [QuerySet](https://docs.djangoproject.com/en/dev/ref/models/querysets/#django.db.models.query.QuerySet.order_by)\n",
    "\n",
    "Open a terminal window and run the __`python manage.py shell`__ command. We need to do use the command so Django can setup its environment. We'll use our model from the shell just so we can see what the code is like and see the results right away. Code that works here can be easily rewritten in `views.py`.\n",
    "\n",
    "Let's import our class and retrieve data from the database."
   ]
  },
  {
   "cell_type": "code",
   "execution_count": null,
   "metadata": {
    "collapsed": false
   },
   "outputs": [],
   "source": [
    "# In the shell (python manage.py shell)\n",
    "from account.models import Profile\n",
    "\n",
    "Profile.objects.all()  # will get an error if from Jupyter"
   ]
  },
  {
   "cell_type": "markdown",
   "metadata": {},
   "source": [
    "This returns a `QuerySet` containing all instances of our class in our database table. The `objects` attribute of our class allows us to access an model manager. It has methods for retrieving the class instances in various ways.\n",
    "\n",
    "### Creating and Editing\n",
    "\n",
    "We haven't created any objects yet so this returns an empty `QuerySet`. Let's create an intance, then save it to the database. You can use the `admin/` to do this. You can also do it in your code."
   ]
  },
  {
   "cell_type": "code",
   "execution_count": null,
   "metadata": {
    "collapsed": true
   },
   "outputs": [],
   "source": [
    "# In the shell (python manage.py shell)\n",
    "profile = Profile(name=\"Guido Van Rossum\")\n",
    "profile.save()"
   ]
  },
  {
   "cell_type": "markdown",
   "metadata": {},
   "source": [
    "You need to supply the minimum required fields for it to work. In our case, `Profile` instances only need a name because the `photo` and `created` fields can be `null/blank` or have a `default`, respectively.\n",
    "\n",
    "Let's try to retrieve objects again and see what happens."
   ]
  },
  {
   "cell_type": "code",
   "execution_count": null,
   "metadata": {
    "collapsed": true
   },
   "outputs": [],
   "source": [
    "# In the shell (python manage.py shell)\n",
    "Profile.objects.all()"
   ]
  },
  {
   "cell_type": "markdown",
   "metadata": {},
   "source": [
    "Now we know how to create and save objects into the database, let's edit and update the information.\n",
    "\n",
    "We still have our `profile` object (name=\"Guido Van Rossum\"). I remember he's Dutch and the Dutch \"Van\" preposition is not capitalized. Let's fix that."
   ]
  },
  {
   "cell_type": "code",
   "execution_count": null,
   "metadata": {
    "collapsed": true
   },
   "outputs": [],
   "source": [
    "# In the shell (python manage.py shell)\n",
    "profile.name = \"Guido van Rossum\"  # the Dutch van is not capitalized\n",
    "profile.save()\n",
    "Profile.objects.all()"
   ]
  },
  {
   "cell_type": "markdown",
   "metadata": {},
   "source": [
    "That updates our info in the database. Django knows if it's the same instance. If you change any of its attributes and call `.save()` on it, the database is updated.\n",
    "\n",
    "### String Representation of Objects\n",
    "\n",
    "`[<Profile: Profile object>]` wasn't very helpful. We know what class it belongs to but `Profile object` isn't very descriptive. Let's change that by adding a **`__str__`** (`__unicode__` for Python 2.x) method to our object."
   ]
  },
  {
   "cell_type": "code",
   "execution_count": null,
   "metadata": {
    "collapsed": true
   },
   "outputs": [],
   "source": [
    "# In account/models.py\n",
    "from django.db import models\n",
    "# wala yung datetime\n",
    "\n",
    "\n",
    "class Profile(models.Model):\n",
    "    name = models.CharField(max_length=42)\n",
    "    photo = models.ImageField(null=True, blank=True)\n",
    "    created = models.DateField(default=datetime.now)\n",
    "\n",
    "    def __str__(self):\n",
    "        return self.name"
   ]
  },
  {
   "cell_type": "markdown",
   "metadata": {},
   "source": [
    "The local server should detect changes and restart. Now let's try that again."
   ]
  },
  {
   "cell_type": "code",
   "execution_count": null,
   "metadata": {
    "collapsed": true
   },
   "outputs": [],
   "source": [
    "# In the shell (python manage.py shell)\n",
    "Profile.objects.all()"
   ]
  },
  {
   "cell_type": "markdown",
   "metadata": {},
   "source": [
    "Now that's better. `[<Profile: Guido van Rossum>]` tells us which instance from what class. Overriding `__str__` makes a big difference on readability.\n",
    "\n",
    "### Primary Keys\n",
    "\n",
    "Let's get an object from our `QuerySet`. This time We'll do it by slicing the result."
   ]
  },
  {
   "cell_type": "code",
   "execution_count": null,
   "metadata": {
    "collapsed": true
   },
   "outputs": [],
   "source": [
    "# In the shell (python manage.py shell)\n",
    "profile = Profile.objects.all()[0]\n",
    "profile.pk"
   ]
  },
  {
   "cell_type": "markdown",
   "metadata": {},
   "source": [
    "Django provides a `pk` or “primary key” shortcut. By default, it refers to `id`."
   ]
  },
  {
   "cell_type": "code",
   "execution_count": null,
   "metadata": {
    "collapsed": true
   },
   "outputs": [],
   "source": [
    "# In the shell (python manage.py shell)\n",
    "profile.pk is profile.id"
   ]
  },
  {
   "cell_type": "markdown",
   "metadata": {},
   "source": [
    "Django gives each model an auto-incrementing `id` field. This behavior can be overridden by specifying exactly one field with the field option [`primary_key=True`](https://docs.djangoproject.com/en/dev/ref/models/fields/#django.db.models.Field.primary_key).\n",
    "\n",
    "### Filtering and Excluding\n",
    "\n",
    "Usually we want just a small part of the data so we don't want to slow shings down by querying all the data then filtering it again. We used `.all()` to retrieve all our data. Now we'll use the __`.filter()`__ and __`.exclude()`__ methods to retrieve a limited set."
   ]
  },
  {
   "cell_type": "code",
   "execution_count": null,
   "metadata": {
    "collapsed": true
   },
   "outputs": [],
   "source": [
    "# In the shell (python manage.py shell)\n",
    "person = Person.objects.filter(id=1)\n",
    "\n",
    "\n"
   ]
  },
  {
   "cell_type": "markdown",
   "metadata": {},
   "source": [
    "#### ^ Has name error: NameError: name 'Person' is not defined"
   ]
  },
  {
   "cell_type": "markdown",
   "metadata": {},
   "source": [
    "#### Field Lookups\n",
    "\n",
    "Database queries can accept keyword arguments like our first example. It can also accept [field lookups](https://docs.djangoproject.com/en/dev/ref/models/querysets/#field-lookups) equivalent to the SQL `WHERE` clause."
   ]
  },
  {
   "cell_type": "code",
   "execution_count": null,
   "metadata": {
    "collapsed": true
   },
   "outputs": [],
   "source": [
    "# In the shell (python manage.py shell)\n",
    "from datetime import datetime\n",
    "\n",
    "this_year = datetime.now().year\n",
    "created_this_year = Person.objects.filter(created__year=this_year)\n",
    "not_created_this_year = Person.objects.exclude(created__year=this_year)  # we don't have any"
   ]
  },
  {
   "cell_type": "markdown",
   "metadata": {},
   "source": [
    "Better check the documentation so you know what [field lookups](https://docs.djangoproject.com/en/dev/ref/models/querysets/#field-lookups) you can do. There are a lot of possibilities and you can only get more familiar with it through practice.\n",
    "\n",
    "### Getting Specific Objects\n",
    "\n",
    "Most of the time, we'll only need one. Let's do that and retrieve just one row from the database."
   ]
  },
  {
   "cell_type": "code",
   "execution_count": null,
   "metadata": {
    "collapsed": true
   },
   "outputs": [],
   "source": [
    "# In the shell (python manage.py shell)\n",
    "person = Person.objects.get(id=1)"
   ]
  },
  {
   "cell_type": "markdown",
   "metadata": {},
   "source": [
    "The __`.get()`__ method does __not__ return a `QuerySet`, it only returns an instance.\n",
    "\n",
    "The `id` field is automatically added by Django if we didn't set `primary_key` in a field because each model is required to have exactly one primary key."
   ]
  },
  {
   "cell_type": "code",
   "execution_count": null,
   "metadata": {
    "collapsed": true
   },
   "outputs": [],
   "source": [
    "# In the shell (python manage.py shell)\n",
    "person = Person.objects.get(id__in=[1, 2])"
   ]
  },
  {
   "cell_type": "markdown",
   "metadata": {},
   "source": [
    "If objects with `id`s of 1 and 2 exist, this will return an error because if `.get()` returns more than one result, it instead returns an error. Field lookups also work in `.get()` calls.\n",
    "\n",
    "### Deleting\n",
    "\n",
    "Let's delete a record."
   ]
  },
  {
   "cell_type": "code",
   "execution_count": null,
   "metadata": {
    "collapsed": true
   },
   "outputs": [],
   "source": [
    "# In the shell (python manage.py shell)\n",
    "person = Person.objects.get(id=1)\n",
    "person.delete()"
   ]
  },
  {
   "cell_type": "markdown",
   "metadata": {},
   "source": [
    "That's it! There's __`.save()`__, there's also __`.delete()`__.\n",
    "\n",
    "### [Relationships](https://docs.djangoproject.com/en/dev/ref/models/fields/#module-django.db.models.fields.related)\n",
    "\n",
    "Our coverage of models will be incomplete without discussing relationships. Django has several fields that represent them. Let's look at the various relationships that can be created.\n",
    "\n",
    "#### ForeignKey\n",
    "\n",
    "This field represents a many-to-one relationship. Relationships can be created by passing the model name as the argument to a relationship field like ForeignKey. The name can be the model class name itself, or the class name as a string. Strings will work for models that haven't been defined yet. For an object to create a recursive relationship with itself, the string 'self' is used.\n",
    "\n",
    "Let's imagine that in our app, our users can be friends with each other so one will have relationship with many other profiles. Let's do that."
   ]
  },
  {
   "cell_type": "code",
   "execution_count": null,
   "metadata": {
    "collapsed": true
   },
   "outputs": [],
   "source": [
    "# In account/models.py\n",
    "from django.db import models\n",
    "\n",
    "\n",
    "class Profile(models.Model):\n",
    "    name = models.CharField(max_length=42)\n",
    "    photo = models.ImageField()\n",
    "    created = models.DateField()\n",
    "    friends = models.ForeignKey('self', on_delete=models.SET_NULL)"
   ]
  },
  {
   "cell_type": "markdown",
   "metadata": {},
   "source": [
    "The [`on_delete`](https://docs.djangoproject.com/en/dev/ref/models/fields/#django.db.models.ForeignKey.on_delete) argument tells Django what to do when the referenced object is deleted. Check the [documentation](https://docs.djangoproject.com/en/dev/ref/models/fields/#django.db.models.ForeignKey.on_delete) for details.\n",
    "\n",
    "#### OneToOneField\n",
    "\n",
    "We'll create a one-to-one relationship between our Profile model and the Django `User` model. We can import Django's built-in `User` model and create a one-to-one relationship with it. This is conceptually similar to `ForeignKey` with `unique=True`."
   ]
  },
  {
   "cell_type": "code",
   "execution_count": null,
   "metadata": {
    "collapsed": true
   },
   "outputs": [],
   "source": [
    "# In account/models.py\n",
    "from django.contrib.auth.models import User\n",
    "from django.db import models\n",
    "\n",
    "\n",
    "class Profile(models.Model):\n",
    "    name = models.CharField(max_length=42)\n",
    "    photo = models.ImageField()\n",
    "    created = models.DateField()\n",
    "    user = models.OneToOneField(User)"
   ]
  },
  {
   "cell_type": "markdown",
   "metadata": {},
   "source": [
    "#### Accessing Related Models\n",
    "\n",
    "Each `Profile` instance will have an exclusive relationship with a `User`. The `User` model can be accessed from `Profile`."
   ]
  },
  {
   "cell_type": "code",
   "execution_count": null,
   "metadata": {
    "collapsed": true
   },
   "outputs": [],
   "source": [
    "# In the shell (python manage.py shell)\n",
    "profile = Profile.objects.get(id=1)\n",
    "\n",
    "user = profile.user\n",
    "user.id"
   ]
  },
  {
   "cell_type": "markdown",
   "metadata": {},
   "source": [
    "The reverse is also possible. A related `Profile` can be accessed from `User` using its `related_name`. The default `related_name` is the name of the class (in lower case), but it can be changed. Field lookups can also be used on related models."
   ]
  },
  {
   "cell_type": "code",
   "execution_count": null,
   "metadata": {
    "collapsed": true
   },
   "outputs": [],
   "source": [
    "# In the shell (python manage.py shell)\n",
    "user = User.objects.get(profile__id=1)\n",
    "\n",
    "profile.user == user\n",
    "user.profile == profile"
   ]
  },
  {
   "cell_type": "markdown",
   "metadata": {},
   "source": [
    "Here we add a `related_name` to the `models.OneToOneField()` and access the related model using it."
   ]
  },
  {
   "cell_type": "code",
   "execution_count": null,
   "metadata": {
    "collapsed": true
   },
   "outputs": [],
   "source": [
    "# In account/models.py\n",
    "# model with OneToOneField updated with related_name\n",
    "from django.contrib.auth.models import User\n",
    "from django.db import models\n",
    "\n",
    "\n",
    "class Profile(models.Model):\n",
    "    name = models.CharField(max_length=42)\n",
    "    photo = models.ImageField()\n",
    "    created = models.DateField()\n",
    "    user = models.OneToOneField(User, related_name='details')"
   ]
  },
  {
   "cell_type": "markdown",
   "metadata": {},
   "source": [
    "Here we retrieve a `Profile` object that matches our `User` by passing an instance."
   ]
  },
  {
   "cell_type": "code",
   "execution_count": null,
   "metadata": {
    "collapsed": true
   },
   "outputs": [],
   "source": [
    "# In the shell (python manage.py shell)\n",
    "from account.models import Profile\n",
    "\n",
    "profile = Profile.objects.get(user=user)\n",
    "\n",
    "profile.user == user\n",
    "user.details == profile"
   ]
  },
  {
   "cell_type": "markdown",
   "metadata": {},
   "source": [
    "#### Django User Model\n",
    "\n",
    "Referring directly to the `User` model won't work in projects or apps that use a custom `User` model. Another way to refer to the `User` is by using the `AUTH_USER_MODEL` setting. This way, when a custom `User` is used, your related model will still refer to the right model. This is the recommended way to add information about your users and create a relationship with the `User` model."
   ]
  },
  {
   "cell_type": "code",
   "execution_count": null,
   "metadata": {
    "collapsed": true
   },
   "outputs": [],
   "source": [
    "# In account/models.py\n",
    "from django.conf import settings\n",
    "from django.db import models\n",
    "\n",
    "class Profile(models.Model):\n",
    "    name = models.CharField(max_length=42)\n",
    "    photo = models.ImageField(null=True, blank=True)\n",
    "    created = models.DateField(default=datetime.now)\n",
    "    user = models.OneToOneField(settings.AUTH_USER_MODEL)"
   ]
  },
  {
   "cell_type": "markdown",
   "metadata": {},
   "source": [
    "Another way to retrieve the `User` model is by using `django.contrib.auth.get_user_model()`. However, it can't guarantee that the models are already loaded. For models, `settings.AUTH_USER_MODEL` is recommended while `get_user_model()` may be used within controllers.\n",
    "\n",
    "#### ManyToManyField\n",
    "\n",
    "This time we'll create a model having a many-to-many relationship. In our service, search terms sent to our API are recorded. These search terms can be entered by different users so our `Search` model can be related to multiple users while users can also search for as many things as they want. The ManyToManyField is perfect for this."
   ]
  },
  {
   "cell_type": "code",
   "execution_count": null,
   "metadata": {
    "collapsed": true
   },
   "outputs": [],
   "source": [
    "# In account/models.py\n",
    "from django.conf import settings\n",
    "from django.db import models\n",
    "\n",
    "\n",
    "class Search(models.Model):\n",
    "    terms = models.CharField(max_length=80)\n",
    "    user = models.ManyToManyField(settings.AUTH_USER_MODEL)"
   ]
  },
  {
   "cell_type": "markdown",
   "metadata": {},
   "source": [
    "That was a lot of information about models. It takes some time to get used to it practice by repeating the process until you can say you're familiar with the steps. These are the basic things that will become second nature to you when using Django."
   ]
  }
 ],
 "metadata": {
  "kernelspec": {
   "display_name": "Python 3",
   "language": "python",
   "name": "python3"
  },
  "language_info": {
   "codemirror_mode": {
    "name": "ipython",
    "version": 3
   },
   "file_extension": ".py",
   "mimetype": "text/x-python",
   "name": "python",
   "nbconvert_exporter": "python",
   "pygments_lexer": "ipython3",
   "version": "3.5.1"
  }
 },
 "nbformat": 4,
 "nbformat_minor": 0
}
