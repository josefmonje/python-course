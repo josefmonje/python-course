{
 "cells": [
  {
   "cell_type": "markdown",
   "metadata": {},
   "source": [
    "# Introduction to Django\n",
    "\n",
    "The web framework for perfectionists with deadlines.\n",
    "\n",
    "This set of notebooks assumes that you already have a good knowledge of Python. Basic knowledge of using Flask or any other Python web development framework is also recommended.\n",
    "\n",
    "[Django](https://www.djangoproject.com/) is a high level framework that wants to make web development faster by including many extras. Code that you would otherwise need to repeatedly write in most projects are already built as part of the framework. This is why you'd often read that it has \"batteries included\". For many other things, there are Django packages available to easily plug into your application. With the way django apps are structured, it encourages reusability. These are just some of the things that help make developing with Django fast.\n",
    "\n",
    "The learning curve will be steep so a good knowledge of Python before learning Django would be appropriate. Knowledge of Flask or any other framework is recommended for familiarity with basic web development. We'll try to cover everything in between but there's a lot more to learn so getting the basics out of the way would let us learn about Django itself faster. This set of notebooks focuses on the basics, the bare minimum so you could get an understanding and start using Django. The \"extras\" and Django packages won't be covered here yet.\n",
    "\n",
    "This introduction takes a top-down approach, explaining the \"big idea\" before writing any code. Other tutorials are available if you like learning by coding first. We recommend the [Django girls tutorial](http://tutorial.djangogirls.org/en/index.html) because it doesn't assume anything and takes good care to explain every step. You can skip parts if you feel like it.\n",
    "\n",
    "## Django Project Structure\n",
    "\n",
    "It will be useful to learn about terms used in Django to help us have a common way to talk about things. When developing with Django, the collection of all the packages you'll be writing is called a __`project`__. A project is divided into many parts called __`apps`__ which does something specific relative to your app. Let's say you're developing a concept for an online service called \"Google\". You'll have a folder called __`google/`__ and your __`apps`__ inside in it. You'll have an app for handling account related concerns like logging in/out, signing up, etc. in a folder called __`account/`__. There's also a __`search/`__ folder handling part of the service dedicated to searches. There's also a __`maps/`__ folder, and so on. This is how a Django project is structured - a __`project`__ is divided into __`apps`__.\n",
    "\n",
    "* Project\n",
    "* App\n",
    "\n",
    "### MVC\n",
    "\n",
    "Each Django app follows the Model-View-Controller (MVC) architectural pattern. In your __`account/`__ folder, there's a __`models.py`__ file where all the classes related to accounts are defined. There's a __`views.py`__ file, which is actually the controller where all your business logic related to accounts reside. The template is your view. This is the __`*.html`__ file, which is normal HTML plus Django template tags. There's also a __`urls.py`__ file that lets you map out your controllers to URL addresses. Django has a built-in admin functionality that lets you quickly test your models without having to build views and controllers. All you have to do is register your models to the admin using the __`admin.py`__ file.\n",
    "\n",
    "The files or folders are not restricted to this list. In fact, you can create any file or folder but be aware that there are some conventions. Some files or folders may also be created when certain commands are executed like when creating model migrations, a __`migrations/`__ folder is created containing migration scripts. Django apps will have most of these elements.\n",
    "\n",
    "\n",
    "### Templates\n",
    "\n",
    "Django looks for templates in several ways. One of Django's behaviors is to look for them in a __`templates/`__ folder within each app. This behavior can be turned off by setting `'APP_DIRS': False` in the `TEMPLATES` list in the `settings.py` file. Another way is by specifying a list of paths in the `DIRS` key and Django will include those in its search.\n",
    "\n",
    "```\n",
    "TEMPLATES = [\n",
    "    {\n",
    "        'DIRS': [os.path.join(BASE_DIR, 'templates')],\n",
    "        'APP_DIRS': True,\n",
    "    },\n",
    "]\n",
    "```\n",
    "\n",
    "There is another folder with the name of your project with a different set of files. Specifically, it has __`settings.py`__, __`urls.py`__ and __`wsgi.py`__. We'll talk about the details of the project package folder later but these are most of what you can expect in an app folder:\n",
    "\n",
    "* models.py\n",
    "* views.py\n",
    "* urls.py\n",
    "* admin.py\n",
    "* templates/\n",
    "* migrations/\n",
    "* etc.\n",
    "\n",
    "### Folder and file structure\n",
    "\n",
    "```\n",
    "google/\n",
    "  ├── manage.py\n",
    "  ├── requirements.txt\n",
    "  ├── account/\n",
    "  │   ├── __init__.py\n",
    "  │   ├── admin.py\n",
    "  │   ├── models.py\n",
    "  │   ├── views.py\n",
    "  │   ├── urls.py\n",
    "  ├── google/  # project package folder\n",
    "  │   ├── __init__.py\n",
    "  │   ├── settings.py\n",
    "  │   ├── urls.py\n",
    "  │   ├── wsgi.py\n",
    "  ├── search/\n",
    "  │   ├── templates/\n",
    "  │   ├── migrations/\n",
    "  │   ├── __init__.py\n",
    "  │   ├── admin.py\n",
    "  │   ├── models.py\n",
    "  │   ├── views.py\n",
    "  │   ├── urls.py\n",
    "  ├── static/\n",
    "  └── templates/\n",
    "      └── template.html\n",
    "      ...\n",
    "```\n",
    "\n",
    "## Management Commands\n",
    "\n",
    "Manually following all of this is tedious and error-prone. The good thing is that Django has management commands to help us with this repetitive task. It will be good to first learn some of the more commonly used management commands.\n",
    "\n",
    "When Django is installed, it also installs a script that can be run from anywhere. This is the `django-admin` script that lets you run Django management commands.\n",
    "\n",
    "### Install Django\n",
    "\n",
    "First, let's install Django."
   ]
  },
  {
   "cell_type": "code",
   "execution_count": null,
   "metadata": {
    "collapsed": true
   },
   "outputs": [],
   "source": [
    "!pip install django"
   ]
  },
  {
   "cell_type": "markdown",
   "metadata": {},
   "source": [
    "### New Project\n",
    "\n",
    "To create a new project:"
   ]
  },
  {
   "cell_type": "code",
   "execution_count": null,
   "metadata": {
    "collapsed": false
   },
   "outputs": [],
   "source": [
    "!django-admin startproject google ."
   ]
  },
  {
   "cell_type": "markdown",
   "metadata": {},
   "source": [
    "This prepares a __project folder__ with the minimum required files and default settings. The project folder may be the current folder if a `.` was placed after the name of the project like in our example. If not, Django prepares a folder with that name. Inside this folder will be the __project package folder__ with the same name containing the `settings.py`, `wsgi.py` and `urls.py`. We'll learn more about them later but for now, it's good to know we have these files and we know where to find them.\n",
    "\n",
    "After using this command, you'll see a __`manage.py`__ file in the project folder. It's just a wrapper for the __`django-admin`__ script but makes sure that we are referring to this project. After creating a project, use the __`manage.py`__ script of that project instead of `django-admin`.\n",
    "\n",
    "### Run Server\n",
    "\n",
    "To serve a project locally:"
   ]
  },
  {
   "cell_type": "code",
   "execution_count": null,
   "metadata": {
    "collapsed": false
   },
   "outputs": [],
   "source": [
    "!python manage.py runserver"
   ]
  },
  {
   "cell_type": "markdown",
   "metadata": {},
   "source": [
    "Go to your browser and type `localhost:8000`\n",
    "\n",
    "![Web_Dev2](./images/img_it_worked.png)\n",
    "\n",
    "This starts a local server so we can run our project locally. Whenever we want to see the changes we made or to just browse the site, we do this. We can also have a separate tab running this in the shell and it will auto-reload whenever it detects changes in the project. Sometimes, it takes a while for it to detect changes and sometimes it also catches errors that prevent it from reloading.\n",
    "\n",
    "\n",
    "```\n",
    "You have unapplied migrations; your app may not work properly until they are applied.\n",
    "Run 'python manage.py migrate' to apply them.\n",
    "```\n",
    "\n",
    "### Run Migrations\n",
    "\n",
    "To migrate and apply to the database any changes made to models:"
   ]
  },
  {
   "cell_type": "code",
   "execution_count": null,
   "metadata": {
    "collapsed": false
   },
   "outputs": [],
   "source": [
    "!python manage.py migrate"
   ]
  },
  {
   "cell_type": "markdown",
   "metadata": {},
   "source": [
    "This runs migration scripts that translate models into the database tables. Whenever you install a new app from a 3rd party package or something made by you, the app's models haven't been applied to the database yet. The migrations may be needed before the module works properly.\n",
    "\n",
    "### New App\n",
    "\n",
    "To create a new app:"
   ]
  },
  {
   "cell_type": "code",
   "execution_count": null,
   "metadata": {
    "collapsed": true
   },
   "outputs": [],
   "source": [
    "!python manage.py startapp search"
   ]
  },
  {
   "cell_type": "code",
   "execution_count": null,
   "metadata": {
    "collapsed": true
   },
   "outputs": [],
   "source": [
    "!python manage.py startapp account"
   ]
  },
  {
   "cell_type": "markdown",
   "metadata": {},
   "source": [
    "This creates a new app within our current project. It creates the folder and prepares some files that you'll most likely use. New apps must be registered in the __`INSTALLED_APPS`__ list in __`accounts/settings.py`__:\n",
    "\n",
    "```\n",
    "INSTALLED_APPS = [\n",
    "    'django.contrib.admin',\n",
    "    'django.contrib.auth',\n",
    "    'django.contrib.contenttypes',\n",
    "    'django.contrib.sessions',\n",
    "    'django.contrib.messages',\n",
    "    'django.contrib.staticfiles',\n",
    "    'search',\n",
    "    'google',\n",
    "    'account'\n",
    "]\n",
    "```\n",
    "\n",
    "### Create Migrations\n",
    "\n",
    "To create migration scripts:"
   ]
  },
  {
   "cell_type": "code",
   "execution_count": null,
   "metadata": {
    "collapsed": false
   },
   "outputs": [],
   "source": [
    "!python manage.py makemigrations"
   ]
  },
  {
   "cell_type": "markdown",
   "metadata": {},
   "source": [
    "This detects any changes and creates scripts that translate new models or changes to existing models into scripts that the database can understand. Scripts aren't executed, only prepared and placed in a __`migrations/`__ folder. The actual execution of the script is done by the __`migrate`__ command.\n",
    "\n",
    "The scripts are dependent on each other and the order is preserved. It would be best to know exactly what you're doing before tampering with them or use the other related management commands.\n",
    "\n",
    "### Use the Shell\n",
    "\n",
    "Django provides a command that starts a Python interpreter with Django settings already setup. It's convenient for exploring and testing code before or after writing them in your app. It automatically uses [IPython](http://ipython.org/) if you have it installed.\n",
    "\n",
    "### Create Superuser\n",
    "\n",
    "Make a super user account:\n",
    "\n",
    "(This command needs to be ran in the shell. It asks for an input that doesn't work from within Jupyter)"
   ]
  },
  {
   "cell_type": "code",
   "execution_count": null,
   "metadata": {
    "collapsed": false
   },
   "outputs": [],
   "source": [
    "!python manage.py createsuperuser"
   ]
  },
  {
   "cell_type": "markdown",
   "metadata": {},
   "source": [
    "After entering the command above on CLI, you will be asked for the following, one by one:\n",
    "    \n",
    "```\n",
    "Username:\n",
    "Email address:\n",
    "Password:\n",
    "Password (again):\n",
    "```\n",
    "\n",
    "Once you have entered the information and there are no discrepancies, you will see this message:\n",
    "\n",
    "__`Superuser created successfully.`__"
   ]
  },
  {
   "cell_type": "markdown",
   "metadata": {},
   "source": [
    "Django comes built in with an admin functionality for your models. As the developer of the project, you can manage all your models from this admin page. This means that you can see and test your models even before creating views and controllers. You can view and modify users and change permissions from there. After creating models registering them to the admin is the next logical step and the superuser is the key to using it.\n",
    "\n",
    "### Others\n",
    "\n",
    "There are other management commands available. You can even make your own. Right now this is what we'll need and we'll learn others along the way.\n",
    "\n",
    "\n",
    "## Workflow\n",
    "\n",
    "After learning about what to expect from Django and managing Django projects using the commands, the workflow typically looks like the summary below:"
   ]
  },
  {
   "cell_type": "markdown",
   "metadata": {},
   "source": [
    "```\n",
    "# Create a project\n",
    "django-admin startproject project_name  # edit some settings\n",
    "\n",
    "# Apply migrations\n",
    "python manage.py migrate  # some built-in modules have migrations\n",
    "\n",
    "# Create a superuser\n",
    "python manage.py createsuperuser  # gets your input for logging in to admin/\n",
    "\n",
    "# Start the local server\n",
    "python manage.py runserver\n",
    "\n",
    "# Creating new apps\n",
    "python manage.py startapp account  # add app to INSTALLED_APPS, make a model\n",
    "```\n",
    "\n",
    "#### The below commands are not yet discussed on this chapter, but we'll be tackling these commands on the next notebook:\n",
    "```\n",
    "# edit models.py and view in admin/\n",
    "\n",
    "# Whenever an app's model is changed\n",
    "python manage.py makemigrations  # then migrate and view in admin/\n",
    "\n",
    "# edit views.py and urls.py\n",
    "\n",
    "# Run in its own tab whenever you want to test code\n",
    "python manage.py shell\n",
    "```\n",
    "\n",
    "\n",
    "Go ahead and run these commands. They are your friends."
   ]
  }
 ],
 "metadata": {
  "kernelspec": {
   "display_name": "Python 3",
   "language": "python",
   "name": "python3"
  },
  "language_info": {
   "codemirror_mode": {
    "name": "ipython",
    "version": 3
   },
   "file_extension": ".py",
   "mimetype": "text/x-python",
   "name": "python",
   "nbconvert_exporter": "python",
   "pygments_lexer": "ipython3",
   "version": "3.5.1"
  }
 },
 "nbformat": 4,
 "nbformat_minor": 0
}
