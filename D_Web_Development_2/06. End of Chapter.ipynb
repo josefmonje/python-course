{
 "cells": [
  {
   "cell_type": "markdown",
   "metadata": {},
   "source": [
    "## Good Job!\n",
    "You have finished the last part of our Training Notebooks for Python Course. Give yourself a tap on the back because you deserve it!\n",
    "\n",
    "We hope you learned a lot from the notebooks. Please do answer the survey form for the Web Development Level. This survey would definitely help us to further improve our notebooks: https://goo.gl/tWYQlU\n",
    "\n",
    "\n",
    "It was a lot of fun having you. We hope to see you again next time!\n",
    "\n",
    "> ##### \"Work hard for what you want because it won't come to you without a fight.\"  \n",
    "—Leah LaBelle"
   ]
  }
 ],
 "metadata": {
  "kernelspec": {
   "display_name": "Python 3",
   "language": "python",
   "name": "python3"
  },
  "language_info": {
   "codemirror_mode": {
    "name": "ipython",
    "version": 3
   },
   "file_extension": ".py",
   "mimetype": "text/x-python",
   "name": "python",
   "nbconvert_exporter": "python",
   "pygments_lexer": "ipython3",
   "version": "3.5.1"
  }
 },
 "nbformat": 4,
 "nbformat_minor": 0
}
