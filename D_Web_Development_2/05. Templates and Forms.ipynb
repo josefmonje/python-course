{
 "cells": [
  {
   "cell_type": "markdown",
   "metadata": {},
   "source": [
    "# Creating Templates\n",
    "\n",
    "We've used templates in previous notebooks. Templates can be as simple as plain HTML but that wouldn't take advantage of many of Django's features that integrate with the rest of the framework. In this notebook, you'll learn how to show variables in templates, use filters and finally, use template tags. This is the final notebook in the series of beginner notebooks for Django.\n",
    "\n",
    "## [Variables](https://docs.djangoproject.com/en/dev/ref/templates/language/#variables)\n",
    "\n",
    "In Django templates, variables are shown by using double curly braces. We used a template example in the previous notebook named `'template.html'` with a variable.\n",
    "\n",
    "Now let's try to replace the contents of that notebook with the HTML code below:"
   ]
  },
  {
   "cell_type": "code",
   "execution_count": null,
   "metadata": {
    "collapsed": false
   },
   "outputs": [],
   "source": [
    "%%html\n",
    "<html>\n",
    "<head>\n",
    "  <meta charset=\"utf-8\">\n",
    "  <meta http-equiv=\"x-ua-compatible\" content=\"ie=edge\">\n",
    "  <title>Hello world ph0wZx</title>\n",
    "  <meta name=\"description\" content=\"\">\n",
    "  <meta name=\"viewport\" content=\"width=device-width, initial-scale=1\">\n",
    "</head>\n",
    "<body>\n",
    "\n",
    "<h1>Hello world</h1>\n",
    "\n",
    "<p>{{ message }}</p>\n",
    "\n",
    "<p>{{ variable }}</p>\n",
    "<pre>\"variable\" is a key in our page's context</pre>\n",
    "\n",
    "<p>{% if object %}{{ object }}{% endif %}</p>\n",
    "\n",
    "{% if form %}\n",
    "<form method=\"POST\" enctype=\"multipart/form-data\">\n",
    "    {% csrf_token %}\n",
    "    {{ form.as_p }}\n",
    "    <input type=\"submit\">\n",
    "</form>\n",
    "{% endif %}\n",
    "</body>\n",
    "</html>"
   ]
  },
  {
   "cell_type": "markdown",
   "metadata": {},
   "source": [
    "![Web_Dev2](./images/img_hello_world2.png)"
   ]
  },
  {
   "cell_type": "markdown",
   "metadata": {},
   "source": [
    "Variable names are keys in the page's context data. The corresponding value is shown when a key is accessed in the template. When a variable represents an object, a __`.`__ (dot) is used to access its attributes. When the template system encounters a dot, it tries the following lookups in this order:\n",
    "\n",
    "1. Dictionary lookup\n",
    "2. Attribute or method lookup\n",
    "3. Numeric index lookup\n",
    "\n",
    "If the resulting value is callable, it is called with no arguments. The result of the call becomes the template value.\n",
    "\n",
    "## [Filters](https://docs.djangoproject.com/en/dev/ref/templates/language/#filters)\n",
    "\n",
    "Variables can be modified by filters. Filters are applied to variables using a __`|`__ (pipe).\n",
    "\n",
    "`{{ variable|lower }}`\n",
    "\n",
    "`{{ variable|title }}`\n",
    "\n",
    "Filters can be chained, from left to right, with the result from the filter on the left passed to filter on the right.\n",
    "\n",
    "`{{ text|truncatewords:30|default:\"no text\" }}`\n",
    "\n",
    "Many [built-in filters](https://docs.djangoproject.com/en/dev/ref/templates/builtins/#ref-templates-builtins-filters) are available. If no built-in filter fits your use case, it's easy to [make](https://docs.djangoproject.com/en/dev/howto/custom-template-tags/#writing-custom-template-filters) one.\n",
    "\n",
    "## [Tags](https://docs.djangoproject.com/en/dev/ref/templates/language/#tags)\n",
    "\n",
    "Template tags provide some control flow functionality, allow you to load external information, and other functionality in your templates. Some tags work alone while some come in pairs. A pair of curly braces and percent delimiters __`{% (tag) %}`__ are used by template tags.\n",
    "\n",
    "### {% include 'template_name' %}\n",
    "\n",
    "`Include` renders a template in the current context, useful for reusable template components. The `template_name` includes the path to the template from within one of Django's known template directories.\n",
    "\n",
    "```\n",
    "{% include 'components/navbar.html' %}\n",
    "```\n",
    "\n",
    "### {% extends 'template_name' %}\n",
    "\n",
    "`Extends` is usually the first line of a child template and signals that it extends a parent template with the given `template_name`. Used in conjuction with block tags `{% block 'name' %}`.\n",
    "\n",
    "## Parent template - base.html:"
   ]
  },
  {
   "cell_type": "code",
   "execution_count": null,
   "metadata": {
    "collapsed": false
   },
   "outputs": [],
   "source": [
    "%%html\n",
    "<!DOCTYPE html>\n",
    "<html lang=\"en\">\n",
    "<head>\n",
    "    <link rel=\"stylesheet\" href=\"style.css\" />\n",
    "    <title>{% block title %}My blog{% endblock %}</title>\n",
    "</head>\n",
    "\n",
    "<body>\n",
    "    <div id=\"sidebar\">\n",
    "        {% block sidebar %}\n",
    "        <ul>\n",
    "            <li><a href=\"/\">Home</a></li>\n",
    "            <li><a href=\"/blog/\">Blog</a></li>\n",
    "        </ul>\n",
    "        {% endblock %}\n",
    "    </div>\n",
    "\n",
    "    <div id=\"content\">\n",
    "        {% block content %}{% endblock %}\n",
    "    </div>\n",
    "</body>\n",
    "</html>"
   ]
  },
  {
   "cell_type": "markdown",
   "metadata": {},
   "source": [
    "## Child template - index.html:"
   ]
  },
  {
   "cell_type": "code",
   "execution_count": null,
   "metadata": {
    "collapsed": false
   },
   "outputs": [],
   "source": [
    "%%html\n",
    "{% extends \"base.html\" %}\n",
    "\n",
    "{% block title %}My Django blog!{% endblock %}\n",
    "\n",
    "{% block content %}\n",
    "  {% for entry in blog_entries %}\n",
    "    <h2>{{ entry.title }}</h2>\n",
    "    <p>{{ entry.body }}</p>\n",
    "  {% endfor %}\n",
    "{% endblock %}"
   ]
  },
  {
   "cell_type": "markdown",
   "metadata": {},
   "source": [
    "### `{% block 'name' %}`\n",
    "\n",
    "`Block` tags come as a pair together with `endblocks` and are given names. `Block` tags are used in both parent and child templates. When a child template _extends_ a parent template, the contents of a child template's blocks override the parent's blocks with the same name.\n",
    "\n",
    "### `{% for %}`\n",
    "\n",
    "`For` tags allow you to loop through a list, making each list item available as a variable. Paired with `endfor`, the section between `for` and `endfor` are repeated by the length of the list. The way it works is similar to a Python `for` loop.\n",
    "\n",
    "```\n",
    "{% for object in object_list %}\n",
    "    {{ object.id }}. {{ object.name }}\n",
    "{% endfor %}\n",
    "```\n",
    "\n",
    "### `{% if %}`\n",
    "\n",
    "`If` evaluates the truthiness of a variable. The way it works is similar to a Python `if` statement. It works together with the `elif`, `else`, and `endif` tags."
   ]
  },
  {
   "cell_type": "code",
   "execution_count": null,
   "metadata": {
    "collapsed": true
   },
   "outputs": [],
   "source": [
    "%%html\n",
    "{% if name %}\n",
    "    Hello, {{ name }}!\n",
    "{% else %}\n",
    "    Hello, guest!\n",
    "{% endif %}"
   ]
  },
  {
   "cell_type": "markdown",
   "metadata": {},
   "source": [
    "### `{% load %}`\n",
    "\n",
    "`Load` allows you to load other template tags. Django has built-in template tags as well as other tags that can be loaded. Tags can easily be created but that is already outside of the notebook's scope. One commonly loaded tag is the `static` tag. Loading the `static` tag allows you to use the `static` template tag.\n",
    "\n",
    "```\n",
    "{% load static %}\n",
    "<img src=\"{% static \"images/default.jpg\" %}\" alt=\"Avatar\" />\n",
    "```\n",
    "\n",
    "# Creating Forms\n",
    "\n",
    "There are several ways to create forms in Django. Forms could be created manually by building an HMTL form and manually processing the HTTP POST request. Validators would have to be created for both input and processing and inputs have to be validated on both form and submission. That's the hard way.\n",
    "\n",
    "Django has a forms module that handles form creation, input validation and processing. Forms can be generated in two ways.\n",
    "\n",
    "## [ModelForm](https://docs.djangoproject.com/en/dev/topics/forms/modelforms/#django.forms.ModelForm)\n",
    "\n",
    "Django provides an easy way to create forms from models with only a few lines using `django.forms.ModelForm`."
   ]
  },
  {
   "cell_type": "code",
   "execution_count": null,
   "metadata": {
    "collapsed": true
   },
   "outputs": [],
   "source": [
    "from django.forms import ModelForm\n",
    "\n",
    "from account.models import Profile\n",
    "\n",
    "\n",
    "class ProfileModelForm(ModelForm):\n",
    "\n",
    "    class Meta:\n",
    "        model = Profile\n",
    "        fields = ['name', 'photo', 'created', 'user']"
   ]
  },
  {
   "cell_type": "markdown",
   "metadata": {},
   "source": [
    "By subclassing `ModelForm` and modifying the `model` and `fields` attributes of the `Meta` class, Django is able to generate a form with the given fields based on a model. `ModelForm` makes it easy to create forms so we can focus on getting our models right. For forms that are not tied to models, there is `django.forms.Form`. `ModelForm` uses `Form` to automatically generate fields.\n",
    "\n",
    "## [forms.Form](https://docs.djangoproject.com/en/dev/topics/forms/#the-django-form-class)\n",
    "\n",
    "For forms that are not tied to models, `django.forms.Form` can be used. To demonstrate, creating a form similar to our `Profile` model only needs a few things to be changed."
   ]
  },
  {
   "cell_type": "code",
   "execution_count": null,
   "metadata": {
    "collapsed": true
   },
   "outputs": [],
   "source": [
    "from django import forms\n",
    "\n",
    "class ProfileForm(forms.Form):\n",
    "    name = forms.CharField(max_length=42)\n",
    "    photo = forms.ImageField()\n",
    "    created = forms.DateField()"
   ]
  },
  {
   "cell_type": "markdown",
   "metadata": {},
   "source": [
    "# [Using Forms in Templates](https://docs.djangoproject.com/en/dev/topics/forms/#working-with-form-templates)\n",
    "\n",
    "To use a form, it needs to be imported into your `views.py`, instantiated and added to the context."
   ]
  },
  {
   "cell_type": "code",
   "execution_count": null,
   "metadata": {
    "collapsed": true
   },
   "outputs": [],
   "source": [
    "%%html\n",
    "from .forms import ProfileModelForm\n",
    "\n",
    "def form_view(request):\n",
    "    template = \"template.html\"\n",
    "    form = ProfileModelForm()\n",
    "    context = {\n",
    "        \"form\": form,\n",
    "    }\n",
    "    return render(request, template, context)"
   ]
  },
  {
   "cell_type": "markdown",
   "metadata": {},
   "source": [
    "It can be accessed in the template like any other variable, except this variable is an object that generates an HTML form. We'll use the `.as_p` method to render each field surrounded in `<p>` tags.\n",
    "\n",
    "One thing to note is that only the fields are rendered. The `<form>` tags are __not__ included, as well as any input buttons. The `<form>` tag needs to have a `method` attribute with a `POST` value. Once all of these are added, we can test our form."
   ]
  },
  {
   "cell_type": "code",
   "execution_count": null,
   "metadata": {
    "collapsed": true
   },
   "outputs": [],
   "source": [
    "%%html\n",
    "<form method=\"POST\">\n",
    "    {{ form.as_p }}\n",
    "    <input type=\"submit\">\n",
    "</form>"
   ]
  },
  {
   "cell_type": "markdown",
   "metadata": {},
   "source": [
    "## [Cross-Site Request Forgery](https://docs.djangoproject.com/en/dev/ref/csrf/)\n",
    "\n",
    "Our form is not submitting. We are receiving a `Forbidden (403)` error from the server. This is one of Django's security features. \n",
    "\n",
    "Whenever communicating with a server, an HTTP method is used. Browsing typically uses the `GET` method, which is a \"safe\" method that does not change anything in the server. In our form, we explicitly used `method=\"POST\"`, which is used when submitting information. There are other \"unsafe\" methods available when an action is meant to change something in the server but Django focuses only on `GET` and `POST`.\n",
    "\n",
    "For security, Django has built-in Cross Site Request Forgery or CSRF protection. To get past this security feature, all we need to do is to add the `csrf_token` tag anywhere within our form. It adds a field with a randomly generated CSRF token to our form. Django will know how to handle this for us."
   ]
  },
  {
   "cell_type": "code",
   "execution_count": null,
   "metadata": {
    "collapsed": true
   },
   "outputs": [],
   "source": [
    "%%html\n",
    "<form method=\"POST\">\n",
    "    {% csrf_token %}\n",
    "    {{ form.as_p }}\n",
    "    <input type=\"submit\">\n",
    "</form>"
   ]
  },
  {
   "cell_type": "markdown",
   "metadata": {},
   "source": [
    "With that, our form can now be submitted.\n",
    "\n",
    "## [Processing Forms](https://docs.djangoproject.com/en/dev/topics/forms/#the-view)\n",
    "\n",
    "To process the form in our `views.py`, the form just needs to be instantiated with the submitted data as argument."
   ]
  },
  {
   "cell_type": "code",
   "execution_count": null,
   "metadata": {
    "collapsed": true
   },
   "outputs": [],
   "source": [
    "    form = ProfileModelForm(request.POST or None)"
   ]
  },
  {
   "cell_type": "markdown",
   "metadata": {},
   "source": [
    "By using boolean logic (`request.POST or None`) as the argument, our code will work whether or not there's submitted data. The form will instantiate with or without submitted data. For processing the submitted data, we add a conditional statement that executes a block of code if the form is valid."
   ]
  },
  {
   "cell_type": "code",
   "execution_count": null,
   "metadata": {
    "collapsed": true
   },
   "outputs": [],
   "source": [
    "    if form.is_valid():\n",
    "        profile = form.save(commit=False)\n",
    "        profile.save()"
   ]
  },
  {
   "cell_type": "markdown",
   "metadata": {},
   "source": [
    "If the form is valid, execute a block of code. The form is valid if the submitted data does not return any errors, all required inputs are provided and all inputs validated. It would need a great deal of attention to do this manually.\n",
    "\n",
    "`forms.ModelForm`s have a save method, which calls the model's save method. However, `forms.Form`s are just plain forms unrelated to models and processing needs to be done manually. Adding the `commit=False` option does not save it to the database yet. It just tells Django that you still want to do something to this instance. To save it, the instance's save method needs to be called again like in our example.\n",
    "\n",
    "## Updating a Record\n",
    "\n",
    "To update an existing database record, the instance just needs to be passed to the form as a keyword argument to `instance`."
   ]
  },
  {
   "cell_type": "code",
   "execution_count": null,
   "metadata": {
    "collapsed": true
   },
   "outputs": [],
   "source": [
    "    profile = get_object_or_404(Profile, pk=1)\n",
    "    if profile:\n",
    "        form = ProfileModelForm(request.POST or None, request.FILES or None, instance=profile)\n",
    "    else:\n",
    "        form = ProfileModelForm(request.POST or None, request.FILES or None)\n",
    "\n",
    "    if form.is_valid():\n",
    "        profile = form.save()"
   ]
  },
  {
   "cell_type": "markdown",
   "metadata": {
    "collapsed": true
   },
   "source": [
    "The form is generated with initial data from the given instance. Updating it is the same as processing a regular form."
   ]
  }
 ],
 "metadata": {
  "kernelspec": {
   "display_name": "Python 3",
   "language": "python",
   "name": "python3"
  },
  "language_info": {
   "codemirror_mode": {
    "name": "ipython",
    "version": 3
   },
   "file_extension": ".py",
   "mimetype": "text/x-python",
   "name": "python",
   "nbconvert_exporter": "python",
   "pygments_lexer": "ipython3",
   "version": "3.5.1"
  }
 },
 "nbformat": 4,
 "nbformat_minor": 0
}
