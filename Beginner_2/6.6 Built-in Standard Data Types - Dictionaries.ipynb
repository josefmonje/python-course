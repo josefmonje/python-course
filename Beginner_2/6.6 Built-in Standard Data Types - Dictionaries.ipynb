{
 "cells": [
  {
   "cell_type": "markdown",
   "metadata": {},
   "source": [
    "# 6.6 Dictionaries\n",
    "\n",
    "> Dictionaries are Python's built-in associative data type. A dictionary is made of __key-value pairs__ where each key corresponds to a value. Like sets, __dictionaries are unordered__. \n",
    "\n",
    "> A few notes about keys and values: * The key must be immutable and hashable while the value can be of any type. Common examples of keys are tuples, strings and numbers. * A single dictionary can contain keys of varying types and values of varying types.\n",
    "\n",
    "Each key is separated from its value by a colon (`:`), the items are separated by commas, and the whole thing is enclosed in curly braces:"
   ]
  },
  {
   "cell_type": "code",
   "execution_count": null,
   "metadata": {
    "collapsed": true
   },
   "outputs": [],
   "source": [
    "my_dictionary =  {'key1' : 1, 'key2' : 2, 'key3' : 3}"
   ]
  },
  {
   "cell_type": "markdown",
   "metadata": {},
   "source": [
    "The example above is a dictionary called __`my_dictionary`__ with three key-value pairs:\n",
    "\n",
    "- __`'key1'`__ points to the value __`1`__, \n",
    "- __`'key2'`__ points to the value __`2`__, and\n",
    "- __`'key3'`__ points to the value __`3`__\n",
    "\n",
    "#### Facts about Dictionaries:\n",
    "\n",
    "- (a) __Keys__ are __unique__ within a dictionary while __values may not be__. \n",
    "- (b) The __values__ of a dictionary __can be of any type__;\n",
    "- (c) The __keys__ must be of an __immutable data type__ such as strings, numbers, or tuples. \n",
    "\n",
    "For example:"
   ]
  },
  {
   "cell_type": "code",
   "execution_count": null,
   "metadata": {
    "collapsed": false
   },
   "outputs": [],
   "source": [
    "my_dictionary = {\n",
    "    'key1': 'value1',\n",
    "     123: 456,\n",
    "    ('key3', 'key4'): 'value3'\n",
    "}"
   ]
  },
  {
   "cell_type": "markdown",
   "metadata": {},
   "source": [
    "- (d) No duplicate key is allowed. When duplicate keys encountered during assignment, the last assignment wins.\n",
    "\n",
    "For example:"
   ]
  },
  {
   "cell_type": "code",
   "execution_count": null,
   "metadata": {
    "collapsed": false
   },
   "outputs": [],
   "source": [
    "# Run the code to see the result\n",
    "my_dictionary = {\n",
    "    'Name':'John',\n",
    "    'Age':35,\n",
    "    'Name': 'Bob'\n",
    "}\n",
    "\n",
    "my_dictionary['Name']"
   ]
  },
  {
   "cell_type": "markdown",
   "metadata": {},
   "source": [
    "An empty dictionary without any items is written either with just two curly braces or we may also use the __`dict()`__ class, like this:"
   ]
  },
  {
   "cell_type": "code",
   "execution_count": 1,
   "metadata": {
    "collapsed": true
   },
   "outputs": [],
   "source": [
    "dictionary1 = {}\n",
    "dictionary2 = dict()"
   ]
  },
  {
   "cell_type": "markdown",
   "metadata": {},
   "source": [
    "Dictionaries are useful for things like phone books (pairing a name with a phone number), login pages like pairing a username with a password, and lots more."
   ]
  },
  {
   "cell_type": "markdown",
   "metadata": {},
   "source": [
    "## 6.6.1 Accessing Values in a Dictionary\n",
    "\n",
    "To access dictionary elements, you can use the familiar square brackets along with the key to obtain its value. "
   ]
  },
  {
   "cell_type": "code",
   "execution_count": null,
   "metadata": {
    "collapsed": false
   },
   "outputs": [],
   "source": [
    "my_dictionary = {'Name': 'Eric', 'Age':22}\n",
    "\n",
    "my_dictionary['Name']"
   ]
  },
  {
   "cell_type": "markdown",
   "metadata": {},
   "source": [
    "## 6.6.2 Adding New Entries\n",
    "\n",
    "Dictionaries are \"mutable\" which means they can be changed after they are created. We can add new key/value pairs to the dictionary. \n",
    "\n",
    "Here's the syntax:"
   ]
  },
  {
   "cell_type": "code",
   "execution_count": null,
   "metadata": {
    "collapsed": true
   },
   "outputs": [],
   "source": [
    "dict_name[new_key] = new_value"
   ]
  },
  {
   "cell_type": "markdown",
   "metadata": {},
   "source": [
    "Now let's try to add a new key-value pair to our existing dictionary:"
   ]
  },
  {
   "cell_type": "code",
   "execution_count": null,
   "metadata": {
    "collapsed": false
   },
   "outputs": [],
   "source": [
    "my_dictionary = {'Name': 'Eric', 'Age':22}\n",
    "\n",
    "my_dictionary['Gender']='Male'"
   ]
  },
  {
   "cell_type": "markdown",
   "metadata": {},
   "source": [
    "Here's another example:"
   ]
  },
  {
   "cell_type": "code",
   "execution_count": 9,
   "metadata": {
    "collapsed": false
   },
   "outputs": [
    {
     "name": "stdout",
     "output_type": "stream",
     "text": [
      "Pizza costs 50\n",
      "Ramen costs 180\n"
     ]
    }
   ],
   "source": [
    "# A dictionary of food and its prices\n",
    "food = { \n",
    "    'Pizza': 50,\n",
    "    'Spaghetti': 150,\n",
    "    'Ramen': 180,\n",
    "    'Garlic Bread': 40,\n",
    "    'Carbonara': 150\n",
    "}\n",
    "\n",
    "# Add more food\n",
    "food['Burger'] = 120\n",
    "food['Ham and Cheese sandwich'] = 80\n",
    "\n",
    "print(\"Pizza costs\", food['Pizza'])\n",
    "print(\"Ramen costs\", food['Ramen'])"
   ]
  },
  {
   "cell_type": "markdown",
   "metadata": {},
   "source": [
    "## 6.6.3 Changing the Entries\n",
    "\n",
    "A new value can be associated with a key by assigning a value to the key."
   ]
  },
  {
   "cell_type": "code",
   "execution_count": null,
   "metadata": {
    "collapsed": false
   },
   "outputs": [],
   "source": [
    "# Syntax\n",
    "dict_name[key] = new_value"
   ]
  },
  {
   "cell_type": "code",
   "execution_count": null,
   "metadata": {
    "collapsed": false
   },
   "outputs": [],
   "source": [
    "# A dictionary of countries and its abbreviation\n",
    "country = {\n",
    "    'Philippines': 'PH',\n",
    "    'Japan': 'JP',\n",
    "    'Korea': 'KR',\n",
    "    'United States of America': 'USA',\n",
    "    'France': 'IT'\n",
    "}\n",
    "\n",
    "# Change the value of 'France' from 'IT' to 'FR'\n",
    "country['France'] = 'FR'\n",
    "\n",
    "country['France']"
   ]
  },
  {
   "cell_type": "markdown",
   "metadata": {},
   "source": [
    "## 6.6.4 Deleting Entries\n",
    "\n",
    "Items can be removed from a dictionary with the __`del`__ statement.\n",
    "\n",
    "Here's the syntax:"
   ]
  },
  {
   "cell_type": "code",
   "execution_count": null,
   "metadata": {
    "collapsed": false
   },
   "outputs": [],
   "source": [
    "del dict_name[key_name]"
   ]
  },
  {
   "cell_type": "markdown",
   "metadata": {},
   "source": [
    "The example above will remove the key __`key_name`__ AND it's associated value from the dictionary."
   ]
  },
  {
   "cell_type": "code",
   "execution_count": 8,
   "metadata": {
    "collapsed": false
   },
   "outputs": [
    {
     "data": {
      "text/plain": [
       "{'Carbonara': 150, 'Pizza': 50, 'Ramen': 180, 'Spaghetti': 150}"
      ]
     },
     "execution_count": 8,
     "metadata": {},
     "output_type": "execute_result"
    }
   ],
   "source": [
    "food = { \n",
    "    'Pizza': 50,\n",
    "    'Spaghetti': 150,\n",
    "    'Ramen': 180,\n",
    "    'Garlic Bread': 40,\n",
    "    'Carbonara': 150\n",
    "}\n",
    "\n",
    "# Delete the key 'Garlic Bread' along with its value which is 40\n",
    "del food['Garlic Bread']\n",
    "\n",
    "# Print 'food' dictionary\n",
    "food"
   ]
  },
  {
   "cell_type": "markdown",
   "metadata": {},
   "source": [
    "## 6.6.5 Other methods\n",
    "\n",
    "### `len( )`\n",
    "\n",
    "The length of a dictionary is the number of key-value pairs it has. Each pair counts only __once__, even if the value is a list."
   ]
  },
  {
   "cell_type": "code",
   "execution_count": 7,
   "metadata": {
    "collapsed": false
   },
   "outputs": [
    {
     "data": {
      "text/plain": [
       "2"
      ]
     },
     "execution_count": 7,
     "metadata": {},
     "output_type": "execute_result"
    }
   ],
   "source": [
    "# Run the code to see how len() works\n",
    "\n",
    "my_dictionary = {'Name': 'Eric', 'Age':22}\n",
    "\n",
    "len(my_dictionary)"
   ]
  },
  {
   "cell_type": "markdown",
   "metadata": {},
   "source": [
    "### `str( )`\n",
    "\n",
    "Produces a printable string representation of a dictionary."
   ]
  },
  {
   "cell_type": "code",
   "execution_count": 6,
   "metadata": {
    "collapsed": false
   },
   "outputs": [
    {
     "data": {
      "text/plain": [
       "\"{'Age': 22, 'Name': 'Eric'}\""
      ]
     },
     "execution_count": 6,
     "metadata": {},
     "output_type": "execute_result"
    }
   ],
   "source": [
    "# Run the code to see how str() works\n",
    "\n",
    "my_dictionary = {'Name': 'Eric', 'Age': 22}\n",
    "\n",
    "str(my_dictionary) # prints the equivalent string"
   ]
  },
  {
   "cell_type": "markdown",
   "metadata": {},
   "source": [
    "### `dict.items()` or `dict.iteritems()` in Python 2.x\n",
    "\n",
    "Returns list of the dictonary's key-value pairs."
   ]
  },
  {
   "cell_type": "code",
   "execution_count": 5,
   "metadata": {
    "collapsed": false
   },
   "outputs": [
    {
     "data": {
      "text/plain": [
       "dict_items([('Age', 22), ('Name', 'Eric')])"
      ]
     },
     "execution_count": 5,
     "metadata": {},
     "output_type": "execute_result"
    }
   ],
   "source": [
    "my_dictionary = {'Name': 'Eric', 'Age': 22}\n",
    "\n",
    "dict.items(my_dictionary) or my_dictionary.items()  # my_dictionary.iteritems() in Python 2.x"
   ]
  },
  {
   "cell_type": "markdown",
   "metadata": {},
   "source": [
    "### `dict.keys()` or `dict.iterkeys()` in Python 2.x\n",
    "\n",
    "Returns list of the dictonary's keys."
   ]
  },
  {
   "cell_type": "code",
   "execution_count": null,
   "metadata": {
    "collapsed": false
   },
   "outputs": [],
   "source": [
    "my_dictionary = {'Name': 'Eric', 'Age': 22}\n",
    "\n",
    "dict.keys(my_dictionary) or my_dictionary.keys()  # my_dictionary.iterkeys() in Python 2.x"
   ]
  },
  {
   "cell_type": "markdown",
   "metadata": {},
   "source": [
    "### `dict.values()` or `dict.itervalues()` in Python 2.x\n",
    "\n",
    "Returns a list of the dictionary's values."
   ]
  },
  {
   "cell_type": "code",
   "execution_count": null,
   "metadata": {
    "collapsed": false
   },
   "outputs": [],
   "source": [
    "my_dictionary = {'Name': 'Eric', 'Age': 22}\n",
    "\n",
    "dict.values(my_dictionary) or my_dictionary.values()  # my_dictionary.itervalues() in Python 2.x"
   ]
  }
 ],
 "metadata": {
  "kernelspec": {
   "display_name": "Python 3",
   "language": "python",
   "name": "python3"
  },
  "language_info": {
   "codemirror_mode": {
    "name": "ipython",
    "version": 3
   },
   "file_extension": ".py",
   "mimetype": "text/x-python",
   "name": "python",
   "nbconvert_exporter": "python",
   "pygments_lexer": "ipython3",
   "version": "3.5.1"
  }
 },
 "nbformat": 4,
 "nbformat_minor": 0
}
