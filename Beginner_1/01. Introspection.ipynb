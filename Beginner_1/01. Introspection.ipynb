{
 "cells": [
  {
   "cell_type": "markdown",
   "metadata": {},
   "source": [
    "# 1. Introspection\n",
    "> Introspection refers to the ability to examine something to determine what it is, what it knows, and what it is capable of doing. Introspection gives programmers a great deal of flexibility and control.\n",
    "\n",
    ">Python's support for introspection runs deep and wide throughout the language. In fact, it would be hard to imagine Python without its introspection features.\n",
    "\n",
    "## 1.1 Starting the Python interpreter in interactive mode\n",
    "Just go to the terminal and type <b>`python`</b> and you will see the Python promt (<b> `>>>` </b>) and the Python version that you are currently using:\n",
    "\n",
    "![Beginner_1](./images/img_python_prompt.png)"
   ]
  },
  {
   "cell_type": "markdown",
   "metadata": {},
   "source": [
    "## 1.2 [help()](https://docs.python.org/3/library/functions.html#help)\n",
    "### Starting the help Utility\n",
    "\n",
    "Let's start by asking for help. You may type <b>`help()`</b> without specifying an argument, the interactive help system starts on the interpreter console.\n",
    "\n",
    "For example:\n",
    "![Beginner_1](./images/img_help.png)"
   ]
  },
  {
   "cell_type": "markdown",
   "metadata": {},
   "source": [
    "### Asking Python for help Keywords:\n",
    "\n",
    "help> keywords"
   ]
  },
  {
   "cell_type": "markdown",
   "metadata": {},
   "source": [
    "![Beginner_1](./images/img_help_keyword.png)"
   ]
  },
  {
   "cell_type": "markdown",
   "metadata": {},
   "source": [
    "When we typed <b>`help()`</b>, we were greeted with a message and some instructions, followed by the <b>`help`</b> prompt. At the prompt, we entered keywords and were shown a list of Python keywords. \n",
    "\n",
    "As you can see, Python's online help utility displays information on a variety of topics, or for a particular object. The help utility is quite useful, and does make use of Python's introspection capabilities.\n",
    "\n",
    "If we want to quit, just type <b>`'quit'`</b>, and we will be returned to the Python prompt.\n",
    "\n",
    "`help()` can also accept parameters. It can be any object (everything in Python is an object!), and it gives helpful information specific to that object."
   ]
  },
  {
   "cell_type": "code",
   "execution_count": null,
   "metadata": {
    "collapsed": true
   },
   "outputs": [],
   "source": [
    "n = 1\n",
    "help(n)"
   ]
  },
  {
   "cell_type": "markdown",
   "metadata": {},
   "source": [
    "If you want to know more about __`help()`__, just click [here](http://www.ibm.com/developerworks/library/l-pyint/index.html)."
   ]
  },
  {
   "cell_type": "markdown",
   "metadata": {},
   "source": [
    " "
   ]
  },
  {
   "cell_type": "markdown",
   "metadata": {},
   "source": [
    "## 1.3 [dir()](https://docs.python.org/3/library/functions.html#dir)"
   ]
  },
  {
   "cell_type": "markdown",
   "metadata": {},
   "source": [
    "Python provides a way to examine the contents of modules (and other objects) using the built-in __`dir()`__ function.\n",
    " \n",
    "It returns a sorted list of attribute names for any object passed to it. If no object is specified, __`dir()`__ returns the names in the current scope.\n",
    "\n",
    "![Beginner_1](./images/img_dir.png)"
   ]
  },
  {
   "cell_type": "code",
   "execution_count": null,
   "metadata": {
    "collapsed": false
   },
   "outputs": [],
   "source": [
    "s = \"string\"\n",
    "dir(s)"
   ]
  },
  {
   "cell_type": "markdown",
   "metadata": {
    "collapsed": true
   },
   "source": [
    "If you want to know more about __`dir()`__, click [here](http://www.ibm.com/developerworks/library/l-pyint/index.html)"
   ]
  },
  {
   "cell_type": "markdown",
   "metadata": {},
   "source": [
    "If at any point you feel lost and need help, `help()` and `dir()` are at your disposal. Use them in the code boxes to find out more about what's happening in the examples."
   ]
  }
 ],
 "metadata": {
  "kernelspec": {
   "display_name": "Python 3",
   "language": "python",
   "name": "python3"
  },
  "language_info": {
   "codemirror_mode": {
    "name": "ipython",
    "version": 3
   },
   "file_extension": ".py",
   "mimetype": "text/x-python",
   "name": "python",
   "nbconvert_exporter": "python",
   "pygments_lexer": "ipython3",
   "version": "3.5.1"
  }
 },
 "nbformat": 4,
 "nbformat_minor": 0
}
