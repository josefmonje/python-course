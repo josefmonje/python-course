{
 "cells": [
  {
   "cell_type": "markdown",
   "metadata": {},
   "source": [
    "## You did it!\n",
    "Congratulations for finishing the Intermediate Level! \n",
    "\n",
    "We would like to get a feedback about your experiences throughout this chapter. Your\t\n",
    "responses to this survey will help us evaluate the effectiveness of the Intermediate level notebooks. \n",
    "\n",
    "Here is the link: https://goo.gl/txw0Sp\n",
    "\n",
    "Thank you so much in advance, and see you on the next chapter (Advanced). \n",
    "\n",
    "\n",
    "> ##### \"It is more important to know where you are going than to get there quickly. Do not mistake activity for achievement.\"\n",
    "—Mabel Newcomber"
   ]
  }
 ],
 "metadata": {
  "kernelspec": {
   "display_name": "Python 3",
   "language": "python",
   "name": "python3"
  },
  "language_info": {
   "codemirror_mode": {
    "name": "ipython",
    "version": 3
   },
   "file_extension": ".py",
   "mimetype": "text/x-python",
   "name": "python",
   "nbconvert_exporter": "python",
   "pygments_lexer": "ipython3",
   "version": "3.5.1"
  }
 },
 "nbformat": 4,
 "nbformat_minor": 0
}
