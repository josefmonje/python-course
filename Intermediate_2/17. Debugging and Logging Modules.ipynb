{
 "cells": [
  {
   "cell_type": "markdown",
   "metadata": {},
   "source": [
    "# Debugging and Logging\n",
    "\n",
    "Now that we can start making apps, let's make sure our apps are working like it's supposed to. We'll look at two built in modules that let us do so: the logging and pdb modules.\n",
    "\n",
    "## [Pdb](https://docs.python.org/3.5/library/pdb.html#module-pdb)\n",
    "\n",
    "> _The module pdb defines an interactive source code debugger for Python programs. It supports setting (conditional) breakpoints and single stepping at the source line level, inspection of stack frames, source code listing, and evaluation of arbitrary Python code in the context of any stack frame. It also supports post-mortem debugging and can be called under program control._\n",
    "\n",
    "One way to use the debugger is just to insert the line __`import pdb; pdb.set_trace()`__ anywhere your code. This lets you step in at the point where this line is inserted via a pdb console. It's just a Python console. The execution of the program is suspended until the the keyword __`continue`__ is entered. There are other [debugger commands](https://docs.python.org/3.5/library/pdb.html#debugger-commands) at your disposal but this will let you inspect your variables or any execution parameters to help you figure out any problems.\n",
    "\n",
    "Try the following keywords in the console:\n",
    "\n",
    "```\n",
    "where\n",
    "ll\n",
    "vars()\n",
    "help\n",
    "```\n",
    "\n",
    "There's also an enhanced version of Pdb that uses IPython, creatively called [ipdb](https://github.com/gotcha/ipdb). Just change all references from pdb to ipdb. __`pip install ipdb`__, then use __`import ipdb; ipdb.set_trace()`__.\n",
    "\n",
    "### Werkzeug Debugger\n",
    "\n",
    "In our Flask app, Werkzeug (one of Flask's dependencies) shows an error page when something goes wrong. For each line of code in the traceback, you can click it to expand it. There's also a small icon on the right most side of each line that gives you access to the debugger console. \n",
    "\n",
    "Werkzeug integrates the debugger nicely in its error page. If you're not using Werkzeug, or are simply using something else, you'll always have pdb at your disposal to help debug your applications.\n",
    "\n",
    "## [Logging](https://docs.python.org/3.5/library/logging.html)\n",
    "\n",
    "> _The key benefit of having the logging API provided by a standard library module is that all Python modules can participate in logging, so your application log can include your own messages integrated with messages from third-party modules._\n",
    "\n"
   ]
  },
  {
   "cell_type": "code",
   "execution_count": null,
   "metadata": {
    "collapsed": true
   },
   "outputs": [],
   "source": []
  }
 ],
 "metadata": {
  "kernelspec": {
   "display_name": "Python 3",
   "language": "python",
   "name": "python3"
  },
  "language_info": {
   "codemirror_mode": {
    "name": "ipython",
    "version": 3
   },
   "file_extension": ".py",
   "mimetype": "text/x-python",
   "name": "python",
   "nbconvert_exporter": "python",
   "pygments_lexer": "ipython3",
   "version": "3.5.1"
  }
 },
 "nbformat": 4,
 "nbformat_minor": 0
}
