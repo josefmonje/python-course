{
 "cells": [
  {
   "cell_type": "markdown",
   "metadata": {},
   "source": [
    "# 16. Generating Forms with [WTForms](http://wtforms.readthedocs.org/en/latest/index.html)\n",
    "\n",
    "In the previous notebooks, we learned how to use Flask to create functions or classes that map to URLs. We also learned that there were several ways to send variables to those functions. In the last notebook, we learned about creating HTML templates using Jinja2 that the server would send in response to requests. This notebook will focus on creating forms using WTForms.\n",
    "\n",
    "With enough practice, you'll find out that when rendering forms and receiving form data, input types should align with your data models and that valdation could be done on both client and server. You'll also discover that there are patters and that you may be repeating a lot of code.\n",
    "\n",
    "WTForms lets you define classes that will generate the HTML form that handles input validation without boilerplate or repetitive code. When `wtforms` is loaded in a template, a form object becomes accessible with defined fields that map to your data. To process a submitted form, just instantiate the form, passing the`request.POST` data to it as parameters. The `wtforms.Form` object has a `validate()` method that takes care of validation for you. If the form is valid, you can process the data as needed. If not, it also has built-in error messages that you can display.\n",
    "\n",
    "That was quite a long explanation. Let's see some code.\n",
    "\n",
    "## Install WTForms"
   ]
  },
  {
   "cell_type": "code",
   "execution_count": null,
   "metadata": {
    "collapsed": true
   },
   "outputs": [],
   "source": [
    "!pip install wtforms\n",
    "# !pip install flask-wtf"
   ]
  },
  {
   "cell_type": "markdown",
   "metadata": {},
   "source": [
    "## Create a Form class"
   ]
  },
  {
   "cell_type": "code",
   "execution_count": null,
   "metadata": {
    "collapsed": true
   },
   "outputs": [],
   "source": [
    "# our form class\n",
    "\n",
    "from wtforms import Form, PasswordField, TextField, validators\n",
    "# from flask.ext.wtf import Form\n",
    "\n",
    "class RegistrationForm(Form):\n",
    "    username = TextField('Username', [validators.Length(min=4, max=25)])\n",
    "    email = TextField('Email Address', [validators.Length(min=6, max=35)])\n",
    "    password = PasswordField('New Password', [\n",
    "        validators.Required(),\n",
    "        validators.EqualTo('confirm', message='Passwords must match')\n",
    "    ])\n",
    "    confirm = PasswordField('Repeat Password')"
   ]
  },
  {
   "cell_type": "markdown",
   "metadata": {},
   "source": [
    "In the `RegistrationForm` class defined above, the `Form` and some Field objects, as well as the `wtforms.validator` module were imported.\n",
    "\n",
    "Our `RegistrationForm` class derives from the `wtforms.Form` object. Its attributes are instances of `wtforms.BooleanField` and `wtforms.StringField` objects. When each of these fields were instantiated, a list of `validators` were passed.\n",
    "\n",
    "There is a Flask extension called Flask-WTForms that provides some additional helper methods like Form.validate_on_submit(). It's a separate package that can be installed with `pip install flask-wtf`.\n",
    "\n",
    "## Create a view function or class"
   ]
  },
  {
   "cell_type": "code",
   "execution_count": null,
   "metadata": {
    "collapsed": false
   },
   "outputs": [],
   "source": [
    "# our view function\n",
    "\n",
    "@app.route('/register', methods=['GET', 'POST'])\n",
    "def register():\n",
    "    form = RegistrationForm(request.form)\n",
    "\n",
    "    if request.method == 'POST' and form.validate():\n",
    "    # if form.validate_on_submit():  # this method is available in `from flask.ext.wtf import Form`\n",
    "\n",
    "        # do something with the data\n",
    "        # here, we use it to instantiate and save an imaginary User object\n",
    "        user = User(form.username.data, form.email.data, form.password.data)\n",
    "        user.save()\n",
    "\n",
    "        flash('Thanks for registering')\n",
    "        return redirect(url_for('login'))\n",
    "\n",
    "    return render_template('register.html', form=form)"
   ]
  },
  {
   "cell_type": "markdown",
   "metadata": {},
   "source": [
    "\n",
    "\n",
    "## Render the {{ form }}"
   ]
  },
  {
   "cell_type": "code",
   "execution_count": null,
   "metadata": {
    "collapsed": true
   },
   "outputs": [],
   "source": [
    "<form method=\"POST\" action=\"/register\">\n",
    "    <div>{{ form.username.label }}: {{ form.username(class=\"css_class\") }}</div>\n",
    "    <div>{{ form.email.label }}: {{ form.email() }}</div>\n",
    "    <div>{{ form.password.label }}: {{ form.password() }}</div>\n",
    "</form>"
   ]
  },
  {
   "cell_type": "markdown",
   "metadata": {},
   "source": []
  },
  {
   "cell_type": "code",
   "execution_count": null,
   "metadata": {
    "collapsed": false
   },
   "outputs": [
    {
     "name": "stdout",
     "output_type": "stream",
     "text": [
      " * Running on http://127.0.0.1:5000/ (Press CTRL+C to quit)\n",
      " * Restarting with stat\n",
      " * Debugger is active!\n",
      " * Debugger pin code: 316-047-175\n",
      "register1\n",
      "register2\n",
      "register5\n",
      "127.0.0.1 - - [08/Mar/2016 01:38:45] \"GET /register HTTP/1.1\" 200 -\n",
      "register1\n",
      "register2\n",
      "register5\n",
      "127.0.0.1 - - [08/Mar/2016 01:38:56] \"POST /register HTTP/1.1\" 200 -\n",
      "register1\n",
      "register2\n",
      "register5\n",
      "127.0.0.1 - - [08/Mar/2016 01:39:02] \"POST /register HTTP/1.1\" 200 -\n",
      "register1\n",
      "register2\n",
      "register5\n",
      "127.0.0.1 - - [08/Mar/2016 01:39:26] \"GET /register HTTP/1.1\" 200 -\n"
     ]
    }
   ],
   "source": [
    "!python app.py"
   ]
  },
  {
   "cell_type": "code",
   "execution_count": null,
   "metadata": {
    "collapsed": true
   },
   "outputs": [],
   "source": []
  }
 ],
 "metadata": {
  "kernelspec": {
   "display_name": "Python 3",
   "language": "python",
   "name": "python3"
  },
  "language_info": {
   "codemirror_mode": {
    "name": "ipython",
    "version": 3
   },
   "file_extension": ".py",
   "mimetype": "text/x-python",
   "name": "python",
   "nbconvert_exporter": "python",
   "pygments_lexer": "ipython3",
   "version": "3.5.1"
  }
 },
 "nbformat": 4,
 "nbformat_minor": 0
}
