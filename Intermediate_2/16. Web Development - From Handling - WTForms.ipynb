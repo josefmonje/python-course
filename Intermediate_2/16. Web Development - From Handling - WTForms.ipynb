{
 "cells": [
  {
   "cell_type": "markdown",
   "metadata": {},
   "source": [
    "# 16. Generating Forms with [WTForms](http://wtforms.readthedocs.org/en/latest/index.html)\n",
    "\n",
    "In the previous notebooks, we learned how to use Flask to create functions or classes that map to URLs. We also learned that there were several ways to send variables to those functions. In the last notebook, we learned about creating HTML templates using Jinja2 that the server would send in response to requests. This notebook will focus on creating forms using WTForms.\n",
    "\n",
    "With enough practice, you'll find out that when rendering forms and receiving form data, input types should align with your data models and that valdation could be done on both client and server. You'll also discover that there are patters and that you may be repeating a lot of code.\n",
    "\n",
    "WTForms lets you define classes that will generate the HTML form that handles input validation without boilerplate or repetitive code. When `wtforms` is loaded in a template, a form object becomes accessible with defined fields that map to your data. To process a submitted form, just instantiate the form, passing the`request.POST` data to it as parameters. The `wtforms.Form` object has a `validate()` method that takes care of validation for you. If the form is valid, you can process the data as needed. If not, it also has built-in error messages that you can display.\n",
    "\n",
    "That was quite a long explanation. Let's see some code.\n",
    "\n",
    "## Install WTForms"
   ]
  },
  {
   "cell_type": "code",
   "execution_count": null,
   "metadata": {
    "collapsed": true
   },
   "outputs": [],
   "source": [
    "!pip install wtforms\n",
    "# !pip install flask-wtf"
   ]
  },
  {
   "cell_type": "markdown",
   "metadata": {},
   "source": [
    "## Create a Form class"
   ]
  },
  {
   "cell_type": "code",
   "execution_count": null,
   "metadata": {
    "collapsed": true
   },
   "outputs": [],
   "source": [
    "# our form class\n",
    "\n",
    "from wtforms import Form, PasswordField, TextField, validators\n",
    "# from flask.ext.wtf import Form\n",
    "\n",
    "class RegistrationForm(Form):\n",
    "    username = TextField('Username', [validators.Length(min=4, max=25)])\n",
    "    email = TextField('Email Address', [validators.Length(min=6, max=35)])\n",
    "    password = PasswordField('New Password', [\n",
    "        validators.Required(),\n",
    "        validators.EqualTo('confirm', message='Passwords must match')\n",
    "    ])\n",
    "    confirm = PasswordField('Repeat Password')"
   ]
  },
  {
   "cell_type": "markdown",
   "metadata": {},
   "source": [
    "In the `RegistrationForm` class defined above, the `Form` and some Field objects, as well as the `wtforms.validator` module were imported.\n",
    "\n",
    "Our `RegistrationForm` class derives from the `wtforms.Form` object. Its attributes are instances of `wtforms.BooleanField` and `wtforms.StringField` objects. When each of these fields were instantiated, a list of `validators` were passed.\n",
    "\n",
    "There is a Flask extension called Flask-WTForms that provides some additional helper methods like Form.validate_on_submit(). It's a separate package that can be installed with `pip install flask-wtf`.\n",
    "\n",
    "## Create a view function or class"
   ]
  },
  {
   "cell_type": "code",
   "execution_count": null,
   "metadata": {
    "collapsed": false
   },
   "outputs": [],
   "source": [
    "# our view function\n",
    "from flask import Flask, render_template, request\n",
    "\n",
    "@app.route('/', methods=['GET', 'POST'])\n",
    "def register():\n",
    "    form = RegistrationForm(request.form or None)\n",
    "    context = {\n",
    "        'form': form,\n",
    "    }\n",
    "\n",
    "    # if request.method == 'POST' and form.validate():\n",
    "    if form.validate_on_submit():  # this method is available in `from flask.ext.wtf.Form`\n",
    "        context['form_data'] = form.data\n",
    "\n",
    "    return render_template('register.html', **context)\n",
    "\n",
    "if __name__ == '__main__':\n",
    "    app.secret_key = 'SECRET_KEY'\n",
    "    app.run(debug=True)"
   ]
  },
  {
   "cell_type": "markdown",
   "metadata": {},
   "source": [
    "In our `register()` function, the `RegistrationForm` gets instantiated either with the `request.form` data if it is available or `None` as default. Validation will fail when there is no data but will go through the validation process if there is. Form errors will be returned if validation fails.\n",
    "\n",
    "In our conditional statement, the form data is added to the context data passed to the template. We'll just render this in the page. The template code is below.\n",
    "\n",
    "## Render the {{ form }}"
   ]
  },
  {
   "cell_type": "code",
   "execution_count": null,
   "metadata": {
    "collapsed": false
   },
   "outputs": [],
   "source": [
    "%%html\n",
    "<h1>Registration</h1>\n",
    "{% if form_data %}\n",
    "    <h2>Thanks for submitting!</h2>\n",
    "    {% for key, value in form_data.items() %}\n",
    "        <p>{{ key }}: {{ value }}</p>\n",
    "    {% endfor %}\n",
    "{% endif %}\n",
    "\n",
    "<form method=\"POST\" action=\"/\">\n",
    "    <div>{{ form.username.label }}: {{ form.username() }}</div>\n",
    "    {% if form.username.errors %}\n",
    "        <ul class=\"errors\">{% for error in form.username.errors %}<li>{{ error }}</li>{% endfor %}</ul>\n",
    "    {% endif %}\n",
    "\n",
    "    <div>{{ form.email.label }}: {{ form.email() }}</div>\n",
    "    {% if form.email.errors %}\n",
    "        <ul class=\"errors\">{% for error in form.email.errors %}<li>{{ error }}</li>{% endfor %}</ul>\n",
    "    {% endif %}\n",
    "\n",
    "    <div>{{ form.password.label }}: {{ form.password() }}</div>\n",
    "    {% if form.password.errors %}\n",
    "        <ul class=\"errors\">{% for error in form.password.errors %}<li>{{ error }}</li>{% endfor %}</ul>\n",
    "    {% endif %}\n",
    "\n",
    "    <div>{{ form.confirm.label }}: {{ form.confirm() }}</div>\n",
    "    {% if form.confirm.errors %}\n",
    "        <ul class=\"errors\">{% for error in form.confirm.errors %}<li>{{ error }}</li>{% endfor %}</ul>\n",
    "    {% endif %}\n",
    "\n",
    "    {{ form.csrf_token }}\n",
    "    <button value=\"submit\">Submit</button>\n",
    "</form>"
   ]
  },
  {
   "cell_type": "markdown",
   "metadata": {},
   "source": [
    "In our template code, the first part just displays the submitted form data if available.\n",
    "\n",
    "The second part is our form. The `<form>` tag should be included in the HTML together with the `method` and `action` attributes.\n",
    "\n",
    "Nested in the HTML form are attributes of the form object generated from WTForms. We are displaying each per form field:\n",
    "- Label\n",
    "- Input\n",
    "- Errors (if any)\n",
    "\n",
    "Then finally the submit button.\n",
    "\n",
    "Let's see the code in action."
   ]
  },
  {
   "cell_type": "code",
   "execution_count": null,
   "metadata": {
    "collapsed": false
   },
   "outputs": [],
   "source": [
    "!python app.py"
   ]
  },
  {
   "cell_type": "markdown",
   "metadata": {
    "collapsed": true
   },
   "source": [
    "This small Flask demo uses WTForms to create a registration form that displays submitted data on the page. It uses the code in the examples. Read the documentation for more information.\n",
    "\n",
    "#### Exercise:\n",
    "\n",
    "In the previous notebook, you created a webpage that showcases an upcoming product. Recreate it using WTForms. Add an admin login to it. You can hardcode the admin credentials for now."
   ]
  }
 ],
 "metadata": {
  "kernelspec": {
   "display_name": "Python 3",
   "language": "python",
   "name": "python3"
  },
  "language_info": {
   "codemirror_mode": {
    "name": "ipython",
    "version": 3
   },
   "file_extension": ".py",
   "mimetype": "text/x-python",
   "name": "python",
   "nbconvert_exporter": "python",
   "pygments_lexer": "ipython3",
   "version": "3.5.1"
  }
 },
 "nbformat": 4,
 "nbformat_minor": 0
}
